{
  "nbformat": 4,
  "nbformat_minor": 0,
  "metadata": {
    "colab": {
      "name": "CatDog-V4(ResNet50)-WNB.ipynb",
      "provenance": [],
      "collapsed_sections": [
        "oWRkcK_DSUbv",
        "EVBnV--PfgFR",
        "KPsChc1HfR1g",
        "V4SidOu22W9T"
      ],
      "toc_visible": true,
      "include_colab_link": true
    },
    "kernelspec": {
      "name": "python3",
      "display_name": "Python 3"
    },
    "accelerator": "GPU"
  },
  "cells": [
    {
      "cell_type": "markdown",
      "metadata": {
        "id": "view-in-github",
        "colab_type": "text"
      },
      "source": [
        "<a href=\"https://colab.research.google.com/github/JimEverest/Deeplearning_Colab/blob/master/CatDog_V4(ResNet50)_WNB.ipynb\" target=\"_parent\"><img src=\"https://colab.research.google.com/assets/colab-badge.svg\" alt=\"Open In Colab\"/></a>"
      ]
    },
    {
      "cell_type": "markdown",
      "metadata": {
        "id": "QP7HS9c8MCXx",
        "colab_type": "text"
      },
      "source": [
        "#For Tensorboard ext"
      ]
    },
    {
      "cell_type": "code",
      "metadata": {
        "id": "y_NzvnlSIK-r",
        "colab_type": "code",
        "outputId": "0e928f8d-c42d-489c-f5a6-6742e234f366",
        "colab": {
          "base_uri": "https://localhost:8080/",
          "height": 35
        }
      },
      "source": [
        "try:\n",
        "  # %tensorflow_version only exists in Colab.\n",
        "  %tensorflow_version 2.x\n",
        "except Exception:\n",
        "  print(\"TF2 Not working\")\n",
        "  pass\n",
        "\n",
        "# Load the TensorBoard notebook extension\n",
        "%load_ext tensorboard"
      ],
      "execution_count": 1,
      "outputs": [
        {
          "output_type": "stream",
          "text": [
            "TensorFlow 2.x selected.\n"
          ],
          "name": "stdout"
        }
      ]
    },
    {
      "cell_type": "markdown",
      "metadata": {
        "id": "ezHskie4MJxD",
        "colab_type": "text"
      },
      "source": [
        "#import"
      ]
    },
    {
      "cell_type": "code",
      "metadata": {
        "id": "dn-6c02VmqiN",
        "colab_type": "code",
        "colab": {
          "base_uri": "https://localhost:8080/",
          "height": 35
        },
        "outputId": "6172304f-db64-41bb-bc0a-519e362d8a86"
      },
      "source": [
        "# In this exercise you will train a CNN on the FULL Cats-v-dogs dataset\n",
        "# This will require you doing a lot of data preprocessing because\n",
        "# the dataset isn't split into training and validation for you\n",
        "# This code block has all the required inputs\n",
        "import os\n",
        "import zipfile\n",
        "import random\n",
        "import tensorflow as tf\n",
        "from tensorflow.keras.optimizers import RMSprop\n",
        "from tensorflow.keras.preprocessing.image import ImageDataGenerator\n",
        "from shutil import copyfile\n",
        "import datetime\n",
        "\n",
        "from tensorflow import keras\n",
        "from tensorflow.keras import layers\n",
        "\n",
        "from tensorflow.keras.callbacks import ModelCheckpoint, ReduceLROnPlateau,EarlyStopping\n",
        "from tensorflow.keras.optimizers import Adam\n",
        "from keras.initializers import glorot_uniform\n",
        "\n",
        "import requests"
      ],
      "execution_count": 2,
      "outputs": [
        {
          "output_type": "stream",
          "text": [
            "Using TensorFlow backend.\n"
          ],
          "name": "stderr"
        }
      ]
    },
    {
      "cell_type": "code",
      "metadata": {
        "id": "JZ57DMLp_Tc_",
        "colab_type": "code",
        "outputId": "d4309103-1966-4193-8778-7a2c092546c7",
        "colab": {
          "base_uri": "https://localhost:8080/",
          "height": 35
        }
      },
      "source": [
        "tf.__version__"
      ],
      "execution_count": 3,
      "outputs": [
        {
          "output_type": "execute_result",
          "data": {
            "text/plain": [
              "'2.1.0-rc1'"
            ]
          },
          "metadata": {
            "tags": []
          },
          "execution_count": 3
        }
      ]
    },
    {
      "cell_type": "markdown",
      "metadata": {
        "id": "_LMyh-Ljn0sp",
        "colab_type": "text"
      },
      "source": [
        "# W and B\n",
        "[Quick Start](https://docs.wandb.com/quickstart)"
      ]
    },
    {
      "cell_type": "code",
      "metadata": {
        "id": "qi84TgqznBR_",
        "colab_type": "code",
        "colab": {}
      },
      "source": [
        "# !pip install wandb\n",
        "\n",
        "import wandb\n",
        "from wandb.keras import WandbCallback\n",
        "#bdc4ecd13b42f56d349429a38d217e9ed358809a"
      ],
      "execution_count": 0,
      "outputs": []
    },
    {
      "cell_type": "code",
      "metadata": {
        "id": "iiAU9hGEnQqL",
        "colab_type": "code",
        "outputId": "ac2d1899-79a0-4f18-ef76-67b8062064e6",
        "colab": {
          "base_uri": "https://localhost:8080/",
          "height": 90
        }
      },
      "source": [
        "!wandb login"
      ],
      "execution_count": 51,
      "outputs": [
        {
          "output_type": "stream",
          "text": [
            "\u001b[34m\u001b[1mwandb\u001b[0m: You can find your API key in your browser here: https://app.wandb.ai/authorize\n",
            "\u001b[34m\u001b[1mwandb\u001b[0m: Paste an API key from your profile and hit enter: bdc4ecd13b42f56d349429a38d217e9ed358809a\n",
            "\u001b[34m\u001b[1mwandb\u001b[0m: Appending key for api.wandb.ai to your netrc file: /root/.netrc\n",
            "\u001b[32mSuccessfully logged in to Weights & Biases!\u001b[0m\n"
          ],
          "name": "stdout"
        }
      ]
    },
    {
      "cell_type": "code",
      "metadata": {
        "id": "MLWTUh8UnshT",
        "colab_type": "code",
        "outputId": "d09bbaea-dd25-4ca3-cb48-f2d4d1dd2f69",
        "colab": {
          "base_uri": "https://localhost:8080/",
          "height": 69
        }
      },
      "source": [
        "# name — A display name for this run\n",
        "# notes — A multiline string description associated with the run\n",
        "# config — a dictionary-like object to set as initial config\n",
        "# project — the name of the project to which this run will belong\n",
        "# tags — a list of strings to associate with this run as tags\n",
        "# dir — the path to a directory where artifacts will be written (default: ./wandb)\n",
        "# entity — the team posting this run (default: your username or your default team)\n",
        "# job_type — the type of job you are logging, e.g. eval, worker, ps (default: training)\n",
        "# group — a string by which to group other runs; see Grouping\n",
        "# reinit — whether to allow multiple calls to wandb.init in the same process (default: False)\n",
        "# id — A unique id for this run primarily used for resuming; see Resuming, must be globally unique within a project\n",
        "# resume — if set to True, the run auto resumes; can also be a unique string for manual resuming; see Resuming (default: False)\n",
        "# anonymous — can be \"allow\", \"never\", or \"must\". This enables or explicitly disables anonymous logging. (default: None)\n",
        "# force — whether to force a user to be logged into wandb when running a script (default: False)\n",
        "# magic — (bool, dict, or str, optional): magic configuration as bool, dict, json string, yaml filename. If set to True will attempt to auto-instrument your script. (default: None)\n",
        "# sync_tensorboard — A boolean indicating whether or not copy all tensorboard logs wandb; see Tensorboard (default: False)\n",
        "# monitor_gym — A boolean indicating whether or not to log videos generated by OpenAI Gym; see Ray Tune (default: False)\n",
        "# allow_val_change — whether to allow wandb.config values to change, by default we throw an exception if config values are overwritten. (default: False)\n",
        "\n",
        "wandb.init( name = \"CatDog-V4(ResNet50)_2\" , project=\"CAT_DOG\")\n",
        "config = wandb.config\n",
        "\n",
        "config.batch_size = 32\n",
        "config.epochs=5"
      ],
      "execution_count": 69,
      "outputs": [
        {
          "output_type": "display_data",
          "data": {
            "text/html": [
              "\n",
              "                Logging results to <a href=\"https://wandb.com\" target=\"_blank\">Weights & Biases</a> <a href=\"https://docs.wandb.com/integrations/jupyter.html\" target=\"_blank\">(Documentation)</a>.<br/>\n",
              "                Project page: <a href=\"https://app.wandb.ai/tianwai263/CAT_DOG\" target=\"_blank\">https://app.wandb.ai/tianwai263/CAT_DOG</a><br/>\n",
              "                Run page: <a href=\"https://app.wandb.ai/tianwai263/CAT_DOG/runs/t49nxzzi\" target=\"_blank\">https://app.wandb.ai/tianwai263/CAT_DOG/runs/t49nxzzi</a><br/>\n",
              "            "
            ],
            "text/plain": [
              "<IPython.core.display.HTML object>"
            ]
          },
          "metadata": {
            "tags": []
          }
        }
      ]
    },
    {
      "cell_type": "markdown",
      "metadata": {
        "id": "h1kvQp-ZMMrw",
        "colab_type": "text"
      },
      "source": [
        "# Download/Split Data"
      ]
    },
    {
      "cell_type": "code",
      "metadata": {
        "id": "rZb1G0L8SghS",
        "colab_type": "code",
        "outputId": "f70b3551-29c3-421e-c4b5-9492ab184627",
        "colab": {
          "base_uri": "https://localhost:8080/",
          "height": 128
        }
      },
      "source": [
        "from google.colab import drive\n",
        "drive.mount('/content/drive')"
      ],
      "execution_count": 17,
      "outputs": [
        {
          "output_type": "stream",
          "text": [
            "Go to this URL in a browser: https://accounts.google.com/o/oauth2/auth?client_id=947318989803-6bn6qk8qdgf4n4g3pfee6491hc0brc4i.apps.googleusercontent.com&redirect_uri=urn%3aietf%3awg%3aoauth%3a2.0%3aoob&response_type=code&scope=email%20https%3a%2f%2fwww.googleapis.com%2fauth%2fdocs.test%20https%3a%2f%2fwww.googleapis.com%2fauth%2fdrive%20https%3a%2f%2fwww.googleapis.com%2fauth%2fdrive.photos.readonly%20https%3a%2f%2fwww.googleapis.com%2fauth%2fpeopleapi.readonly\n",
            "\n",
            "Enter your authorization code:\n",
            "··········\n",
            "Mounted at /content/drive\n"
          ],
          "name": "stdout"
        }
      ]
    },
    {
      "cell_type": "code",
      "metadata": {
        "id": "4SpMfKCBSVV5",
        "colab_type": "code",
        "colab": {}
      },
      "source": [
        "# don't have to exec each time...\n",
        "\n",
        "\n",
        "\n",
        "def Download_file_2_Drive(url,path):\n",
        "  file_url = url #\"https://download.microsoft.com/download/3/E/1/3E1C3F21-ECDB-4869-8368-6DEBA77B919F/kagglecatsanddogs_3367a.zip\"\n",
        "  file_name = file_url.split(\"/\")[-1]\n",
        "  r = requests.get(file_url, stream = True)  \n",
        "\n",
        "  dest_path = path #\"/content/drive/Shared drives/Share/Data/\"\n",
        "  os.makedirs(dest_path, exist_ok=True)\n",
        "  dest_path = os.path.join(dest_path,file_name)\n",
        "  with open(dest_path, \"wb\") as file:  \n",
        "      for block in r.iter_content(chunk_size = 1024): \n",
        "          if block:  \n",
        "              file.write(block)  \n",
        "\n",
        "Download_file_2_Drive(\"https://download.microsoft.com/download/3/E/1/3E1C3F21-ECDB-4869-8368-6DEBA77B919F/kagglecatsanddogs_3367a.zip\", \"/content/drive/Shared drives/Share/Data/\")\n",
        "\n",
        "# Download_file_2_Drive(\"https://download.microsoft.com/download/3/E/1/3E1C3F21-ECDB-4869-8368-6DEBA77B919F/kagglecatsanddogs_3367a.zip\", \"/content/drive/My Drive/Data/\")\n",
        "\n",
        "\n"
      ],
      "execution_count": 0,
      "outputs": []
    },
    {
      "cell_type": "code",
      "metadata": {
        "id": "h8l-O6ZZBztc",
        "colab_type": "code",
        "outputId": "339faadb-8d28-4ff7-812e-a3659b843c2a",
        "colab": {
          "base_uri": "https://localhost:8080/",
          "height": 326
        }
      },
      "source": [
        "!nvidia-smi"
      ],
      "execution_count": 18,
      "outputs": [
        {
          "output_type": "stream",
          "text": [
            "Wed Jan 15 05:14:44 2020       \n",
            "+-----------------------------------------------------------------------------+\n",
            "| NVIDIA-SMI 440.44       Driver Version: 418.67       CUDA Version: 10.1     |\n",
            "|-------------------------------+----------------------+----------------------+\n",
            "| GPU  Name        Persistence-M| Bus-Id        Disp.A | Volatile Uncorr. ECC |\n",
            "| Fan  Temp  Perf  Pwr:Usage/Cap|         Memory-Usage | GPU-Util  Compute M. |\n",
            "|===============================+======================+======================|\n",
            "|   0  Tesla K80           Off  | 00000000:00:04.0 Off |                    0 |\n",
            "| N/A   49C    P8    29W / 149W |      0MiB / 11441MiB |      0%      Default |\n",
            "+-------------------------------+----------------------+----------------------+\n",
            "                                                                               \n",
            "+-----------------------------------------------------------------------------+\n",
            "| Processes:                                                       GPU Memory |\n",
            "|  GPU       PID   Type   Process name                             Usage      |\n",
            "|=============================================================================|\n",
            "|  No running processes found                                                 |\n",
            "+-----------------------------------------------------------------------------+\n"
          ],
          "name": "stdout"
        }
      ]
    },
    {
      "cell_type": "code",
      "metadata": {
        "id": "SfZzwpkKTahh",
        "colab_type": "code",
        "colab": {}
      },
      "source": [
        "!cp \"/content/drive/Shared drives/Share/Data/kagglecatsanddogs_3367a.zip\" \"/tmp/cats-and-dogs1.zip\"\n",
        "# !cp \"/content/drive/My Drive/Data/kagglecatsanddogs_3367a.zip\" \"/tmp/cats-and-dogs1.zip\""
      ],
      "execution_count": 0,
      "outputs": []
    },
    {
      "cell_type": "code",
      "metadata": {
        "id": "3sd9dQWa23aj",
        "colab_type": "code",
        "colab": {}
      },
      "source": [
        "# (Deprecated) Download to colab runtime tmp folder \n",
        "\n",
        "# If the URL doesn't work,   visit https://www.microsoft.com/en-us/download/confirmation.aspx?id=54765\n",
        "# !wget --no-check-certificate \\\n",
        "#     \"https://download.microsoft.com/download/3/E/1/3E1C3F21-ECDB-4869-8368-6DEBA77B919F/kagglecatsanddogs_3367a.zip\" \\\n",
        "#     -O \"/tmp/cats-and-dogs.zip\"\n",
        "\n"
      ],
      "execution_count": 0,
      "outputs": []
    },
    {
      "cell_type": "code",
      "metadata": {
        "id": "XRUpA9TjcLMf",
        "colab_type": "code",
        "colab": {}
      },
      "source": [
        "local_zip = '/tmp/cats-and-dogs1.zip'\n",
        "zip_ref = zipfile.ZipFile(local_zip, 'r')\n",
        "zip_ref.extractall('/tmp')\n",
        "zip_ref.close()\n"
      ],
      "execution_count": 0,
      "outputs": []
    },
    {
      "cell_type": "code",
      "metadata": {
        "id": "rzLOAHfH-UD4",
        "colab_type": "code",
        "colab": {}
      },
      "source": [
        "# Unzip to My Drive (Gdrive)\n",
        "\n",
        "# local_zip = '/content/drive/My Drive/Data/kagglecatsanddogs_3367a.zip'\n",
        "# zip_ref = zipfile.ZipFile(local_zip, 'r')\n",
        "# zip_ref.extractall('/content/drive/My Drive/Data/')\n",
        "# zip_ref.close()\n"
      ],
      "execution_count": 0,
      "outputs": []
    },
    {
      "cell_type": "code",
      "metadata": {
        "id": "gi3yD62a6X3S",
        "colab_type": "code",
        "outputId": "18836fcf-5ff1-41f1-b080-2e65fd427942",
        "colab": {
          "base_uri": "https://localhost:8080/",
          "height": 54
        }
      },
      "source": [
        "print(len(os.listdir('/tmp/PetImages/Cat/')))\n",
        "print(len(os.listdir('/tmp/PetImages/Dog/')))\n",
        "\n",
        "# Expected Output:\n",
        "# 12501\n",
        "# 12501"
      ],
      "execution_count": 22,
      "outputs": [
        {
          "output_type": "stream",
          "text": [
            "12501\n",
            "12501\n"
          ],
          "name": "stdout"
        }
      ]
    },
    {
      "cell_type": "code",
      "metadata": {
        "id": "F-QkLjxpmyK2",
        "colab_type": "code",
        "colab": {}
      },
      "source": [
        "# Use os.mkdir to create your directories\n",
        "# You will need a directory for cats-v-dogs, and subdirectories for training\n",
        "# and testing. These in turn will need subdirectories for 'cats' and 'dogs'\n",
        "try:\n",
        "    #YOUR CODE GOES HERE\n",
        "    os.mkdir(\"/tmp/cats-v-dogs\")\n",
        "    os.mkdir(\"/tmp/cats-v-dogs/training\")\n",
        "    os.mkdir(\"/tmp/cats-v-dogs/training/cats\")\n",
        "    os.mkdir(\"/tmp/cats-v-dogs/training/dogs\")\n",
        "    os.mkdir(\"/tmp/cats-v-dogs/testing\")\n",
        "    os.mkdir(\"/tmp/cats-v-dogs/testing/cats\")\n",
        "    os.mkdir(\"/tmp/cats-v-dogs/testing/dogs\")\n",
        "except OSError:\n",
        "    pass"
      ],
      "execution_count": 0,
      "outputs": []
    },
    {
      "cell_type": "code",
      "metadata": {
        "id": "Om7ta6BNnLLE",
        "colab_type": "code",
        "colab": {}
      },
      "source": [
        ""
      ],
      "execution_count": 0,
      "outputs": []
    },
    {
      "cell_type": "code",
      "metadata": {
        "id": "zvSODo0f9LaU",
        "colab_type": "code",
        "colab": {}
      },
      "source": [
        "# Write a python function called split_data which takes\n",
        "# a SOURCE directory containing the files\n",
        "# a TRAINING directory that a portion of the files will be copied to\n",
        "# a TESTING directory that a portion of the files will be copie to\n",
        "# a SPLIT SIZE to determine the portion\n",
        "# The files should also be randomized, so that the training set is a random\n",
        "# X% of the files, and the test set is the remaining files\n",
        "# SO, for example, if SOURCE is PetImages/Cat, and SPLIT SIZE is .9\n",
        "# Then 90% of the images in PetImages/Cat will be copied to the TRAINING dir\n",
        "# and 10% of the images will be copied to the TESTING dir\n",
        "# Also -- All images should be checked, and if they have a zero file length,\n",
        "# they will not be copied over\n",
        "#\n",
        "# os.listdir(DIRECTORY) gives you a listing of the contents of that directory\n",
        "# os.path.getsize(PATH) gives you the size of the file\n",
        "# copyfile(source, destination) copies a file from source to destination\n",
        "# random.sample(list, len(list)) shuffles a list\n",
        "def split_data(SOURCE, TRAINING, TESTING, SPLIT_SIZE):\n",
        "# YOUR CODE STARTS HERE\n",
        "  files=os.listdir(SOURCE)\n",
        "  flen= len(files)\n",
        "  trainLen= int(flen * SPLIT_SIZE)\n",
        "  rFiles=random.sample(files,len(files))\n",
        "  trains=rFiles[:trainLen]\n",
        "  tests= rFiles[trainLen:]\n",
        "  for trF in trains:\n",
        "    if(os.path.getsize(os.path.join(SOURCE,trF))>0):\n",
        "      copyfile(os.path.join( SOURCE,trF),os.path.join( TRAINING,trF) )\n",
        "  for teF in tests:\n",
        "    if(os.path.getsize(os.path.join( SOURCE,teF))>0):\n",
        "      copyfile(os.path.join( SOURCE,teF), os.path.join( TESTING,teF) )\n",
        "\n",
        "# YOUR CODE ENDS HERE\n",
        "\n",
        "\n",
        "CAT_SOURCE_DIR = \"/tmp/PetImages/Cat/\"\n",
        "TRAINING_CATS_DIR = \"/tmp/cats-v-dogs/training/cats/\"\n",
        "TESTING_CATS_DIR = \"/tmp/cats-v-dogs/testing/cats/\"\n",
        "DOG_SOURCE_DIR = \"/tmp/PetImages/Dog/\"\n",
        "TRAINING_DOGS_DIR = \"/tmp/cats-v-dogs/training/dogs/\"\n",
        "TESTING_DOGS_DIR = \"/tmp/cats-v-dogs/testing/dogs/\"\n",
        "\n",
        "split_size = .9\n",
        "split_data(CAT_SOURCE_DIR, TRAINING_CATS_DIR, TESTING_CATS_DIR, split_size)\n",
        "split_data(DOG_SOURCE_DIR, TRAINING_DOGS_DIR, TESTING_DOGS_DIR, split_size)\n",
        "\n",
        "# Expected output\n",
        "# 666.jpg is zero length, so ignoring\n",
        "# 11702.jpg is zero length, so ignoring"
      ],
      "execution_count": 0,
      "outputs": []
    },
    {
      "cell_type": "code",
      "metadata": {
        "id": "luthalB76ufC",
        "colab_type": "code",
        "outputId": "e360da8e-b1a2-43fd-99b4-ddebeaf5ac74",
        "colab": {
          "base_uri": "https://localhost:8080/",
          "height": 90
        }
      },
      "source": [
        "print(len(os.listdir('/tmp/cats-v-dogs/training/cats/')))\n",
        "print(len(os.listdir('/tmp/cats-v-dogs/training/dogs/')))\n",
        "print(len(os.listdir('/tmp/cats-v-dogs/testing/cats/')))\n",
        "print(len(os.listdir('/tmp/cats-v-dogs/testing/dogs/')))\n",
        "\n",
        "# Expected output:\n",
        "# 11250\n",
        "# 11250\n",
        "# 1250\n",
        "# 1250"
      ],
      "execution_count": 4,
      "outputs": [
        {
          "output_type": "stream",
          "text": [
            "11249\n",
            "11249\n",
            "1251\n",
            "1251\n"
          ],
          "name": "stdout"
        }
      ]
    },
    {
      "cell_type": "markdown",
      "metadata": {
        "id": "sXmD-Y9NMZ27",
        "colab_type": "text"
      },
      "source": [
        "# Keras Model"
      ]
    },
    {
      "cell_type": "code",
      "metadata": {
        "id": "DRG7n-EYMDoP",
        "colab_type": "code",
        "colab": {}
      },
      "source": [
        "LR = 3e-3\n",
        "DECAY = 0.4\n",
        "targetSize = (150,150)\n",
        "Epochs = 50\n",
        "input_data_shape = (150, 150, 3)"
      ],
      "execution_count": 0,
      "outputs": []
    },
    {
      "cell_type": "code",
      "metadata": {
        "id": "S-0NWSoyc7CX",
        "colab_type": "code",
        "outputId": "d038c070-3c53-446d-9643-ef6a8558be4b",
        "colab": {
          "base_uri": "https://localhost:8080/",
          "height": 35
        }
      },
      "source": [
        "LR"
      ],
      "execution_count": 6,
      "outputs": [
        {
          "output_type": "execute_result",
          "data": {
            "text/plain": [
              "0.003"
            ]
          },
          "metadata": {
            "tags": []
          },
          "execution_count": 6
        }
      ]
    },
    {
      "cell_type": "markdown",
      "metadata": {
        "id": "VNLycMSGfnhb",
        "colab_type": "text"
      },
      "source": [
        "#ResNet"
      ]
    },
    {
      "cell_type": "markdown",
      "metadata": {
        "id": "ZqqfFSlGTk2V",
        "colab_type": "text"
      },
      "source": [
        "A simple identity block of ResNet:\n",
        "<img src=\"https://drive.google.com/uc?export=view&id=1FFOPEKHyXxVhSdw3soFIWYjnkq6dDVX7\" style=\"width:650px;height:150px;\">\n",
        "\n",
        "\n",
        "A slightly **more powerful** version of this identity block, in which the skip connection \"skips over\" 3 hidden layers rather than 2 layers. It looks like this:\n",
        "<img src=\"https://drive.google.com/uc?export=view&id=1-_vkZz0uOcyYQcWqaBgI_i2yeK-P-mom\" style=\"width:650px;height:150px;\"/>\n",
        "\n",
        "\n",
        "`1ST component of main path:`\n",
        "\n",
        "The first CONV2D has  `F1`  filters of shape `(1,1)` and a stride of (1,1). Its padding is `\"valid\"` and its name should be conv_name_base + '2a'. Use 0 as the seed for the random initialization.\n",
        "The first BatchNorm is normalizing the 'channels' axis. Its name should be bn_name_base + '2a'.\n",
        "Then apply the ReLU activation function. This has no name and no hyperparameters.\n",
        "\n",
        "\n",
        "`2ND component of main path:`\n",
        "\n",
        "The second CONV2D has  `F2`  filters of shape  `(f,f)`  and a stride of (1,1). Its padding is `\"same\"` and its name should be conv_name_base + '2b'. Use 0 as the seed for the random initialization.\n",
        "The second BatchNorm is normalizing the 'channels' axis. Its name should be bn_name_base + '2b'.\n",
        "Then apply the ReLU activation function. This has no name and no hyperparameters.\n",
        "\n",
        "\n",
        "`3RD component of main path:`\n",
        "\n",
        "The third CONV2D has  `F3`  filters of shape `(1,1)` and a stride of (1,1). Its padding is `\"valid\"` and its name should be conv_name_base + '2c'. Use 0 as the seed for the random initialization.\n",
        "The third BatchNorm is normalizing the 'channels' axis. Its name should be bn_name_base + '2c'.\n",
        "Note that there is no ReLU activation function in this component.\n",
        "\n",
        "`Final step:`\n",
        "\n",
        "The X_shortcut and the output from the 3rd layer X are added together.\n",
        "Hint: The syntax will look something like Add()([var1,var2])\n",
        "Then apply the ReLU activation function. This has no name and no hyperparameters."
      ]
    },
    {
      "cell_type": "code",
      "metadata": {
        "id": "-MqVYtK2CzZw",
        "colab_type": "code",
        "colab": {}
      },
      "source": [
        "\"\"\"\n",
        "Implementation of the identity block as defined in Figure 3\n",
        "\n",
        "Arguments:\n",
        "X -- input tensor of shape (m, n_H_prev, n_W_prev, n_C_prev)\n",
        "f -- integer, specifying the shape of the middle CONV's window for the main path\n",
        "filters -- python list of integers, defining the number of filters in the CONV layers of the main path\n",
        "stage -- integer, used to name the layers, depending on their position in the network\n",
        "block -- string/character, used to name the layers, depending on their position in the network\n",
        "\n",
        "Returns:\n",
        "X -- output of the identity block, tensor of shape (n_H, n_W, n_C)\n",
        "\"\"\"\n",
        "def identity_block(X, f, filters, stage, block ):\n",
        "  conv_name_base=\"RES_CONV_\" + str(stage) + \"_\" + str(block)\n",
        "  bn_name_base=\"RES_BN_\" + str(stage) + \"_\" + str(block)\n",
        "  X_Short = X\n",
        "  F1,F2,F3 = filters\n",
        "  #1st\n",
        "  x = layers.Conv2D( F1, (1,1), padding='valid',activation=None, kernel_initializer=glorot_uniform(seed=0), name = conv_name_base + '2a')(X)\n",
        "  x = layers.BatchNormalization(name=bn_name_base + '2a')(x)\n",
        "  x = layers.Activation(\"relu\")(x)\n",
        "\n",
        "  #2nd\n",
        "  x = layers.Conv2D( F2, (f,f), padding='same',activation=None, kernel_initializer=glorot_uniform(seed=0), name = conv_name_base + '2b')(x)\n",
        "  x = layers.BatchNormalization(name=bn_name_base + '2b')(x)\n",
        "  x = layers.Activation(\"relu\")(x)\n",
        "\n",
        "  #3rd\n",
        "  x = layers.Conv2D( F3, (1,1), padding='valid',activation=None, kernel_initializer=glorot_uniform(seed=0), name = conv_name_base + '2c')(X)\n",
        "  x = layers.BatchNormalization(name=bn_name_base + '2c')(x)\n",
        " \n",
        "\n",
        "  x = layers.Add()([x,X_Short])\n",
        "  x = layers.Activation(\"relu\")(x)\n",
        "  return x"
      ],
      "execution_count": 0,
      "outputs": []
    },
    {
      "cell_type": "markdown",
      "metadata": {
        "id": "iOEL_akbJmOC",
        "colab_type": "text"
      },
      "source": [
        "## 2.2 - The convolutional block\n",
        "\n",
        "The ResNet \"convolutional block\" is the second block type. \n",
        "\n",
        "You can use this type of block `when the input and output dimensions don't match up`. \n",
        "\n",
        "The difference with the identity block is that there is a CONV2D layer in the shortcut path: \n",
        "\n",
        "<img src=\"https://drive.google.com/uc?export=view&id=13z57SPRfNMooBdV_NZuWGLiqfbWQo8dH\" style=\"width:650px;height:150px;\">\n",
        "<caption><center> <u> <font color='purple'> **Figure 4** </u><font color='purple'>  : **Convolutional block** </center></caption>\n",
        "\n",
        "* The CONV2D layer in the shortcut path is used to resize the input $x$ to a different dimension, so that the dimensions match up in the final addition needed to add the shortcut value back to the main path. (This plays a similar role as the matrix $W_s$ discussed in lecture.) \n",
        "* For example, to reduce the activation dimensions's height and width by a factor of 2, you can use a 1x1 convolution with a stride of 2. \n",
        "* The CONV2D layer on the shortcut path does not use any non-linear activation function. Its main role is to just apply a (learned) linear function that reduces the dimension of the input, so that the dimensions match up for the later addition step. \n",
        "\n",
        "The details of the convolutional block are as follows. \n",
        "\n",
        "First component of main path:\n",
        "- The first CONV2D has $F_1$ filters of shape (1,1) and a stride of (s,s). Its padding is \"valid\" and its name should be `conv_name_base + '2a'`. Use 0 as the `glorot_uniform` seed.\n",
        "- The first BatchNorm is normalizing the 'channels' axis.  Its name should be `bn_name_base + '2a'`.\n",
        "- Then apply the ReLU activation function. This has no name and no hyperparameters. \n",
        "\n",
        "Second component of main path:\n",
        "- The second CONV2D has $F_2$ filters of shape (f,f) and a stride of (1,1). Its padding is \"same\" and it's name should be `conv_name_base + '2b'`.  Use 0 as the `glorot_uniform` seed.\n",
        "- The second BatchNorm is normalizing the 'channels' axis.  Its name should be `bn_name_base + '2b'`.\n",
        "- Then apply the ReLU activation function. This has no name and no hyperparameters. \n",
        "\n",
        "Third component of main path:\n",
        "- The third CONV2D has $F_3$ filters of shape (1,1) and a stride of (1,1). Its padding is \"valid\" and it's name should be `conv_name_base + '2c'`.  Use 0 as the `glorot_uniform` seed.\n",
        "- The third BatchNorm is normalizing the 'channels' axis.  Its name should be `bn_name_base + '2c'`. Note that there is no ReLU activation function in this component. \n",
        "\n",
        "Shortcut path:\n",
        "- The CONV2D has $F_3$ filters of shape (1,1) and a stride of (s,s). Its padding is \"valid\" and its name should be `conv_name_base + '1'`.  Use 0 as the `glorot_uniform` seed.\n",
        "- The BatchNorm is normalizing the 'channels' axis.  Its name should be `bn_name_base + '1'`. \n",
        "\n",
        "Final step: \n",
        "- The shortcut and the main path values are added together.\n",
        "- Then apply the ReLU activation function. This has no name and no hyperparameters. \n",
        "    \n",
        "**Exercise**: Implement the convolutional block. We have implemented the first component of the main path; you should implement the rest. As before, always use 0 as the seed for the random initialization, to ensure consistency with our grader.\n",
        "- [Conv2D](https://keras.io/layers/convolutional/#conv2d)\n",
        "- [BatchNormalization](https://keras.io/layers/normalization/#batchnormalization) (axis: Integer, the axis that should be normalized (typically the features axis))\n",
        "- For the activation, use:  `Activation('relu')(X)`\n",
        "- [Add](https://keras.io/layers/merge/#add)"
      ]
    },
    {
      "cell_type": "code",
      "metadata": {
        "id": "c1nXB7zDKKhN",
        "colab_type": "code",
        "colab": {}
      },
      "source": [
        "    # # Stage 1\n",
        "    # X = Conv2D(64, (7, 7), strides=(2, 2), name='conv1', kernel_initializer=glorot_uniform(seed=0))(X)\n",
        "    # X = BatchNormalization(axis=3, name='bn_conv1')(X)\n",
        "    # X = Activation('relu')(X)\n",
        "    # X = MaxPooling2D((3, 3), strides=(2, 2))(X)\n",
        "\n",
        "    # # Stage 2\n",
        "    # X = convolutional_block(X, f=3, filters=[64, 64, 256], stage=2, block='a', s=1)\n",
        "    # X = identity_block(X, 3, [64, 64, 256], stage=2, block='b')\n",
        "    # X = identity_block(X, 3, [64, 64, 256], stage=2, block='c')"
      ],
      "execution_count": 0,
      "outputs": []
    },
    {
      "cell_type": "code",
      "metadata": {
        "id": "Ey-DAMycIt2b",
        "colab_type": "code",
        "colab": {}
      },
      "source": [
        "\"\"\"\n",
        "Implementation of the convolutional block as defined in Figure 4\n",
        "\n",
        "Arguments:\n",
        "X -- input tensor of shape (m, n_H_prev, n_W_prev, n_C_prev)\n",
        "f -- integer, specifying the shape of the middle CONV's window for the main path\n",
        "filters -- python list of integers, defining the number of filters in the CONV layers of the main path\n",
        "stage -- integer, used to name the layers, depending on their position in the network\n",
        "block -- string/character, used to name the layers, depending on their position in the network\n",
        "s -- Integer, specifying the stride to be used\n",
        "\n",
        "Returns:\n",
        "X -- output of the convolutional block, tensor of shape (n_H, n_W, n_C)\n",
        "\"\"\"\n",
        "def convolutional_block(X, f, filters,stage,block, s):\n",
        "  conv_name_base = \"Res_Conv_\" + str(stage) + block + '_branch'\n",
        "  bn_name_base = \"BN_\" + str(stage) + block + '_branch'\n",
        "  F1,F2,F3 = filters\n",
        "  X_short = X\n",
        "\n",
        "  #1st\n",
        "  # print(\"X       SHAPE       : \" , X.shape)\n",
        "  x = layers.Conv2D( F1, (1,1),strides=(s,s), padding='valid',activation=None, kernel_initializer=glorot_uniform(seed=0), name = conv_name_base + '2a')(X)\n",
        "  # print(\"strides             : \" , (s,s))\n",
        "  # print(\"X2      SHAPE(AFTER): \" , x.shape)\n",
        "  x = layers.BatchNormalization(name=bn_name_base + '2a')(x)\n",
        "  x = layers.Activation(\"relu\")(x)\n",
        "\n",
        "  #2nd\n",
        "  x = layers.Conv2D( F2, (f,f), strides=(1,1),padding='same',activation=None, kernel_initializer=glorot_uniform(seed=0), name = conv_name_base + '2b')(x)\n",
        "  x = layers.BatchNormalization(name=bn_name_base + '2b')(x)\n",
        "  x = layers.Activation(\"relu\")(x)\n",
        "  # print(\"X3      SHAPE(AFTER): \" , x.shape)\n",
        "  #3rd\n",
        "  x = layers.Conv2D( F3, (1,1), strides=(1,1),padding='valid',activation=None, kernel_initializer=glorot_uniform(seed=0), name = conv_name_base + '2c')(x)\n",
        "  x = layers.BatchNormalization(name=bn_name_base + '2c')(x)\n",
        "\n",
        "  # print(\"X4      SHAPE(AFTER): \" , x.shape)\n",
        "  #Shortcut\n",
        "  # print(\"X_short SHAPE(BEFOR): \" , X_short.shape)\n",
        "  X_short =layers.Conv2D( F3, (1,1),strides=(s,s), padding='valid',activation=None, kernel_initializer=glorot_uniform(seed=0), name = conv_name_base + '_st')(X_short)\n",
        "  X_short = layers.BatchNormalization(name=bn_name_base + '_st')(X_short)\n",
        "\n",
        "  # print(\"X_short SHAPE(AFTER): \" , X_short.shape)\n",
        "  # print(\"X5       SHAPE       : \" , x.shape)\n",
        "  # print(\"strides             : \" , (s,s))\n",
        "  # print(\"F3                  : \" , F3)\n",
        "  # print(\"----------------------------------\")\n",
        "  x = layers.Add()([x,X_short])\n",
        "  x = layers.Activation(\"relu\")(x)\n",
        "  return x"
      ],
      "execution_count": 0,
      "outputs": []
    },
    {
      "cell_type": "markdown",
      "metadata": {
        "id": "MpQ6AU54S3Jj",
        "colab_type": "text"
      },
      "source": [
        "3 - Building your first ResNet model (50 layers)\n",
        "You now have the necessary blocks to build a very deep ResNet. The following figure describes in detail the architecture of this neural network. \"ID BLOCK\" in the diagram stands for \"Identity block,\" and \"ID BLOCK x3\" means you should stack 3 identity blocks together.\n",
        "\n",
        "![alt text](//github.com/priya-dwivedi/Deep-Learning/raw/090a6ff1f3236e6c216db6743af74f1728669e46/resnet_keras/images/resnet_kiank.png)\n",
        "\n",
        "The details of this ResNet-50 model are:\n",
        "\n",
        "Zero-padding pads the input with a pad of (3,3)\n",
        "Stage 1:\n",
        "The 2D Convolution has 64 filters of shape (7,7) and uses a stride of (2,2). Its name is \"conv1\".\n",
        "BatchNorm is applied to the channels axis of the input.\n",
        "MaxPooling uses a (3,3) window and a (2,2) stride.\n",
        "Stage 2:\n",
        "The convolutional block uses three set of filters of size [64,64,256], \"f\" is 3, \"s\" is 1 and the block is \"a\".\n",
        "The 2 identity blocks use three set of filters of size [64,64,256], \"f\" is 3 and the blocks are \"b\" and \"c\".\n",
        "Stage 3:\n",
        "The convolutional block uses three set of filters of size [128,128,512], \"f\" is 3, \"s\" is 2 and the block is \"a\".\n",
        "The 3 identity blocks use three set of filters of size [128,128,512], \"f\" is 3 and the blocks are \"b\", \"c\" and \"d\".\n",
        "Stage 4:\n",
        "The convolutional block uses three set of filters of size [256, 256, 1024], \"f\" is 3, \"s\" is 2 and the block is \"a\".\n",
        "The 5 identity blocks use three set of filters of size [256, 256, 1024], \"f\" is 3 and the blocks are \"b\", \"c\", \"d\", \"e\" and \"f\".\n",
        "Stage 5:\n",
        "The convolutional block uses three set of filters of size [512, 512, 2048], \"f\" is 3, \"s\" is 2 and the block is \"a\".\n",
        "The 2 identity blocks use three set of filters of size [512, 512, 2048], \"f\" is 3 and the blocks are \"b\" and \"c\".\n",
        "The 2D Average Pooling uses a window of shape (2,2) and its name is \"avg_pool\".\n",
        "The flatten doesn't have any hyperparameters or name.\n",
        "The Fully Connected (Dense) layer reduces its input to the number of classes using a softmax activation. Its name should be 'fc' + str(classes)."
      ]
    },
    {
      "cell_type": "code",
      "metadata": {
        "id": "5-kfAJx_TGs-",
        "colab_type": "code",
        "colab": {}
      },
      "source": [
        "def ResNet50(input_size=(150,150,3),classes=2):\n",
        "  \"\"\"\n",
        "  Implementation of the popular ResNet50 the following architecture:\n",
        "  CONV2D -> BATCHNORM -> RELU -> MAXPOOL -> CONVBLOCK -> IDBLOCK*2 -> CONVBLOCK -> IDBLOCK*3\n",
        "  -> CONVBLOCK -> IDBLOCK*5 -> CONVBLOCK -> IDBLOCK*2 -> AVGPOOL -> TOPLAYER\n",
        "\n",
        "  Arguments:\n",
        "  input_shape -- shape of the images of the dataset\n",
        "  classes -- integer, number of classes\n",
        "\n",
        "  Returns:\n",
        "  model -- a Model() instance in Keras\n",
        "  \"\"\"\n",
        "  X_INPUT = layers.Input(input_size)\n",
        "  X = layers.ZeroPadding2D(padding=(3,3))(X_INPUT)\n",
        "  #1st Stage\n",
        "  X = layers.Conv2D(64, (7, 7), strides=(2, 2), name='conv1', kernel_initializer=glorot_uniform(seed=0))(X_INPUT)\n",
        "  X = layers.BatchNormalization(axis=3, name='bn_conv1')(X)\n",
        "  X = layers.Activation('relu')(X)\n",
        "  X = layers.MaxPooling2D((3, 3), strides=(2, 2))(X)\n",
        "\n",
        "  #2nd Stage:\n",
        "  X = convolutional_block(X, 3, [64,64,256],2,\"a\", s=1)\n",
        "  X = identity_block(X, 3, [64,64,256], 2, \"b\" )\n",
        "  X = identity_block(X, 3, [64,64,256], 2, \"c\" )\n",
        "\n",
        "  #3rd Stage:\n",
        "  X = convolutional_block(X, 3, [128,128,512],3,\"a\", s=2)\n",
        "  X = identity_block(X, 3, [128,128,512], 3, \"b\" )\n",
        "  X = identity_block(X, 3, [128,128,512], 3, \"c\" )\n",
        "  X = identity_block(X, 3, [128,128,512], 3, \"d\" )\n",
        "\n",
        "\n",
        "  #4th Stage:\n",
        "  X = convolutional_block(X, 3, [256,256,1024],4,\"a\", s=2)\n",
        "  X = identity_block(X, 3, [256,256,1024], 4, \"b\" )\n",
        "  X = identity_block(X, 3, [256,256,1024], 4, \"c\" )\n",
        "  X = identity_block(X, 3, [256,256,1024], 4, \"d\" )\n",
        "  X = identity_block(X, 3, [256,256,1024], 4, \"e\" )\n",
        "  X = identity_block(X, 3, [256,256,1024], 4, \"f\" )\n",
        "\n",
        "\n",
        "  #5th Stage:\n",
        "  X = convolutional_block(X, 3, [512,512,2048],5,\"a\", s=2)\n",
        "  X = identity_block(X, 3, [512,512,2048], 5, \"b\" )\n",
        "  X = identity_block(X, 3, [512,512,2048], 5, \"c\" )\n",
        "\n",
        "  # POOLING\n",
        "  X = layers.AveragePooling2D(name = 'avg_pooling')(X)\n",
        "  X = layers.Flatten()(X)\n",
        "  X = layers.Dense(512, activation = 'relu' , name = 'fc512', kernel_initializer = glorot_uniform(seed=0) ) (X)\n",
        "  X = layers.Dense(1, activation = 'sigmoid' , name = 'fc' + str(classes), kernel_initializer = glorot_uniform(seed=0) ) (X)\n",
        "\n",
        "  model = keras.Model(inputs = X_INPUT, outputs = X, name = \"ResNet50\")\n",
        "  return model"
      ],
      "execution_count": 0,
      "outputs": []
    },
    {
      "cell_type": "code",
      "metadata": {
        "id": "yncQgd1LTGyu",
        "colab_type": "code",
        "colab": {}
      },
      "source": [
        "model = ResNet50(input_size=(150,150,3),classes=2)"
      ],
      "execution_count": 0,
      "outputs": []
    },
    {
      "cell_type": "code",
      "metadata": {
        "id": "ndTbMpQMTG1s",
        "colab_type": "code",
        "colab": {}
      },
      "source": [
        ""
      ],
      "execution_count": 0,
      "outputs": []
    },
    {
      "cell_type": "code",
      "metadata": {
        "id": "s82bRZqoTG-W",
        "colab_type": "code",
        "colab": {}
      },
      "source": [
        ""
      ],
      "execution_count": 0,
      "outputs": []
    },
    {
      "cell_type": "code",
      "metadata": {
        "id": "OmOlE96OTHEa",
        "colab_type": "code",
        "colab": {}
      },
      "source": [
        ""
      ],
      "execution_count": 0,
      "outputs": []
    },
    {
      "cell_type": "code",
      "metadata": {
        "id": "3itpH2IzTHBc",
        "colab_type": "code",
        "colab": {}
      },
      "source": [
        ""
      ],
      "execution_count": 0,
      "outputs": []
    },
    {
      "cell_type": "code",
      "metadata": {
        "id": "CWpqh9lNTG7r",
        "colab_type": "code",
        "colab": {}
      },
      "source": [
        ""
      ],
      "execution_count": 0,
      "outputs": []
    },
    {
      "cell_type": "code",
      "metadata": {
        "id": "3Tli1moQTG4_",
        "colab_type": "code",
        "colab": {}
      },
      "source": [
        ""
      ],
      "execution_count": 0,
      "outputs": []
    },
    {
      "cell_type": "code",
      "metadata": {
        "id": "tFkmW9HpTGwV",
        "colab_type": "code",
        "colab": {}
      },
      "source": [
        ""
      ],
      "execution_count": 0,
      "outputs": []
    },
    {
      "cell_type": "code",
      "metadata": {
        "id": "yjnoyo-RTGqW",
        "colab_type": "code",
        "colab": {}
      },
      "source": [
        ""
      ],
      "execution_count": 0,
      "outputs": []
    },
    {
      "cell_type": "code",
      "metadata": {
        "id": "se4PkgFXTFpE",
        "colab_type": "code",
        "colab": {}
      },
      "source": [
        ""
      ],
      "execution_count": 0,
      "outputs": []
    },
    {
      "cell_type": "markdown",
      "metadata": {
        "id": "YXlnXxXMQOLI",
        "colab_type": "text"
      },
      "source": [
        "![demo](https://drive.google.com/uc?export=view&id=1qlPeM2pXOJ-ItGGt6Cn6oHy1aEBDCEwK)"
      ]
    },
    {
      "cell_type": "markdown",
      "metadata": {
        "id": "oWRkcK_DSUbv",
        "colab_type": "text"
      },
      "source": [
        "# Simple resnet"
      ]
    },
    {
      "cell_type": "code",
      "metadata": {
        "id": "-BQrav4anTmj",
        "colab_type": "code",
        "colab": {}
      },
      "source": [
        "def resnet_block(input_data,filters,conv_size):\n",
        "  x = layers.Conv2D(filters,conv_size,activation='relu',padding='same')(input_data)\n",
        "  x = layers.BatchNormalization(momentum=0.9)(x)\n",
        "  x = layers.Conv2D(filters,conv_size,activation=None,padding='same')(x)\n",
        "  x = layers.BatchNormalization(momentum=0.9)(x)\n",
        "  x = layers.Add()([x,input_data])\n",
        "  x = layers.Activation('relu')(x)\n",
        "  return x\n",
        "\n",
        "# def ResNet(num_res_net_blocks ,input_size, filters, conv_size):\n",
        "#   inputs = layers.Input(shape=input_size)\n",
        "#   x = layers.Conv2D(32, (3,3),activation=None )(inputs)\n",
        "#   x = layers.Conv2D(64, (3,3), activation='relu')(x)\n",
        "#   x = layers.Conv2D(128, (3,3), activation='relu')(x)\n",
        "\n",
        "#   #for i in range(num_res_net_blocks):\n",
        "#   x = resnet_block(x,filters,conv_size)\n",
        "\n",
        "    \n",
        "#   x = layers.Conv2D(64, (3,3), activation='relu')(x)\n",
        "#   x = layers.MaxPooling2D()(x)\n",
        "\n",
        "#   x = layers.Flatten()(x)\n",
        "#   x = layers.Dense(256, activation='relu')(x)\n",
        "#   # x = layers.Dense(128, activation='relu')(x)\n",
        "#   # x = layers.Dropout(0.5)(x)\n",
        "#   outputs = layers.Dense(1, activation='sigmoid')(x)\n",
        "#   model = keras.Model(inputs,outputs)\n",
        "#   return model"
      ],
      "execution_count": 0,
      "outputs": []
    },
    {
      "cell_type": "code",
      "metadata": {
        "id": "oKo2hGjtT8bF",
        "colab_type": "code",
        "colab": {}
      },
      "source": [
        ""
      ],
      "execution_count": 0,
      "outputs": []
    },
    {
      "cell_type": "code",
      "metadata": {
        "id": "rF9V-owPhS3F",
        "colab_type": "code",
        "colab": {}
      },
      "source": [
        "model = ResNet(1,input_size=(150,150,3),filters=128,conv_size=(3,3))"
      ],
      "execution_count": 0,
      "outputs": []
    },
    {
      "cell_type": "markdown",
      "metadata": {
        "id": "EVBnV--PfgFR",
        "colab_type": "text"
      },
      "source": [
        "#Simple RenNet Model (Functional API Model define)"
      ]
    },
    {
      "cell_type": "code",
      "metadata": {
        "id": "JjIPWYWPrrD0",
        "colab_type": "code",
        "colab": {}
      },
      "source": [
        "def reglar_CNN_block(input_data,filters,conv_size,strides=(1, 1), kernel_initializer=glorot_uniform(seed=0), use_dropout=False, dropout=0.2):\n",
        "  x = layers.Conv2D(filters, conv_size,activation=None,strides=strides,kernel_initializer=kernel_initializer )(input_data)\n",
        "  x = layers.BatchNormalization(momentum=0.9)(x)\n",
        "  x = layers.Activation('relu')(x)\n",
        "  x = layers.MaxPool2D()(x)\n",
        "  if use_dropout:\n",
        "    x = layers.Dropout(dropout)(x)\n",
        "  return x"
      ],
      "execution_count": 0,
      "outputs": []
    },
    {
      "cell_type": "code",
      "metadata": {
        "id": "CAPuTd_2aH6S",
        "colab_type": "code",
        "colab": {}
      },
      "source": [
        "# Plain NN (Functional Model)\n",
        "def SimpleRes(input_size):\n",
        "  inputs = layers.Input(shape=input_size)\n",
        "  x = reglar_CNN_block(inputs,32,(3,3))\n",
        "  # x = reglar_CNN_block(x,32,(3,3))\n",
        "  x = reglar_CNN_block(x,64,(3,3))\n",
        "  x = reglar_CNN_block(x,128,(3,3))\n",
        "\n",
        "  # x = layers.Conv2D(16, (3,3),activation=None )(inputs)\n",
        "  # x = layers.BatchNormalization(momentum=0.9)(x)\n",
        "  # x = layers.Activation('relu')(x)\n",
        "  # x = layers.MaxPool2D()(x)\n",
        "  # x = layers.Dropout(0.2)(x)\n",
        "\n",
        "  # x = layers.Conv2D(32, (3,3),activation=None )(x)\n",
        "  # x = layers.BatchNormalization(momentum=0.9)(x)\n",
        "  # x = layers.Activation('relu')(x)\n",
        "  # x = layers.MaxPool2D()(x)\n",
        "  # x = layers.Dropout(0.2)(x)\n",
        "\n",
        "  # x = layers.Conv2D(64, (3,3),activation=None )(x)\n",
        "  # x = layers.BatchNormalization(momentum=0.9)(x)\n",
        "  # x = layers.Activation('relu')(x)\n",
        "  # x = layers.MaxPool2D()(x)\n",
        "  # x = layers.Dropout(0.2)(x)\n",
        "\n",
        "  # x = layers.Conv2D(128, (3,3),activation=None )(x)\n",
        "  # x = layers.BatchNormalization(momentum=0.9)(x)\n",
        "  # x = layers.Activation('relu')(x)\n",
        "  # x = layers.MaxPool2D()(x)\n",
        "  # x = layers.Dropout(0.2)(x)\n",
        "\n",
        "  x = resnet_block(x,128,(3,3))\n",
        "  x = resnet_block(x,128,(3,3))\n",
        "  x = resnet_block(x,128,(3,3))\n",
        "  x = resnet_block(x,128,(3,3))\n",
        "\n",
        "\n",
        "  x = resnet_block(x,128,(3,3))\n",
        "  x = resnet_block(x,128,(3,3))\n",
        "  x = resnet_block(x,128,(3,3))\n",
        "  x = resnet_block(x,128,(3,3))\n",
        "  x = resnet_block(x,128,(3,3))\n",
        "  x = resnet_block(x,128,(3,3))\n",
        "  # x = layers.Conv2D(256, (3,3),activation=None )(x)\n",
        "  # x = layers.BatchNormalization(momentum=0.9)(x)\n",
        "  # x = layers.Activation('relu')(x)\n",
        "  x = layers.MaxPool2D()(x)\n",
        "  x = layers.Dropout(0.2)(x)\n",
        "\n",
        "\n",
        "  x = layers.Flatten()(x)\n",
        "  x = layers.Dense(512, activation=None)(x)\n",
        "  x = layers.BatchNormalization(momentum=0.9)(x)\n",
        "  x = layers.Activation('relu')(x)\n",
        "  x = layers.Dropout(0.4)(x)\n",
        "  outputs = layers.Dense(1, activation='sigmoid')(x)\n",
        "  mod = keras.Model(inputs,outputs)\n",
        "  return mod"
      ],
      "execution_count": 0,
      "outputs": []
    },
    {
      "cell_type": "code",
      "metadata": {
        "id": "b6LRlmMdbkb2",
        "colab_type": "code",
        "colab": {}
      },
      "source": [
        "model = PlainNet((150,150,3))"
      ],
      "execution_count": 0,
      "outputs": []
    },
    {
      "cell_type": "code",
      "metadata": {
        "id": "HK3Z1dZItQbb",
        "colab_type": "code",
        "colab": {}
      },
      "source": [
        "model = SimpleRes((150,150,3))  "
      ],
      "execution_count": 0,
      "outputs": []
    },
    {
      "cell_type": "markdown",
      "metadata": {
        "id": "KPsChc1HfR1g",
        "colab_type": "text"
      },
      "source": [
        "# Sequential Model"
      ]
    },
    {
      "cell_type": "code",
      "metadata": {
        "id": "WUfzE6zXwO2H",
        "colab_type": "code",
        "colab": {}
      },
      "source": [
        "# WITH BatchNormalization (Sequential Model)\n",
        "model = tf.keras.models.Sequential([\n",
        "  tf.keras.layers.Conv2D( 16,(3,3),activation=None,input_shape=(150,150,3)),\n",
        "  tf.keras.layers.BatchNormalization(momentum=0.9),\n",
        "  tf.keras.layers.Activation('relu'),\n",
        "  tf.keras.layers.MaxPool2D(),\n",
        "  tf.keras.layers.Dropout(0.2),\n",
        "  tf.keras.layers.Conv2D( 32,(3,3),activation=None),\n",
        "  tf.keras.layers.BatchNormalization(momentum=0.9),\n",
        "  tf.keras.layers.Activation('relu'),\n",
        "  tf.keras.layers.MaxPool2D(),\n",
        "  tf.keras.layers.Dropout(0.2),\n",
        "  tf.keras.layers.Conv2D( 64,(3,3),activation=None),\n",
        "  tf.keras.layers.BatchNormalization(momentum=0.9),\n",
        "  tf.keras.layers.Activation('relu'),\n",
        "  tf.keras.layers.MaxPool2D(),\n",
        "  tf.keras.layers.Dropout(0.2),\n",
        "  tf.keras.layers.Conv2D(128,(3,3),activation=None),\n",
        "  tf.keras.layers.BatchNormalization(momentum=0.9),\n",
        "  tf.keras.layers.Activation('relu'),\n",
        "  tf.keras.layers.MaxPool2D(),\n",
        "\n",
        "  tf.keras.layers.Conv2D(256,(3,3),activation=None),\n",
        "  tf.keras.layers.BatchNormalization(momentum=0.9),\n",
        "  tf.keras.layers.Activation('relu'),\n",
        "  tf.keras.layers.MaxPool2D(),\n",
        "\n",
        "  tf.keras.layers.Dropout(0.2),\n",
        "  tf.keras.layers.Flatten(),\n",
        "  tf.keras.layers.Dense(512,activation=None),\n",
        "  tf.keras.layers.BatchNormalization(momentum=0.9),\n",
        "  tf.keras.layers.Activation('relu'),\n",
        "  tf.keras.layers.Dropout(0.4),\n",
        "  tf.keras.layers.Dense(1,activation=\"sigmoid\")\n",
        "# YOUR CODE HERE\n",
        "])\n"
      ],
      "execution_count": 0,
      "outputs": []
    },
    {
      "cell_type": "markdown",
      "metadata": {
        "id": "_mHUrRGRCrUi",
        "colab_type": "text"
      },
      "source": [
        "# Compile Model"
      ]
    },
    {
      "cell_type": "code",
      "metadata": {
        "id": "ZvD8_W-vSFzM",
        "colab_type": "code",
        "colab": {}
      },
      "source": [
        "\n",
        "# model.compile(optimizer=RMSprop(lr=0.001), loss='binary_crossentropy', metrics=['acc'])\n",
        "model.compile(optimizer=Adam(lr=LR), loss='binary_crossentropy', metrics=['acc'])"
      ],
      "execution_count": 0,
      "outputs": []
    },
    {
      "cell_type": "markdown",
      "metadata": {
        "id": "lL8bcxAzfXPB",
        "colab_type": "text"
      },
      "source": [
        "# Generator"
      ]
    },
    {
      "cell_type": "code",
      "metadata": {
        "id": "mlNjoJ5D61N6",
        "colab_type": "code",
        "outputId": "b2401b4b-df60-47a6-8985-c68579e80221",
        "colab": {
          "base_uri": "https://localhost:8080/",
          "height": 54
        }
      },
      "source": [
        "TRAINING_DIR = \"/tmp/cats-v-dogs/training/\"\n",
        "train_datagen = ImageDataGenerator(\n",
        "    rescale=1./255,\n",
        "    rotation_range=40,\n",
        "    width_shift_range=0.2,\n",
        "    height_shift_range=0.2,\n",
        "    shear_range=0.2,zoom_range=0.2,\n",
        "    horizontal_flip=True,\n",
        "    fill_mode=\"nearest\"\n",
        "    )\n",
        "train_generator = train_datagen.flow_from_directory(TRAINING_DIR,batch_size=64,target_size=targetSize,class_mode=\"binary\")\n",
        "\n",
        "VALIDATION_DIR = \"/tmp/cats-v-dogs/testing/\"\n",
        "validation_datagen = ImageDataGenerator(rescale=1/255)\n",
        "validation_generator = train_datagen.flow_from_directory(VALIDATION_DIR,batch_size=64,target_size=targetSize,class_mode=\"binary\")\n",
        "\n",
        "\n",
        "\n",
        "# Expected Output:\n",
        "# Found 22498 images belonging to 2 classes.\n",
        "# Found 2500 images belonging to 2 classes."
      ],
      "execution_count": 73,
      "outputs": [
        {
          "output_type": "stream",
          "text": [
            "Found 22496 images belonging to 2 classes.\n",
            "Found 2502 images belonging to 2 classes.\n"
          ],
          "name": "stdout"
        }
      ]
    },
    {
      "cell_type": "code",
      "metadata": {
        "id": "suwr7BpaYE9B",
        "colab_type": "code",
        "colab": {}
      },
      "source": [
        "import warnings\n",
        "warnings.filterwarnings('ignore')"
      ],
      "execution_count": 0,
      "outputs": []
    },
    {
      "cell_type": "code",
      "metadata": {
        "id": "Eh2XxnFDSZOA",
        "colab_type": "code",
        "colab": {}
      },
      "source": [
        ""
      ],
      "execution_count": 0,
      "outputs": []
    },
    {
      "cell_type": "code",
      "metadata": {
        "id": "HH7Ne8NhSZR0",
        "colab_type": "code",
        "colab": {}
      },
      "source": [
        ""
      ],
      "execution_count": 0,
      "outputs": []
    },
    {
      "cell_type": "markdown",
      "metadata": {
        "id": "V4SidOu22W9T",
        "colab_type": "text"
      },
      "source": [
        "# TensorBoard Launch\n",
        "\n",
        "[link](https://www.dlology.com/blog/how-to-run-tensorboard-in-jupyter-notebook/)"
      ]
    },
    {
      "cell_type": "code",
      "metadata": {
        "id": "tV7SarrvSZVS",
        "colab_type": "code",
        "outputId": "aa9ac9b7-f4c9-44a8-952d-40ae913e4538",
        "colab": {
          "base_uri": "https://localhost:8080/",
          "height": 122
        }
      },
      "source": [
        "from google.colab import drive\n",
        "drive.mount('/content/drive')"
      ],
      "execution_count": 0,
      "outputs": [
        {
          "output_type": "stream",
          "text": [
            "Go to this URL in a browser: https://accounts.google.com/o/oauth2/auth?client_id=947318989803-6bn6qk8qdgf4n4g3pfee6491hc0brc4i.apps.googleusercontent.com&redirect_uri=urn%3aietf%3awg%3aoauth%3a2.0%3aoob&response_type=code&scope=email%20https%3a%2f%2fwww.googleapis.com%2fauth%2fdocs.test%20https%3a%2f%2fwww.googleapis.com%2fauth%2fdrive%20https%3a%2f%2fwww.googleapis.com%2fauth%2fdrive.photos.readonly%20https%3a%2f%2fwww.googleapis.com%2fauth%2fpeopleapi.readonly\n",
            "\n",
            "Enter your authorization code:\n",
            "··········\n",
            "Mounted at /content/drive\n"
          ],
          "name": "stdout"
        }
      ]
    },
    {
      "cell_type": "code",
      "metadata": {
        "id": "cDfiIR8qSZFF",
        "colab_type": "code",
        "colab": {}
      },
      "source": [
        "LOG_DIR = '/content/drive/My Drive/logs/cat_dog/'\n",
        "try:\n",
        "    # os.mkdir(LOG_DIR)\n",
        "    os.makedirs(LOG_DIR, exist_ok=True)\n",
        "except OSError:\n",
        "    print(\"Path Error\")\n",
        "    pass\n"
      ],
      "execution_count": 0,
      "outputs": []
    },
    {
      "cell_type": "code",
      "metadata": {
        "id": "4fWMkvAdLyxZ",
        "colab_type": "code",
        "colab": {}
      },
      "source": [
        "#TEST\n",
        "!cd /content/drive/\"My Drive\"/logs/cat_dog/"
      ],
      "execution_count": 0,
      "outputs": []
    },
    {
      "cell_type": "code",
      "metadata": {
        "id": "Q07PxKyBjZGV",
        "colab_type": "code",
        "outputId": "50424117-db02-4b30-e28d-f185ea933890",
        "colab": {
          "base_uri": "https://localhost:8080/",
          "height": 34
        }
      },
      "source": [
        "!ls"
      ],
      "execution_count": 0,
      "outputs": [
        {
          "output_type": "stream",
          "text": [
            "drive  sample_data\n"
          ],
          "name": "stdout"
        }
      ]
    },
    {
      "cell_type": "code",
      "metadata": {
        "id": "72ioOa0JTUBE",
        "colab_type": "code",
        "outputId": "bc3531d8-0c38-4127-e111-7e36432f724c",
        "colab": {
          "base_uri": "https://localhost:8080/",
          "height": 51
        }
      },
      "source": [
        "# start hera\n",
        "%load_ext tensorboard"
      ],
      "execution_count": 0,
      "outputs": [
        {
          "output_type": "stream",
          "text": [
            "The tensorboard extension is already loaded. To reload it, use:\n",
            "  %reload_ext tensorboard\n"
          ],
          "name": "stdout"
        }
      ]
    },
    {
      "cell_type": "code",
      "metadata": {
        "id": "vH2DziudMuBT",
        "colab_type": "code",
        "outputId": "e60b5252-d19c-4937-ffe0-05088bef4ba5",
        "colab": {
          "base_uri": "https://localhost:8080/",
          "height": 181
        }
      },
      "source": [
        "# path with '' ---> (for rm & tb cmd)\n",
        "regDir = LOG_DIR.replace(\"My Drive\",\"'My Drive'\")\n",
        "regDir"
      ],
      "execution_count": 0,
      "outputs": [
        {
          "output_type": "error",
          "ename": "NameError",
          "evalue": "ignored",
          "traceback": [
            "\u001b[0;31m---------------------------------------------------------------------------\u001b[0m",
            "\u001b[0;31mNameError\u001b[0m                                 Traceback (most recent call last)",
            "\u001b[0;32m<ipython-input-1-40e147b5463e>\u001b[0m in \u001b[0;36m<module>\u001b[0;34m()\u001b[0m\n\u001b[0;32m----> 1\u001b[0;31m \u001b[0mregDir\u001b[0m \u001b[0;34m=\u001b[0m \u001b[0mLOG_DIR\u001b[0m\u001b[0;34m.\u001b[0m\u001b[0mreplace\u001b[0m\u001b[0;34m(\u001b[0m\u001b[0;34m\"My Drive\"\u001b[0m\u001b[0;34m,\u001b[0m\u001b[0;34m\"'My Drive'\"\u001b[0m\u001b[0;34m)\u001b[0m\u001b[0;34m\u001b[0m\u001b[0;34m\u001b[0m\u001b[0m\n\u001b[0m\u001b[1;32m      2\u001b[0m \u001b[0mregDir\u001b[0m\u001b[0;34m\u001b[0m\u001b[0;34m\u001b[0m\u001b[0m\n",
            "\u001b[0;31mNameError\u001b[0m: name 'LOG_DIR' is not defined"
          ]
        }
      ]
    },
    {
      "cell_type": "code",
      "metadata": {
        "id": "ZFnprMA_SDEG",
        "colab_type": "code",
        "colab": {}
      },
      "source": [
        "# DELETE ALL LOGS EXISTED!!!\n",
        "# !rm -rf {regDir}  "
      ],
      "execution_count": 0,
      "outputs": []
    },
    {
      "cell_type": "code",
      "metadata": {
        "colab_type": "code",
        "id": "hf5v8CZK2JoQ",
        "colab": {}
      },
      "source": [
        "# logs_base_dir = \"/content/drive/Shared drives/Share/logs/cat_dog/\"\n",
        "# # os.makedirs(logs_base_dir, exist_ok=True)\n",
        "\n",
        "# # %tensorboard --logdir {logs_base_dir}\n",
        "%tensorboard --logdir  {regDir}\n",
        "# %tensorboard --logdir ./logs"
      ],
      "execution_count": 0,
      "outputs": []
    },
    {
      "cell_type": "code",
      "metadata": {
        "id": "tuiVQ_blTT4v",
        "colab_type": "code",
        "colab": {}
      },
      "source": [
        "\n",
        "# _logdir = os.path.join(LOG_DIR, datetime.datetime.now().strftime(\"%Y%m%d-%H%M%S\"))\n",
        "# tensorboard_callback = tf.keras.callbacks.TensorBoard(_logdir, histogram_freq=1)    \n",
        "# print(_logdir)"
      ],
      "execution_count": 0,
      "outputs": []
    },
    {
      "cell_type": "markdown",
      "metadata": {
        "id": "ltRQHMClNRT9",
        "colab_type": "text"
      },
      "source": [
        "# Tensorboard display alternative way"
      ]
    },
    {
      "cell_type": "code",
      "metadata": {
        "id": "MUtN1cAIeu1O",
        "colab_type": "code",
        "outputId": "fe84ae72-67b5-4c19-8522-f213e01d4aee",
        "colab": {
          "base_uri": "https://localhost:8080/",
          "height": 51
        }
      },
      "source": [
        "from tensorboard import notebook\n",
        "notebook.list() # View open TensorBoard instances"
      ],
      "execution_count": 0,
      "outputs": [
        {
          "output_type": "stream",
          "text": [
            "Known TensorBoard instances:\n",
            "  - port 6006: logdir /content/drive/My Drive/logs/cat_dog/ (started 0:00:35 ago; pid 420)\n"
          ],
          "name": "stdout"
        }
      ]
    },
    {
      "cell_type": "code",
      "metadata": {
        "id": "JE_GekJA4BWd",
        "colab_type": "code",
        "colab": {}
      },
      "source": [
        "# Control TensorBoard display. If no port is provided, \n",
        "# the most recently launched TensorBoard is used\n",
        "notebook.display(port=6006, height=1000) "
      ],
      "execution_count": 0,
      "outputs": []
    },
    {
      "cell_type": "markdown",
      "metadata": {
        "id": "fj8fFBvC2dw4",
        "colab_type": "text"
      },
      "source": [
        "# Callbacks & Train\n",
        "\n",
        "[callbacks](https://keras.io/zh/callbacks/)"
      ]
    },
    {
      "cell_type": "code",
      "metadata": {
        "id": "iBQ6zE29rCaZ",
        "colab_type": "code",
        "colab": {}
      },
      "source": [
        "Model_DIR = '/content/drive/My Drive/models/cat_dog/'\n",
        "os.makedirs(Model_DIR,exist_ok=True)"
      ],
      "execution_count": 0,
      "outputs": []
    },
    {
      "cell_type": "code",
      "metadata": {
        "id": "QSm8EiauekH5",
        "colab_type": "code",
        "outputId": "8f02a5e6-a06a-4e03-9c51-7f61a9575e4d",
        "colab": {
          "base_uri": "https://localhost:8080/",
          "height": 35
        }
      },
      "source": [
        "\n",
        "\n",
        "# tensorboard_callback\n",
        "# log_dir=LOG_DIR + datetime.datetime.now().strftime(\"%Y%m%d%H%M%S\") + \"-DOGCAT-\" + \"_lr-%.4f_decay-%.2f/\"%(LR,DECAY)\n",
        "# tensorboard_callback = tf.keras.callbacks.TensorBoard(log_dir=log_dir, histogram_freq=1)\n",
        "# print(log_dir)\n",
        " \n",
        "#filepath 可以包括命名格式选项，可以由 epoch 的值和 logs 的键（由 on_epoch_end 参数传递）来填充。\n",
        "#例如：如果 filepath 是 weights.{epoch:02d}-{val_loss:.2f}.hdf5， 那么模型被保存的的文件名就会有训练轮数和验证损失。\n",
        "\n",
        "#monitor: 被监测的数据。\n",
        "#verbose: 详细信息模式，0 或者 1 。\n",
        "#save_best_only: 如果 save_best_only=True， 被监测数据的最佳模型就不会被覆盖。\n",
        "#mode: {auto, min, max} 的其中之一。 如果 save_best_only=True，那么是否覆盖保存文件的决定就取决于被监测数据的最大或者最小值。 对于 val_acc，模式就会是 max，而对于 val_loss，模式就需要是 min，等等。 在 auto 模式中，方向会自动从被监测的数据的名字中判断出来。\n",
        "#save_weights_only: 如果 True，那么只有模型的权重会被保存 (model.save_weights(filepath))， 否则的话，整个模型会被保存 (model.save(filepath))。\n",
        "# keras.callbacks.ModelCheckpoint(filepath, monitor='val_loss', verbose=0, save_best_only=False, save_weights_only=False, mode='auto', period=1)\n",
        "checkpoint = ModelCheckpoint(Model_DIR + 'ep{epoch:03d}-loss{loss:.3f}-val_loss{val_loss:.3f}.h5',\n",
        "                             monitor='val_loss', save_weights_only=True, save_best_only=True, period=3)\n",
        "\n",
        "\n",
        "reduce_lr = ReduceLROnPlateau(monitor='val_loss', factor=DECAY, patience=4, verbose=1)\n",
        "early_stopping = EarlyStopping(monitor='val_loss', min_delta=0, patience=15, verbose=1)"
      ],
      "execution_count": 49,
      "outputs": [
        {
          "output_type": "stream",
          "text": [
            "WARNING:tensorflow:`period` argument is deprecated. Please use `save_freq` to specify the frequency in number of samples seen.\n"
          ],
          "name": "stdout"
        }
      ]
    },
    {
      "cell_type": "code",
      "metadata": {
        "id": "KyS4n53w7DxC",
        "colab_type": "code",
        "outputId": "96d60a54-bfb8-44e0-fd4b-2663fe141a57",
        "colab": {
          "base_uri": "https://localhost:8080/",
          "height": 1000
        }
      },
      "source": [
        "# Remember to add callbacks here...\n",
        "\n",
        "history = model.fit_generator(train_generator,\n",
        "                              epochs=Epochs,\n",
        "                              verbose=1,\n",
        "                              validation_data=validation_generator, \n",
        "                              # callbacks=[tensorboard_callback,checkpoint,reduce_lr,early_stopping])\n",
        "                              callbacks=[WandbCallback(),checkpoint,reduce_lr,early_stopping])\n",
        "\n",
        "# The expectation here is that the model will train, and that accuracy will be > 95% on both training and validation\n",
        "# i.e. acc:A1 and val_acc:A2 will be visible, and both A1 and A2 will be > .9"
      ],
      "execution_count": 76,
      "outputs": [
        {
          "output_type": "stream",
          "text": [
            "WARNING:tensorflow:sample_weight modes were coerced from\n",
            "  ...\n",
            "    to  \n",
            "  ['...']\n",
            "WARNING:tensorflow:sample_weight modes were coerced from\n",
            "  ...\n",
            "    to  \n",
            "  ['...']\n",
            "Train for 352 steps, validate for 40 steps\n",
            "Epoch 1/50\n",
            "352/352 [==============================] - 297s 843ms/step - loss: 1.0865 - acc: 0.5964 - val_loss: 0.7939 - val_acc: 0.5168\n",
            "Epoch 2/50\n",
            "352/352 [==============================] - 287s 816ms/step - loss: 0.6045 - acc: 0.6715 - val_loss: 0.6033 - val_acc: 0.6595\n",
            "Epoch 3/50\n",
            "352/352 [==============================] - 286s 813ms/step - loss: 0.5749 - acc: 0.6983 - val_loss: 0.5857 - val_acc: 0.6990\n",
            "Epoch 4/50\n",
            "352/352 [==============================] - 284s 806ms/step - loss: 0.5546 - acc: 0.7144 - val_loss: 0.5923 - val_acc: 0.6910\n",
            "Epoch 5/50\n",
            "352/352 [==============================] - 283s 804ms/step - loss: 0.5406 - acc: 0.7267 - val_loss: 0.7677 - val_acc: 0.5911\n",
            "Epoch 6/50\n",
            "352/352 [==============================] - 283s 804ms/step - loss: 0.5153 - acc: 0.7449 - val_loss: 1.2862 - val_acc: 0.5532\n",
            "Epoch 7/50\n",
            "351/352 [============================>.] - ETA: 0s - loss: 0.4928 - acc: 0.7603\n",
            "Epoch 00007: ReduceLROnPlateau reducing learning rate to 0.001200000010430813.\n",
            "352/352 [==============================] - 284s 807ms/step - loss: 0.4928 - acc: 0.7605 - val_loss: 0.8393 - val_acc: 0.5655\n",
            "Epoch 8/50\n",
            "352/352 [==============================] - 283s 805ms/step - loss: 0.4331 - acc: 0.8002 - val_loss: 0.6548 - val_acc: 0.6567\n",
            "Epoch 9/50\n",
            "352/352 [==============================] - 284s 805ms/step - loss: 0.4161 - acc: 0.8080 - val_loss: 0.9657 - val_acc: 0.6247\n",
            "Epoch 10/50\n",
            "352/352 [==============================] - 283s 805ms/step - loss: 0.4001 - acc: 0.8176 - val_loss: 0.6195 - val_acc: 0.6815\n",
            "Epoch 11/50\n",
            "351/352 [============================>.] - ETA: 0s - loss: 0.3883 - acc: 0.8222\n",
            "Epoch 00011: ReduceLROnPlateau reducing learning rate to 0.00048000002279877666.\n",
            "352/352 [==============================] - 282s 802ms/step - loss: 0.3882 - acc: 0.8223 - val_loss: 3.5132 - val_acc: 0.5416\n",
            "Epoch 12/50\n",
            "352/352 [==============================] - 284s 807ms/step - loss: 0.3461 - acc: 0.8464 - val_loss: 0.4405 - val_acc: 0.7970\n",
            "Epoch 13/50\n",
            "352/352 [==============================] - 285s 809ms/step - loss: 0.3269 - acc: 0.8558 - val_loss: 0.3649 - val_acc: 0.8333\n",
            "Epoch 14/50\n",
            "352/352 [==============================] - 284s 808ms/step - loss: 0.3192 - acc: 0.8589 - val_loss: 0.5492 - val_acc: 0.7494\n",
            "Epoch 15/50\n",
            "352/352 [==============================] - 283s 804ms/step - loss: 0.3098 - acc: 0.8632 - val_loss: 0.3657 - val_acc: 0.8301\n",
            "Epoch 16/50\n",
            "352/352 [==============================] - 284s 807ms/step - loss: 0.3051 - acc: 0.8653 - val_loss: 0.3872 - val_acc: 0.8149\n",
            "Epoch 17/50\n",
            "352/352 [==============================] - 285s 811ms/step - loss: 0.2988 - acc: 0.8666 - val_loss: 0.3516 - val_acc: 0.8409\n",
            "Epoch 18/50\n",
            "352/352 [==============================] - 283s 804ms/step - loss: 0.2866 - acc: 0.8772 - val_loss: 0.4905 - val_acc: 0.7994\n",
            "Epoch 19/50\n",
            " 30/352 [=>............................] - ETA: 3:56 - loss: 0.2713 - acc: 0.8804WARNING:tensorflow:Reduce LR on plateau conditioned on metric `val_loss` which is not available. Available metrics are: loss,acc,lr\n",
            "WARNING:tensorflow:Early stopping conditioned on metric `val_loss` which is not available. Available metrics are: loss,acc,lr\n",
            " 30/352 [=>............................] - ETA: 4:00 - loss: 0.2713 - acc: 0.8804"
          ],
          "name": "stdout"
        },
        {
          "output_type": "error",
          "ename": "KeyboardInterrupt",
          "evalue": "ignored",
          "traceback": [
            "\u001b[0;31m---------------------------------------------------------------------------\u001b[0m",
            "\u001b[0;31mKeyboardInterrupt\u001b[0m                         Traceback (most recent call last)",
            "\u001b[0;32m<ipython-input-76-2dbe0ac4abf8>\u001b[0m in \u001b[0;36m<module>\u001b[0;34m()\u001b[0m\n\u001b[1;32m      5\u001b[0m                               \u001b[0mvalidation_data\u001b[0m\u001b[0;34m=\u001b[0m\u001b[0mvalidation_generator\u001b[0m\u001b[0;34m,\u001b[0m\u001b[0;34m\u001b[0m\u001b[0;34m\u001b[0m\u001b[0m\n\u001b[1;32m      6\u001b[0m                               \u001b[0;31m# callbacks=[tensorboard_callback,checkpoint,reduce_lr,early_stopping])\u001b[0m\u001b[0;34m\u001b[0m\u001b[0;34m\u001b[0m\u001b[0;34m\u001b[0m\u001b[0m\n\u001b[0;32m----> 7\u001b[0;31m                               callbacks=[WandbCallback(),checkpoint,reduce_lr,early_stopping])\n\u001b[0m\u001b[1;32m      8\u001b[0m \u001b[0;34m\u001b[0m\u001b[0m\n\u001b[1;32m      9\u001b[0m \u001b[0;31m# The expectation here is that the model will train, and that accuracy will be > 95% on both training and validation\u001b[0m\u001b[0;34m\u001b[0m\u001b[0;34m\u001b[0m\u001b[0;34m\u001b[0m\u001b[0m\n",
            "\u001b[0;32m/tensorflow-2.1.0/python3.6/tensorflow_core/python/util/deprecation.py\u001b[0m in \u001b[0;36mnew_func\u001b[0;34m(*args, **kwargs)\u001b[0m\n\u001b[1;32m    322\u001b[0m               \u001b[0;34m'in a future version'\u001b[0m \u001b[0;32mif\u001b[0m \u001b[0mdate\u001b[0m \u001b[0;32mis\u001b[0m \u001b[0;32mNone\u001b[0m \u001b[0;32melse\u001b[0m \u001b[0;34m(\u001b[0m\u001b[0;34m'after %s'\u001b[0m \u001b[0;34m%\u001b[0m \u001b[0mdate\u001b[0m\u001b[0;34m)\u001b[0m\u001b[0;34m,\u001b[0m\u001b[0;34m\u001b[0m\u001b[0;34m\u001b[0m\u001b[0m\n\u001b[1;32m    323\u001b[0m               instructions)\n\u001b[0;32m--> 324\u001b[0;31m       \u001b[0;32mreturn\u001b[0m \u001b[0mfunc\u001b[0m\u001b[0;34m(\u001b[0m\u001b[0;34m*\u001b[0m\u001b[0margs\u001b[0m\u001b[0;34m,\u001b[0m \u001b[0;34m**\u001b[0m\u001b[0mkwargs\u001b[0m\u001b[0;34m)\u001b[0m\u001b[0;34m\u001b[0m\u001b[0;34m\u001b[0m\u001b[0m\n\u001b[0m\u001b[1;32m    325\u001b[0m     return tf_decorator.make_decorator(\n\u001b[1;32m    326\u001b[0m         \u001b[0mfunc\u001b[0m\u001b[0;34m,\u001b[0m \u001b[0mnew_func\u001b[0m\u001b[0;34m,\u001b[0m \u001b[0;34m'deprecated'\u001b[0m\u001b[0;34m,\u001b[0m\u001b[0;34m\u001b[0m\u001b[0;34m\u001b[0m\u001b[0m\n",
            "\u001b[0;32m/tensorflow-2.1.0/python3.6/tensorflow_core/python/keras/engine/training.py\u001b[0m in \u001b[0;36mfit_generator\u001b[0;34m(self, generator, steps_per_epoch, epochs, verbose, callbacks, validation_data, validation_steps, validation_freq, class_weight, max_queue_size, workers, use_multiprocessing, shuffle, initial_epoch)\u001b[0m\n\u001b[1;32m   1304\u001b[0m         \u001b[0muse_multiprocessing\u001b[0m\u001b[0;34m=\u001b[0m\u001b[0muse_multiprocessing\u001b[0m\u001b[0;34m,\u001b[0m\u001b[0;34m\u001b[0m\u001b[0;34m\u001b[0m\u001b[0m\n\u001b[1;32m   1305\u001b[0m         \u001b[0mshuffle\u001b[0m\u001b[0;34m=\u001b[0m\u001b[0mshuffle\u001b[0m\u001b[0;34m,\u001b[0m\u001b[0;34m\u001b[0m\u001b[0;34m\u001b[0m\u001b[0m\n\u001b[0;32m-> 1306\u001b[0;31m         initial_epoch=initial_epoch)\n\u001b[0m\u001b[1;32m   1307\u001b[0m \u001b[0;34m\u001b[0m\u001b[0m\n\u001b[1;32m   1308\u001b[0m   @deprecation.deprecated(\n",
            "\u001b[0;32m/tensorflow-2.1.0/python3.6/tensorflow_core/python/keras/engine/training.py\u001b[0m in \u001b[0;36mfit\u001b[0;34m(self, x, y, batch_size, epochs, verbose, callbacks, validation_split, validation_data, shuffle, class_weight, sample_weight, initial_epoch, steps_per_epoch, validation_steps, validation_freq, max_queue_size, workers, use_multiprocessing, **kwargs)\u001b[0m\n\u001b[1;32m    817\u001b[0m         \u001b[0mmax_queue_size\u001b[0m\u001b[0;34m=\u001b[0m\u001b[0mmax_queue_size\u001b[0m\u001b[0;34m,\u001b[0m\u001b[0;34m\u001b[0m\u001b[0;34m\u001b[0m\u001b[0m\n\u001b[1;32m    818\u001b[0m         \u001b[0mworkers\u001b[0m\u001b[0;34m=\u001b[0m\u001b[0mworkers\u001b[0m\u001b[0;34m,\u001b[0m\u001b[0;34m\u001b[0m\u001b[0;34m\u001b[0m\u001b[0m\n\u001b[0;32m--> 819\u001b[0;31m         use_multiprocessing=use_multiprocessing)\n\u001b[0m\u001b[1;32m    820\u001b[0m \u001b[0;34m\u001b[0m\u001b[0m\n\u001b[1;32m    821\u001b[0m   def evaluate(self,\n",
            "\u001b[0;32m/tensorflow-2.1.0/python3.6/tensorflow_core/python/keras/engine/training_v2.py\u001b[0m in \u001b[0;36mfit\u001b[0;34m(self, model, x, y, batch_size, epochs, verbose, callbacks, validation_split, validation_data, shuffle, class_weight, sample_weight, initial_epoch, steps_per_epoch, validation_steps, validation_freq, max_queue_size, workers, use_multiprocessing, **kwargs)\u001b[0m\n\u001b[1;32m    340\u001b[0m                 \u001b[0mmode\u001b[0m\u001b[0;34m=\u001b[0m\u001b[0mModeKeys\u001b[0m\u001b[0;34m.\u001b[0m\u001b[0mTRAIN\u001b[0m\u001b[0;34m,\u001b[0m\u001b[0;34m\u001b[0m\u001b[0;34m\u001b[0m\u001b[0m\n\u001b[1;32m    341\u001b[0m                 \u001b[0mtraining_context\u001b[0m\u001b[0;34m=\u001b[0m\u001b[0mtraining_context\u001b[0m\u001b[0;34m,\u001b[0m\u001b[0;34m\u001b[0m\u001b[0;34m\u001b[0m\u001b[0m\n\u001b[0;32m--> 342\u001b[0;31m                 total_epochs=epochs)\n\u001b[0m\u001b[1;32m    343\u001b[0m             \u001b[0mcbks\u001b[0m\u001b[0;34m.\u001b[0m\u001b[0mmake_logs\u001b[0m\u001b[0;34m(\u001b[0m\u001b[0mmodel\u001b[0m\u001b[0;34m,\u001b[0m \u001b[0mepoch_logs\u001b[0m\u001b[0;34m,\u001b[0m \u001b[0mtraining_result\u001b[0m\u001b[0;34m,\u001b[0m \u001b[0mModeKeys\u001b[0m\u001b[0;34m.\u001b[0m\u001b[0mTRAIN\u001b[0m\u001b[0;34m)\u001b[0m\u001b[0;34m\u001b[0m\u001b[0;34m\u001b[0m\u001b[0m\n\u001b[1;32m    344\u001b[0m \u001b[0;34m\u001b[0m\u001b[0m\n",
            "\u001b[0;32m/tensorflow-2.1.0/python3.6/tensorflow_core/python/keras/engine/training_v2.py\u001b[0m in \u001b[0;36mrun_one_epoch\u001b[0;34m(model, iterator, execution_function, dataset_size, batch_size, strategy, steps_per_epoch, num_samples, mode, training_context, total_epochs)\u001b[0m\n\u001b[1;32m    126\u001b[0m         step=step, mode=mode, size=current_batch_size) as batch_logs:\n\u001b[1;32m    127\u001b[0m       \u001b[0;32mtry\u001b[0m\u001b[0;34m:\u001b[0m\u001b[0;34m\u001b[0m\u001b[0;34m\u001b[0m\u001b[0m\n\u001b[0;32m--> 128\u001b[0;31m         \u001b[0mbatch_outs\u001b[0m \u001b[0;34m=\u001b[0m \u001b[0mexecution_function\u001b[0m\u001b[0;34m(\u001b[0m\u001b[0miterator\u001b[0m\u001b[0;34m)\u001b[0m\u001b[0;34m\u001b[0m\u001b[0;34m\u001b[0m\u001b[0m\n\u001b[0m\u001b[1;32m    129\u001b[0m       \u001b[0;32mexcept\u001b[0m \u001b[0;34m(\u001b[0m\u001b[0mStopIteration\u001b[0m\u001b[0;34m,\u001b[0m \u001b[0merrors\u001b[0m\u001b[0;34m.\u001b[0m\u001b[0mOutOfRangeError\u001b[0m\u001b[0;34m)\u001b[0m\u001b[0;34m:\u001b[0m\u001b[0;34m\u001b[0m\u001b[0;34m\u001b[0m\u001b[0m\n\u001b[1;32m    130\u001b[0m         \u001b[0;31m# TODO(kaftan): File bug about tf function and errors.OutOfRangeError?\u001b[0m\u001b[0;34m\u001b[0m\u001b[0;34m\u001b[0m\u001b[0;34m\u001b[0m\u001b[0m\n",
            "\u001b[0;32m/tensorflow-2.1.0/python3.6/tensorflow_core/python/keras/engine/training_v2_utils.py\u001b[0m in \u001b[0;36mexecution_function\u001b[0;34m(input_fn)\u001b[0m\n\u001b[1;32m     96\u001b[0m     \u001b[0;31m# `numpy` translates Tensors to values in Eager mode.\u001b[0m\u001b[0;34m\u001b[0m\u001b[0;34m\u001b[0m\u001b[0;34m\u001b[0m\u001b[0m\n\u001b[1;32m     97\u001b[0m     return nest.map_structure(_non_none_constant_value,\n\u001b[0;32m---> 98\u001b[0;31m                               distributed_function(input_fn))\n\u001b[0m\u001b[1;32m     99\u001b[0m \u001b[0;34m\u001b[0m\u001b[0m\n\u001b[1;32m    100\u001b[0m   \u001b[0;32mreturn\u001b[0m \u001b[0mexecution_function\u001b[0m\u001b[0;34m\u001b[0m\u001b[0;34m\u001b[0m\u001b[0m\n",
            "\u001b[0;32m/tensorflow-2.1.0/python3.6/tensorflow_core/python/eager/def_function.py\u001b[0m in \u001b[0;36m__call__\u001b[0;34m(self, *args, **kwds)\u001b[0m\n\u001b[1;32m    566\u001b[0m         \u001b[0mxla_context\u001b[0m\u001b[0;34m.\u001b[0m\u001b[0mExit\u001b[0m\u001b[0;34m(\u001b[0m\u001b[0;34m)\u001b[0m\u001b[0;34m\u001b[0m\u001b[0;34m\u001b[0m\u001b[0m\n\u001b[1;32m    567\u001b[0m     \u001b[0;32melse\u001b[0m\u001b[0;34m:\u001b[0m\u001b[0;34m\u001b[0m\u001b[0;34m\u001b[0m\u001b[0m\n\u001b[0;32m--> 568\u001b[0;31m       \u001b[0mresult\u001b[0m \u001b[0;34m=\u001b[0m \u001b[0mself\u001b[0m\u001b[0;34m.\u001b[0m\u001b[0m_call\u001b[0m\u001b[0;34m(\u001b[0m\u001b[0;34m*\u001b[0m\u001b[0margs\u001b[0m\u001b[0;34m,\u001b[0m \u001b[0;34m**\u001b[0m\u001b[0mkwds\u001b[0m\u001b[0;34m)\u001b[0m\u001b[0;34m\u001b[0m\u001b[0;34m\u001b[0m\u001b[0m\n\u001b[0m\u001b[1;32m    569\u001b[0m \u001b[0;34m\u001b[0m\u001b[0m\n\u001b[1;32m    570\u001b[0m     \u001b[0;32mif\u001b[0m \u001b[0mtracing_count\u001b[0m \u001b[0;34m==\u001b[0m \u001b[0mself\u001b[0m\u001b[0;34m.\u001b[0m\u001b[0m_get_tracing_count\u001b[0m\u001b[0;34m(\u001b[0m\u001b[0;34m)\u001b[0m\u001b[0;34m:\u001b[0m\u001b[0;34m\u001b[0m\u001b[0;34m\u001b[0m\u001b[0m\n",
            "\u001b[0;32m/tensorflow-2.1.0/python3.6/tensorflow_core/python/eager/def_function.py\u001b[0m in \u001b[0;36m_call\u001b[0;34m(self, *args, **kwds)\u001b[0m\n\u001b[1;32m    597\u001b[0m       \u001b[0;31m# In this case we have created variables on the first call, so we run the\u001b[0m\u001b[0;34m\u001b[0m\u001b[0;34m\u001b[0m\u001b[0;34m\u001b[0m\u001b[0m\n\u001b[1;32m    598\u001b[0m       \u001b[0;31m# defunned version which is guaranteed to never create variables.\u001b[0m\u001b[0;34m\u001b[0m\u001b[0;34m\u001b[0m\u001b[0;34m\u001b[0m\u001b[0m\n\u001b[0;32m--> 599\u001b[0;31m       \u001b[0;32mreturn\u001b[0m \u001b[0mself\u001b[0m\u001b[0;34m.\u001b[0m\u001b[0m_stateless_fn\u001b[0m\u001b[0;34m(\u001b[0m\u001b[0;34m*\u001b[0m\u001b[0margs\u001b[0m\u001b[0;34m,\u001b[0m \u001b[0;34m**\u001b[0m\u001b[0mkwds\u001b[0m\u001b[0;34m)\u001b[0m  \u001b[0;31m# pylint: disable=not-callable\u001b[0m\u001b[0;34m\u001b[0m\u001b[0;34m\u001b[0m\u001b[0m\n\u001b[0m\u001b[1;32m    600\u001b[0m     \u001b[0;32melif\u001b[0m \u001b[0mself\u001b[0m\u001b[0;34m.\u001b[0m\u001b[0m_stateful_fn\u001b[0m \u001b[0;32mis\u001b[0m \u001b[0;32mnot\u001b[0m \u001b[0;32mNone\u001b[0m\u001b[0;34m:\u001b[0m\u001b[0;34m\u001b[0m\u001b[0;34m\u001b[0m\u001b[0m\n\u001b[1;32m    601\u001b[0m       \u001b[0;31m# Release the lock early so that multiple threads can perform the call\u001b[0m\u001b[0;34m\u001b[0m\u001b[0;34m\u001b[0m\u001b[0;34m\u001b[0m\u001b[0m\n",
            "\u001b[0;32m/tensorflow-2.1.0/python3.6/tensorflow_core/python/eager/function.py\u001b[0m in \u001b[0;36m__call__\u001b[0;34m(self, *args, **kwargs)\u001b[0m\n\u001b[1;32m   2361\u001b[0m     \u001b[0;32mwith\u001b[0m \u001b[0mself\u001b[0m\u001b[0;34m.\u001b[0m\u001b[0m_lock\u001b[0m\u001b[0;34m:\u001b[0m\u001b[0;34m\u001b[0m\u001b[0;34m\u001b[0m\u001b[0m\n\u001b[1;32m   2362\u001b[0m       \u001b[0mgraph_function\u001b[0m\u001b[0;34m,\u001b[0m \u001b[0margs\u001b[0m\u001b[0;34m,\u001b[0m \u001b[0mkwargs\u001b[0m \u001b[0;34m=\u001b[0m \u001b[0mself\u001b[0m\u001b[0;34m.\u001b[0m\u001b[0m_maybe_define_function\u001b[0m\u001b[0;34m(\u001b[0m\u001b[0margs\u001b[0m\u001b[0;34m,\u001b[0m \u001b[0mkwargs\u001b[0m\u001b[0;34m)\u001b[0m\u001b[0;34m\u001b[0m\u001b[0;34m\u001b[0m\u001b[0m\n\u001b[0;32m-> 2363\u001b[0;31m     \u001b[0;32mreturn\u001b[0m \u001b[0mgraph_function\u001b[0m\u001b[0;34m.\u001b[0m\u001b[0m_filtered_call\u001b[0m\u001b[0;34m(\u001b[0m\u001b[0margs\u001b[0m\u001b[0;34m,\u001b[0m \u001b[0mkwargs\u001b[0m\u001b[0;34m)\u001b[0m  \u001b[0;31m# pylint: disable=protected-access\u001b[0m\u001b[0;34m\u001b[0m\u001b[0;34m\u001b[0m\u001b[0m\n\u001b[0m\u001b[1;32m   2364\u001b[0m \u001b[0;34m\u001b[0m\u001b[0m\n\u001b[1;32m   2365\u001b[0m   \u001b[0;34m@\u001b[0m\u001b[0mproperty\u001b[0m\u001b[0;34m\u001b[0m\u001b[0;34m\u001b[0m\u001b[0m\n",
            "\u001b[0;32m/tensorflow-2.1.0/python3.6/tensorflow_core/python/eager/function.py\u001b[0m in \u001b[0;36m_filtered_call\u001b[0;34m(self, args, kwargs)\u001b[0m\n\u001b[1;32m   1609\u001b[0m          if isinstance(t, (ops.Tensor,\n\u001b[1;32m   1610\u001b[0m                            resource_variable_ops.BaseResourceVariable))),\n\u001b[0;32m-> 1611\u001b[0;31m         self.captured_inputs)\n\u001b[0m\u001b[1;32m   1612\u001b[0m \u001b[0;34m\u001b[0m\u001b[0m\n\u001b[1;32m   1613\u001b[0m   \u001b[0;32mdef\u001b[0m \u001b[0m_call_flat\u001b[0m\u001b[0;34m(\u001b[0m\u001b[0mself\u001b[0m\u001b[0;34m,\u001b[0m \u001b[0margs\u001b[0m\u001b[0;34m,\u001b[0m \u001b[0mcaptured_inputs\u001b[0m\u001b[0;34m,\u001b[0m \u001b[0mcancellation_manager\u001b[0m\u001b[0;34m=\u001b[0m\u001b[0;32mNone\u001b[0m\u001b[0;34m)\u001b[0m\u001b[0;34m:\u001b[0m\u001b[0;34m\u001b[0m\u001b[0;34m\u001b[0m\u001b[0m\n",
            "\u001b[0;32m/tensorflow-2.1.0/python3.6/tensorflow_core/python/eager/function.py\u001b[0m in \u001b[0;36m_call_flat\u001b[0;34m(self, args, captured_inputs, cancellation_manager)\u001b[0m\n\u001b[1;32m   1690\u001b[0m       \u001b[0;31m# No tape is watching; skip to running the function.\u001b[0m\u001b[0;34m\u001b[0m\u001b[0;34m\u001b[0m\u001b[0;34m\u001b[0m\u001b[0m\n\u001b[1;32m   1691\u001b[0m       return self._build_call_outputs(self._inference_function.call(\n\u001b[0;32m-> 1692\u001b[0;31m           ctx, args, cancellation_manager=cancellation_manager))\n\u001b[0m\u001b[1;32m   1693\u001b[0m     forward_backward = self._select_forward_and_backward_functions(\n\u001b[1;32m   1694\u001b[0m         \u001b[0margs\u001b[0m\u001b[0;34m,\u001b[0m\u001b[0;34m\u001b[0m\u001b[0;34m\u001b[0m\u001b[0m\n",
            "\u001b[0;32m/tensorflow-2.1.0/python3.6/tensorflow_core/python/eager/function.py\u001b[0m in \u001b[0;36mcall\u001b[0;34m(self, ctx, args, cancellation_manager)\u001b[0m\n\u001b[1;32m    543\u001b[0m               \u001b[0minputs\u001b[0m\u001b[0;34m=\u001b[0m\u001b[0margs\u001b[0m\u001b[0;34m,\u001b[0m\u001b[0;34m\u001b[0m\u001b[0;34m\u001b[0m\u001b[0m\n\u001b[1;32m    544\u001b[0m               \u001b[0mattrs\u001b[0m\u001b[0;34m=\u001b[0m\u001b[0;34m(\u001b[0m\u001b[0;34m\"executor_type\"\u001b[0m\u001b[0;34m,\u001b[0m \u001b[0mexecutor_type\u001b[0m\u001b[0;34m,\u001b[0m \u001b[0;34m\"config_proto\"\u001b[0m\u001b[0;34m,\u001b[0m \u001b[0mconfig\u001b[0m\u001b[0;34m)\u001b[0m\u001b[0;34m,\u001b[0m\u001b[0;34m\u001b[0m\u001b[0;34m\u001b[0m\u001b[0m\n\u001b[0;32m--> 545\u001b[0;31m               ctx=ctx)\n\u001b[0m\u001b[1;32m    546\u001b[0m         \u001b[0;32melse\u001b[0m\u001b[0;34m:\u001b[0m\u001b[0;34m\u001b[0m\u001b[0;34m\u001b[0m\u001b[0m\n\u001b[1;32m    547\u001b[0m           outputs = execute.execute_with_cancellation(\n",
            "\u001b[0;32m/tensorflow-2.1.0/python3.6/tensorflow_core/python/eager/execute.py\u001b[0m in \u001b[0;36mquick_execute\u001b[0;34m(op_name, num_outputs, inputs, attrs, ctx, name)\u001b[0m\n\u001b[1;32m     59\u001b[0m     tensors = pywrap_tensorflow.TFE_Py_Execute(ctx._handle, device_name,\n\u001b[1;32m     60\u001b[0m                                                \u001b[0mop_name\u001b[0m\u001b[0;34m,\u001b[0m \u001b[0minputs\u001b[0m\u001b[0;34m,\u001b[0m \u001b[0mattrs\u001b[0m\u001b[0;34m,\u001b[0m\u001b[0;34m\u001b[0m\u001b[0;34m\u001b[0m\u001b[0m\n\u001b[0;32m---> 61\u001b[0;31m                                                num_outputs)\n\u001b[0m\u001b[1;32m     62\u001b[0m   \u001b[0;32mexcept\u001b[0m \u001b[0mcore\u001b[0m\u001b[0;34m.\u001b[0m\u001b[0m_NotOkStatusException\u001b[0m \u001b[0;32mas\u001b[0m \u001b[0me\u001b[0m\u001b[0;34m:\u001b[0m\u001b[0;34m\u001b[0m\u001b[0;34m\u001b[0m\u001b[0m\n\u001b[1;32m     63\u001b[0m     \u001b[0;32mif\u001b[0m \u001b[0mname\u001b[0m \u001b[0;32mis\u001b[0m \u001b[0;32mnot\u001b[0m \u001b[0;32mNone\u001b[0m\u001b[0;34m:\u001b[0m\u001b[0;34m\u001b[0m\u001b[0;34m\u001b[0m\u001b[0m\n",
            "\u001b[0;31mKeyboardInterrupt\u001b[0m: "
          ]
        }
      ]
    },
    {
      "cell_type": "markdown",
      "metadata": {
        "id": "b2FosshNNmY0",
        "colab_type": "text"
      },
      "source": [
        "# Plot acc,loss"
      ]
    },
    {
      "cell_type": "code",
      "metadata": {
        "id": "MWZrJN4-65RC",
        "colab_type": "code",
        "outputId": "15c9ff2c-0ac0-4622-bc82-6c75b870468e",
        "colab": {
          "base_uri": "https://localhost:8080/",
          "height": 562
        }
      },
      "source": [
        "# PLOT LOSS AND ACCURACY \n",
        "%matplotlib inline\n",
        "\n",
        "import matplotlib.image  as mpimg\n",
        "import matplotlib.pyplot as plt\n",
        "\n",
        "#-----------------------------------------------------------\n",
        "# Retrieve a list of list results on training and test data\n",
        "# sets for each training epoch\n",
        "#-----------------------------------------------------------\n",
        "acc=history.history['acc']\n",
        "val_acc=history.history['val_acc']\n",
        "loss=history.history['loss']\n",
        "val_loss=history.history['val_loss']\n",
        "\n",
        "epochs=range(len(acc)) # Get number of epochs\n",
        "\n",
        "#------------------------------------------------\n",
        "# Plot training and validation accuracy per epoch\n",
        "#------------------------------------------------\n",
        "plt.plot(epochs, acc, 'r', \"Training Accuracy\")\n",
        "plt.plot(epochs, val_acc, 'b', \"Validation Accuracy\")\n",
        "plt.title('Training and validation accuracy')\n",
        "plt.figure()\n",
        "\n",
        "#------------------------------------------------\n",
        "# Plot training and validation loss per epoch\n",
        "#------------------------------------------------\n",
        "plt.plot(epochs, loss, 'r', \"Training Loss\")\n",
        "plt.plot(epochs, val_loss, 'b', \"Validation Loss\")\n",
        "\n",
        "\n",
        "plt.title('Training and validation loss')\n",
        "\n",
        "# Desired output. Charts with training and validation metrics. No crash :)"
      ],
      "execution_count": 0,
      "outputs": [
        {
          "output_type": "execute_result",
          "data": {
            "text/plain": [
              "Text(0.5, 1.0, 'Training and validation loss')"
            ]
          },
          "metadata": {
            "tags": []
          },
          "execution_count": 29
        },
        {
          "output_type": "display_data",
          "data": {
            "image/png": "[encoded data removed]",
            "text/plain": [
              "<Figure size 432x288 with 1 Axes>"
            ]
          },
          "metadata": {
            "tags": []
          }
        },
        {
          "output_type": "display_data",
          "data": {
            "image/png": "[encoded data removed]",
            "text/plain": [
              "<Figure size 432x288 with 1 Axes>"
            ]
          },
          "metadata": {
            "tags": []
          }
        }
      ]
    },
    {
      "cell_type": "markdown",
      "metadata": {
        "id": "LbECsN7xyGR3",
        "colab_type": "text"
      },
      "source": [
        "#load Model"
      ]
    },
    {
      "cell_type": "code",
      "metadata": {
        "id": "x4BbGY3NyE3X",
        "colab_type": "code",
        "outputId": "b9fd180d-23ed-4e68-e360-794d61976404",
        "colab": {
          "base_uri": "https://localhost:8080/",
          "height": 1000
        }
      },
      "source": [
        "model.summary()"
      ],
      "execution_count": 53,
      "outputs": [
        {
          "output_type": "stream",
          "text": [
            "Model: \"ResNet50\"\n",
            "__________________________________________________________________________________________________\n",
            "Layer (type)                    Output Shape         Param #     Connected to                     \n",
            "==================================================================================================\n",
            "input_18 (InputLayer)           [(None, 150, 150, 3) 0                                            \n",
            "__________________________________________________________________________________________________\n",
            "conv1 (Conv2D)                  (None, 72, 72, 64)   9472        input_18[0][0]                   \n",
            "__________________________________________________________________________________________________\n",
            "bn_conv1 (BatchNormalization)   (None, 72, 72, 64)   256         conv1[0][0]                      \n",
            "__________________________________________________________________________________________________\n",
            "activation_204 (Activation)     (None, 72, 72, 64)   0           bn_conv1[0][0]                   \n",
            "__________________________________________________________________________________________________\n",
            "max_pooling2d_17 (MaxPooling2D) (None, 35, 35, 64)   0           activation_204[0][0]             \n",
            "__________________________________________________________________________________________________\n",
            "Res_Conv_2a_branch2a (Conv2D)   (None, 35, 35, 64)   4160        max_pooling2d_17[0][0]           \n",
            "__________________________________________________________________________________________________\n",
            "BN_2a_branch2a (BatchNormalizat (None, 35, 35, 64)   256         Res_Conv_2a_branch2a[0][0]       \n",
            "__________________________________________________________________________________________________\n",
            "activation_205 (Activation)     (None, 35, 35, 64)   0           BN_2a_branch2a[0][0]             \n",
            "__________________________________________________________________________________________________\n",
            "Res_Conv_2a_branch2b (Conv2D)   (None, 35, 35, 64)   36928       activation_205[0][0]             \n",
            "__________________________________________________________________________________________________\n",
            "BN_2a_branch2b (BatchNormalizat (None, 35, 35, 64)   256         Res_Conv_2a_branch2b[0][0]       \n",
            "__________________________________________________________________________________________________\n",
            "activation_206 (Activation)     (None, 35, 35, 64)   0           BN_2a_branch2b[0][0]             \n",
            "__________________________________________________________________________________________________\n",
            "Res_Conv_2a_branch2c (Conv2D)   (None, 35, 35, 256)  16640       activation_206[0][0]             \n",
            "__________________________________________________________________________________________________\n",
            "Res_Conv_2a_branch_st (Conv2D)  (None, 35, 35, 256)  16640       max_pooling2d_17[0][0]           \n",
            "__________________________________________________________________________________________________\n",
            "BN_2a_branch2c (BatchNormalizat (None, 35, 35, 256)  1024        Res_Conv_2a_branch2c[0][0]       \n",
            "__________________________________________________________________________________________________\n",
            "BN_2a_branch_st (BatchNormaliza (None, 35, 35, 256)  1024        Res_Conv_2a_branch_st[0][0]      \n",
            "__________________________________________________________________________________________________\n",
            "add_60 (Add)                    (None, 35, 35, 256)  0           BN_2a_branch2c[0][0]             \n",
            "                                                                 BN_2a_branch_st[0][0]            \n",
            "__________________________________________________________________________________________________\n",
            "activation_207 (Activation)     (None, 35, 35, 256)  0           add_60[0][0]                     \n",
            "__________________________________________________________________________________________________\n",
            "RES_CONV_2_b2c (Conv2D)         (None, 35, 35, 256)  65792       activation_207[0][0]             \n",
            "__________________________________________________________________________________________________\n",
            "RES_BN_2_b2c (BatchNormalizatio (None, 35, 35, 256)  1024        RES_CONV_2_b2c[0][0]             \n",
            "__________________________________________________________________________________________________\n",
            "add_61 (Add)                    (None, 35, 35, 256)  0           RES_BN_2_b2c[0][0]               \n",
            "                                                                 activation_207[0][0]             \n",
            "__________________________________________________________________________________________________\n",
            "activation_210 (Activation)     (None, 35, 35, 256)  0           add_61[0][0]                     \n",
            "__________________________________________________________________________________________________\n",
            "RES_CONV_2_c2c (Conv2D)         (None, 35, 35, 256)  65792       activation_210[0][0]             \n",
            "__________________________________________________________________________________________________\n",
            "RES_BN_2_c2c (BatchNormalizatio (None, 35, 35, 256)  1024        RES_CONV_2_c2c[0][0]             \n",
            "__________________________________________________________________________________________________\n",
            "add_62 (Add)                    (None, 35, 35, 256)  0           RES_BN_2_c2c[0][0]               \n",
            "                                                                 activation_210[0][0]             \n",
            "__________________________________________________________________________________________________\n",
            "activation_213 (Activation)     (None, 35, 35, 256)  0           add_62[0][0]                     \n",
            "__________________________________________________________________________________________________\n",
            "Res_Conv_3a_branch2a (Conv2D)   (None, 18, 18, 128)  32896       activation_213[0][0]             \n",
            "__________________________________________________________________________________________________\n",
            "BN_3a_branch2a (BatchNormalizat (None, 18, 18, 128)  512         Res_Conv_3a_branch2a[0][0]       \n",
            "__________________________________________________________________________________________________\n",
            "activation_214 (Activation)     (None, 18, 18, 128)  0           BN_3a_branch2a[0][0]             \n",
            "__________________________________________________________________________________________________\n",
            "Res_Conv_3a_branch2b (Conv2D)   (None, 18, 18, 128)  147584      activation_214[0][0]             \n",
            "__________________________________________________________________________________________________\n",
            "BN_3a_branch2b (BatchNormalizat (None, 18, 18, 128)  512         Res_Conv_3a_branch2b[0][0]       \n",
            "__________________________________________________________________________________________________\n",
            "activation_215 (Activation)     (None, 18, 18, 128)  0           BN_3a_branch2b[0][0]             \n",
            "__________________________________________________________________________________________________\n",
            "Res_Conv_3a_branch2c (Conv2D)   (None, 18, 18, 512)  66048       activation_215[0][0]             \n",
            "__________________________________________________________________________________________________\n",
            "Res_Conv_3a_branch_st (Conv2D)  (None, 18, 18, 512)  131584      activation_213[0][0]             \n",
            "__________________________________________________________________________________________________\n",
            "BN_3a_branch2c (BatchNormalizat (None, 18, 18, 512)  2048        Res_Conv_3a_branch2c[0][0]       \n",
            "__________________________________________________________________________________________________\n",
            "BN_3a_branch_st (BatchNormaliza (None, 18, 18, 512)  2048        Res_Conv_3a_branch_st[0][0]      \n",
            "__________________________________________________________________________________________________\n",
            "add_63 (Add)                    (None, 18, 18, 512)  0           BN_3a_branch2c[0][0]             \n",
            "                                                                 BN_3a_branch_st[0][0]            \n",
            "__________________________________________________________________________________________________\n",
            "activation_216 (Activation)     (None, 18, 18, 512)  0           add_63[0][0]                     \n",
            "__________________________________________________________________________________________________\n",
            "RES_CONV_3_b2c (Conv2D)         (None, 18, 18, 512)  262656      activation_216[0][0]             \n",
            "__________________________________________________________________________________________________\n",
            "RES_BN_3_b2c (BatchNormalizatio (None, 18, 18, 512)  2048        RES_CONV_3_b2c[0][0]             \n",
            "__________________________________________________________________________________________________\n",
            "add_64 (Add)                    (None, 18, 18, 512)  0           RES_BN_3_b2c[0][0]               \n",
            "                                                                 activation_216[0][0]             \n",
            "__________________________________________________________________________________________________\n",
            "activation_219 (Activation)     (None, 18, 18, 512)  0           add_64[0][0]                     \n",
            "__________________________________________________________________________________________________\n",
            "RES_CONV_3_c2c (Conv2D)         (None, 18, 18, 512)  262656      activation_219[0][0]             \n",
            "__________________________________________________________________________________________________\n",
            "RES_BN_3_c2c (BatchNormalizatio (None, 18, 18, 512)  2048        RES_CONV_3_c2c[0][0]             \n",
            "__________________________________________________________________________________________________\n",
            "add_65 (Add)                    (None, 18, 18, 512)  0           RES_BN_3_c2c[0][0]               \n",
            "                                                                 activation_219[0][0]             \n",
            "__________________________________________________________________________________________________\n",
            "activation_222 (Activation)     (None, 18, 18, 512)  0           add_65[0][0]                     \n",
            "__________________________________________________________________________________________________\n",
            "RES_CONV_3_d2c (Conv2D)         (None, 18, 18, 512)  262656      activation_222[0][0]             \n",
            "__________________________________________________________________________________________________\n",
            "RES_BN_3_d2c (BatchNormalizatio (None, 18, 18, 512)  2048        RES_CONV_3_d2c[0][0]             \n",
            "__________________________________________________________________________________________________\n",
            "add_66 (Add)                    (None, 18, 18, 512)  0           RES_BN_3_d2c[0][0]               \n",
            "                                                                 activation_222[0][0]             \n",
            "__________________________________________________________________________________________________\n",
            "activation_225 (Activation)     (None, 18, 18, 512)  0           add_66[0][0]                     \n",
            "__________________________________________________________________________________________________\n",
            "Res_Conv_4a_branch2a (Conv2D)   (None, 9, 9, 256)    131328      activation_225[0][0]             \n",
            "__________________________________________________________________________________________________\n",
            "BN_4a_branch2a (BatchNormalizat (None, 9, 9, 256)    1024        Res_Conv_4a_branch2a[0][0]       \n",
            "__________________________________________________________________________________________________\n",
            "activation_226 (Activation)     (None, 9, 9, 256)    0           BN_4a_branch2a[0][0]             \n",
            "__________________________________________________________________________________________________\n",
            "Res_Conv_4a_branch2b (Conv2D)   (None, 9, 9, 256)    590080      activation_226[0][0]             \n",
            "__________________________________________________________________________________________________\n",
            "BN_4a_branch2b (BatchNormalizat (None, 9, 9, 256)    1024        Res_Conv_4a_branch2b[0][0]       \n",
            "__________________________________________________________________________________________________\n",
            "activation_227 (Activation)     (None, 9, 9, 256)    0           BN_4a_branch2b[0][0]             \n",
            "__________________________________________________________________________________________________\n",
            "Res_Conv_4a_branch2c (Conv2D)   (None, 9, 9, 1024)   263168      activation_227[0][0]             \n",
            "__________________________________________________________________________________________________\n",
            "Res_Conv_4a_branch_st (Conv2D)  (None, 9, 9, 1024)   525312      activation_225[0][0]             \n",
            "__________________________________________________________________________________________________\n",
            "BN_4a_branch2c (BatchNormalizat (None, 9, 9, 1024)   4096        Res_Conv_4a_branch2c[0][0]       \n",
            "__________________________________________________________________________________________________\n",
            "BN_4a_branch_st (BatchNormaliza (None, 9, 9, 1024)   4096        Res_Conv_4a_branch_st[0][0]      \n",
            "__________________________________________________________________________________________________\n",
            "add_67 (Add)                    (None, 9, 9, 1024)   0           BN_4a_branch2c[0][0]             \n",
            "                                                                 BN_4a_branch_st[0][0]            \n",
            "__________________________________________________________________________________________________\n",
            "activation_228 (Activation)     (None, 9, 9, 1024)   0           add_67[0][0]                     \n",
            "__________________________________________________________________________________________________\n",
            "RES_CONV_4_b2c (Conv2D)         (None, 9, 9, 1024)   1049600     activation_228[0][0]             \n",
            "__________________________________________________________________________________________________\n",
            "RES_BN_4_b2c (BatchNormalizatio (None, 9, 9, 1024)   4096        RES_CONV_4_b2c[0][0]             \n",
            "__________________________________________________________________________________________________\n",
            "add_68 (Add)                    (None, 9, 9, 1024)   0           RES_BN_4_b2c[0][0]               \n",
            "                                                                 activation_228[0][0]             \n",
            "__________________________________________________________________________________________________\n",
            "activation_231 (Activation)     (None, 9, 9, 1024)   0           add_68[0][0]                     \n",
            "__________________________________________________________________________________________________\n",
            "RES_CONV_4_c2c (Conv2D)         (None, 9, 9, 1024)   1049600     activation_231[0][0]             \n",
            "__________________________________________________________________________________________________\n",
            "RES_BN_4_c2c (BatchNormalizatio (None, 9, 9, 1024)   4096        RES_CONV_4_c2c[0][0]             \n",
            "__________________________________________________________________________________________________\n",
            "add_69 (Add)                    (None, 9, 9, 1024)   0           RES_BN_4_c2c[0][0]               \n",
            "                                                                 activation_231[0][0]             \n",
            "__________________________________________________________________________________________________\n",
            "activation_234 (Activation)     (None, 9, 9, 1024)   0           add_69[0][0]                     \n",
            "__________________________________________________________________________________________________\n",
            "RES_CONV_4_d2c (Conv2D)         (None, 9, 9, 1024)   1049600     activation_234[0][0]             \n",
            "__________________________________________________________________________________________________\n",
            "RES_BN_4_d2c (BatchNormalizatio (None, 9, 9, 1024)   4096        RES_CONV_4_d2c[0][0]             \n",
            "__________________________________________________________________________________________________\n",
            "add_70 (Add)                    (None, 9, 9, 1024)   0           RES_BN_4_d2c[0][0]               \n",
            "                                                                 activation_234[0][0]             \n",
            "__________________________________________________________________________________________________\n",
            "activation_237 (Activation)     (None, 9, 9, 1024)   0           add_70[0][0]                     \n",
            "__________________________________________________________________________________________________\n",
            "RES_CONV_4_e2c (Conv2D)         (None, 9, 9, 1024)   1049600     activation_237[0][0]             \n",
            "__________________________________________________________________________________________________\n",
            "RES_BN_4_e2c (BatchNormalizatio (None, 9, 9, 1024)   4096        RES_CONV_4_e2c[0][0]             \n",
            "__________________________________________________________________________________________________\n",
            "add_71 (Add)                    (None, 9, 9, 1024)   0           RES_BN_4_e2c[0][0]               \n",
            "                                                                 activation_237[0][0]             \n",
            "__________________________________________________________________________________________________\n",
            "activation_240 (Activation)     (None, 9, 9, 1024)   0           add_71[0][0]                     \n",
            "__________________________________________________________________________________________________\n",
            "RES_CONV_4_f2c (Conv2D)         (None, 9, 9, 1024)   1049600     activation_240[0][0]             \n",
            "__________________________________________________________________________________________________\n",
            "RES_BN_4_f2c (BatchNormalizatio (None, 9, 9, 1024)   4096        RES_CONV_4_f2c[0][0]             \n",
            "__________________________________________________________________________________________________\n",
            "add_72 (Add)                    (None, 9, 9, 1024)   0           RES_BN_4_f2c[0][0]               \n",
            "                                                                 activation_240[0][0]             \n",
            "__________________________________________________________________________________________________\n",
            "activation_243 (Activation)     (None, 9, 9, 1024)   0           add_72[0][0]                     \n",
            "__________________________________________________________________________________________________\n",
            "Res_Conv_5a_branch2a (Conv2D)   (None, 5, 5, 512)    524800      activation_243[0][0]             \n",
            "__________________________________________________________________________________________________\n",
            "BN_5a_branch2a (BatchNormalizat (None, 5, 5, 512)    2048        Res_Conv_5a_branch2a[0][0]       \n",
            "__________________________________________________________________________________________________\n",
            "activation_244 (Activation)     (None, 5, 5, 512)    0           BN_5a_branch2a[0][0]             \n",
            "__________________________________________________________________________________________________\n",
            "Res_Conv_5a_branch2b (Conv2D)   (None, 5, 5, 512)    2359808     activation_244[0][0]             \n",
            "__________________________________________________________________________________________________\n",
            "BN_5a_branch2b (BatchNormalizat (None, 5, 5, 512)    2048        Res_Conv_5a_branch2b[0][0]       \n",
            "__________________________________________________________________________________________________\n",
            "activation_245 (Activation)     (None, 5, 5, 512)    0           BN_5a_branch2b[0][0]             \n",
            "__________________________________________________________________________________________________\n",
            "Res_Conv_5a_branch2c (Conv2D)   (None, 5, 5, 2048)   1050624     activation_245[0][0]             \n",
            "__________________________________________________________________________________________________\n",
            "Res_Conv_5a_branch_st (Conv2D)  (None, 5, 5, 2048)   2099200     activation_243[0][0]             \n",
            "__________________________________________________________________________________________________\n",
            "BN_5a_branch2c (BatchNormalizat (None, 5, 5, 2048)   8192        Res_Conv_5a_branch2c[0][0]       \n",
            "__________________________________________________________________________________________________\n",
            "BN_5a_branch_st (BatchNormaliza (None, 5, 5, 2048)   8192        Res_Conv_5a_branch_st[0][0]      \n",
            "__________________________________________________________________________________________________\n",
            "add_73 (Add)                    (None, 5, 5, 2048)   0           BN_5a_branch2c[0][0]             \n",
            "                                                                 BN_5a_branch_st[0][0]            \n",
            "__________________________________________________________________________________________________\n",
            "activation_246 (Activation)     (None, 5, 5, 2048)   0           add_73[0][0]                     \n",
            "__________________________________________________________________________________________________\n",
            "RES_CONV_5_b2c (Conv2D)         (None, 5, 5, 2048)   4196352     activation_246[0][0]             \n",
            "__________________________________________________________________________________________________\n",
            "RES_BN_5_b2c (BatchNormalizatio (None, 5, 5, 2048)   8192        RES_CONV_5_b2c[0][0]             \n",
            "__________________________________________________________________________________________________\n",
            "add_74 (Add)                    (None, 5, 5, 2048)   0           RES_BN_5_b2c[0][0]               \n",
            "                                                                 activation_246[0][0]             \n",
            "__________________________________________________________________________________________________\n",
            "activation_249 (Activation)     (None, 5, 5, 2048)   0           add_74[0][0]                     \n",
            "__________________________________________________________________________________________________\n",
            "RES_CONV_5_c2c (Conv2D)         (None, 5, 5, 2048)   4196352     activation_249[0][0]             \n",
            "__________________________________________________________________________________________________\n",
            "RES_BN_5_c2c (BatchNormalizatio (None, 5, 5, 2048)   8192        RES_CONV_5_c2c[0][0]             \n",
            "__________________________________________________________________________________________________\n",
            "add_75 (Add)                    (None, 5, 5, 2048)   0           RES_BN_5_c2c[0][0]               \n",
            "                                                                 activation_249[0][0]             \n",
            "__________________________________________________________________________________________________\n",
            "activation_252 (Activation)     (None, 5, 5, 2048)   0           add_75[0][0]                     \n",
            "__________________________________________________________________________________________________\n",
            "avg_pooling (AveragePooling2D)  (None, 2, 2, 2048)   0           activation_252[0][0]             \n",
            "__________________________________________________________________________________________________\n",
            "flatten_2 (Flatten)             (None, 8192)         0           avg_pooling[0][0]                \n",
            "__________________________________________________________________________________________________\n",
            "fc2 (Dense)                     (None, 2)            16386       flatten_2[0][0]                  \n",
            "==================================================================================================\n",
            "Total params: 22,666,626\n",
            "Trainable params: 22,624,770\n",
            "Non-trainable params: 41,856\n",
            "__________________________________________________________________________________________________\n"
          ],
          "name": "stdout"
        }
      ]
    },
    {
      "cell_type": "code",
      "metadata": {
        "id": "Ed3ddXXJyOc1",
        "colab_type": "code",
        "outputId": "6ffc6dea-4a0c-44d5-f58c-7424f7d7134a",
        "colab": {
          "base_uri": "https://localhost:8080/",
          "height": 34
        }
      },
      "source": [
        "LOG_DIR"
      ],
      "execution_count": 0,
      "outputs": [
        {
          "output_type": "execute_result",
          "data": {
            "text/plain": [
              "'/content/drive/My Drive/logs/cat_dog/'"
            ]
          },
          "metadata": {
            "tags": []
          },
          "execution_count": 24
        }
      ]
    },
    {
      "cell_type": "code",
      "metadata": {
        "id": "gkHd-i8JyKSL",
        "colab_type": "code",
        "colab": {}
      },
      "source": [
        "model.load_weights(LOG_DIR + 'ep036-loss0.119-val_loss0.129.h5')"
      ],
      "execution_count": 0,
      "outputs": []
    },
    {
      "cell_type": "markdown",
      "metadata": {
        "id": "qS2UU1QtN2mP",
        "colab_type": "text"
      },
      "source": [
        "# Predict"
      ]
    },
    {
      "cell_type": "markdown",
      "metadata": {
        "id": "FH4ljfPlGJl3",
        "colab_type": "text"
      },
      "source": [
        "## REMEMBER TO ADD (1/255) !!!"
      ]
    },
    {
      "cell_type": "code",
      "metadata": {
        "id": "_GUKKcMMGH5L",
        "colab_type": "code",
        "colab": {}
      },
      "source": [
        ""
      ],
      "execution_count": 0,
      "outputs": []
    },
    {
      "cell_type": "code",
      "metadata": {
        "id": "LqL6FYUrtXpf",
        "colab_type": "code",
        "outputId": "8ebb1158-4db2-4104-c797-33f17f372212",
        "colab": {
          "resources": {
            "http://localhost:8080/nbextensions/google.colab/files.js": {
              "data": "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",
              "ok": true,
              "headers": [
                [
                  "content-type",
                  "application/javascript"
                ]
              ],
              "status": 200,
              "status_text": ""
            }
          },
          "base_uri": "https://localhost:8080/",
          "height": 1000
        }
      },
      "source": [
        "# Here's a codeblock just for fun. You should be able to upload an image here \n",
        "# and have it classified without crashing\n",
        "\n",
        "import numpy as np\n",
        "from google.colab import files\n",
        "from keras.preprocessing import image\n",
        "\n",
        "uploaded = files.upload()\n",
        "\n",
        "for fn in uploaded.keys():\n",
        " \n",
        "  # predicting images\n",
        "  path = '/content/' + fn\n",
        "  img = image.load_img(path, target_size=(150,150))\n",
        "  x = image.img_to_array(img) * (1/255)\n",
        "  x = np.expand_dims(x, axis=0)\n",
        "\n",
        "  images = np.vstack([x])\n",
        "  classes = model.predict(images, batch_size=10)\n",
        "  print(classes)\n",
        "  print(classes[0])\n",
        "  if classes[0]>0.5:\n",
        "    print(fn + \" is a dog\")\n",
        "  else:\n",
        "    print(fn + \" is a cat\")"
      ],
      "execution_count": 0,
      "outputs": [
        {
          "output_type": "display_data",
          "data": {
            "text/html": [
              "\n",
              "     <input type=\"file\" id=\"files-813222d1-f1c7-4dbb-95e7-7fc1e85889a4\" name=\"files[]\" multiple disabled />\n",
              "     <output id=\"result-813222d1-f1c7-4dbb-95e7-7fc1e85889a4\">\n",
              "      Upload widget is only available when the cell has been executed in the\n",
              "      current browser session. Please rerun this cell to enable.\n",
              "      </output>\n",
              "      <script src=\"/nbextensions/google.colab/files.js\"></script> "
            ],
            "text/plain": [
              "<IPython.core.display.HTML object>"
            ]
          },
          "metadata": {
            "tags": []
          }
        },
        {
          "output_type": "stream",
          "text": [
            "Saving cat1.jpg to cat1 (2).jpg\n",
            "Saving cat2.jpg to cat2 (1).jpg\n",
            "Saving cat3.jpg to cat3 (2).jpg\n",
            "Saving cat4.jpg to cat4 (4).jpg\n",
            "Saving cat5.jpg to cat5 (1).jpg\n",
            "Saving cat6.jpg to cat6 (3).jpg\n",
            "Saving cat7.jpg to cat7 (1).jpg\n",
            "Saving cat8.jpg to cat8 (1).jpg\n",
            "Saving dog1.jpg to dog1 (1).jpg\n",
            "Saving dog2.jpg to dog2 (1).jpg\n",
            "Saving dog3.jpg to dog3 (2).jpg\n",
            "Saving dog4.jpg to dog4 (2).jpg\n",
            "Saving dog5.jpg to dog5 (1).jpg\n",
            "Saving dog6.jpg to dog6 (1).jpg\n",
            "Saving dog7.jpg to dog7 (1).jpg\n",
            "Saving dog8.jpg to dog8 (1).jpg\n",
            "[[0.76533794]]\n",
            "[0.76533794]\n",
            "cat1.jpg is a dog\n",
            "[[0.19487248]]\n",
            "[0.19487248]\n",
            "cat2.jpg is a cat\n",
            "[[0.0174355]]\n",
            "[0.0174355]\n",
            "cat3.jpg is a cat\n",
            "[[0.00066156]]\n",
            "[0.00066156]\n",
            "cat4.jpg is a cat\n",
            "[[0.00593456]]\n",
            "[0.00593456]\n",
            "cat5.jpg is a cat\n",
            "[[0.02451831]]\n",
            "[0.02451831]\n",
            "cat6.jpg is a cat\n",
            "[[0.2138831]]\n",
            "[0.2138831]\n",
            "cat7.jpg is a cat\n",
            "[[0.4728716]]\n",
            "[0.4728716]\n",
            "cat8.jpg is a cat\n",
            "[[1.]]\n",
            "[1.]\n",
            "dog1.jpg is a dog\n",
            "[[0.9999894]]\n",
            "[0.9999894]\n",
            "dog2.jpg is a dog\n",
            "[[0.3093538]]\n",
            "[0.3093538]\n",
            "dog3.jpg is a cat\n",
            "[[0.99971265]]\n",
            "[0.99971265]\n",
            "dog4.jpg is a dog\n",
            "[[0.98296654]]\n",
            "[0.98296654]\n",
            "dog5.jpg is a dog\n",
            "[[0.9959864]]\n",
            "[0.9959864]\n",
            "dog6.jpg is a dog\n",
            "[[0.9803848]]\n",
            "[0.9803848]\n",
            "dog7.jpg is a dog\n",
            "[[0.9999565]]\n",
            "[0.9999565]\n",
            "dog8.jpg is a dog\n"
          ],
          "name": "stdout"
        }
      ]
    },
    {
      "cell_type": "code",
      "metadata": {
        "id": "H7iJAgiq7hwI",
        "colab_type": "code",
        "colab": {}
      },
      "source": [
        "del model"
      ],
      "execution_count": 0,
      "outputs": []
    },
    {
      "cell_type": "code",
      "metadata": {
        "id": "1UBZ81EC2GSh",
        "colab_type": "code",
        "colab": {}
      },
      "source": [
        "# WITH BatchNormalization\n",
        "model = tf.keras.models.Sequential([\n",
        "  tf.keras.layers.Conv2D( 16,(3,3),activation=None,input_shape=(300,300,3)),\n",
        "  tf.keras.layers.BatchNormalization(momentum=0.9),\n",
        "  tf.keras.layers.Activation('relu'),\n",
        "  tf.keras.layers.MaxPool2D(),\n",
        "  # tf.keras.layers.Dropout(0.2),\n",
        "  tf.keras.layers.Conv2D( 32,(3,3),activation=None),\n",
        "  tf.keras.layers.BatchNormalization(momentum=0.9),\n",
        "  tf.keras.layers.Activation('relu'),\n",
        "  tf.keras.layers.MaxPool2D(),\n",
        "  # tf.keras.layers.Dropout(0.2),\n",
        "  tf.keras.layers.Conv2D( 64,(3,3),activation=None),\n",
        "  tf.keras.layers.BatchNormalization(momentum=0.9),\n",
        "  tf.keras.layers.Activation('relu'),\n",
        "  tf.keras.layers.MaxPool2D(),\n",
        "  # tf.keras.layers.Dropout(0.2),\n",
        "  tf.keras.layers.Conv2D(128,(3,3),activation=None),\n",
        "  tf.keras.layers.BatchNormalization(momentum=0.9),\n",
        "  tf.keras.layers.Activation('relu'),\n",
        "  tf.keras.layers.MaxPool2D(),\n",
        "\n",
        "  tf.keras.layers.Conv2D(256,(3,3),activation=None),\n",
        "  tf.keras.layers.BatchNormalization(momentum=0.9),\n",
        "  tf.keras.layers.Activation('relu'),\n",
        "  tf.keras.layers.MaxPool2D(),\n",
        "\n",
        "  # tf.keras.layers.Dropout(0.2),\n",
        "  tf.keras.layers.Flatten(),\n",
        "  tf.keras.layers.Dense(512,activation=None),\n",
        "  tf.keras.layers.BatchNormalization(momentum=0.9),\n",
        "  tf.keras.layers.Activation('relu'),\n",
        "  # tf.keras.layers.Dropout(0.4),\n",
        "  tf.keras.layers.Dense(1,activation=\"sigmoid\")\n",
        "# YOUR CODE HERE\n",
        "])\n"
      ],
      "execution_count": 0,
      "outputs": []
    },
    {
      "cell_type": "code",
      "metadata": {
        "id": "vVaJ67xf2H3f",
        "colab_type": "code",
        "colab": {}
      },
      "source": [
        "model.load_weights(LOG_DIR + 'ep036-loss0.119-val_loss0.129.h5')"
      ],
      "execution_count": 0,
      "outputs": []
    },
    {
      "cell_type": "code",
      "metadata": {
        "id": "vggFyBwP9aEy",
        "colab_type": "code",
        "colab": {}
      },
      "source": [
        "model.compile(optimizer=Adam(lr=LR), loss='binary_crossentropy', metrics=['acc'])"
      ],
      "execution_count": 0,
      "outputs": []
    },
    {
      "cell_type": "code",
      "metadata": {
        "id": "5Fbg92M4Exs1",
        "colab_type": "code",
        "colab": {}
      },
      "source": [
        ""
      ],
      "execution_count": 0,
      "outputs": []
    }
  ]
}