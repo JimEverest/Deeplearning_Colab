{
  "nbformat": 4,
  "nbformat_minor": 0,
  "metadata": {
    "colab": {
      "name": "CatDog-V3(ResNet)-WNB.ipynb",
      "provenance": [],
      "collapsed_sections": [],
      "toc_visible": true,
      "include_colab_link": true
    },
    "kernelspec": {
      "name": "python3",
      "display_name": "Python 3"
    },
    "accelerator": "GPU"
  },
  "cells": [
    {
      "cell_type": "markdown",
      "metadata": {
        "id": "view-in-github",
        "colab_type": "text"
      },
      "source": [
        "<a href=\"https://colab.research.google.com/github/JimEverest/Deeplearning_Colab/blob/master/CatDog_V3(ResNet)_WNB.ipynb\" target=\"_parent\"><img src=\"https://colab.research.google.com/assets/colab-badge.svg\" alt=\"Open In Colab\"/></a>"
      ]
    },
    {
      "cell_type": "markdown",
      "metadata": {
        "id": "QP7HS9c8MCXx",
        "colab_type": "text"
      },
      "source": [
        "#For Tensorboard ext"
      ]
    },
    {
      "cell_type": "code",
      "metadata": {
        "id": "y_NzvnlSIK-r",
        "colab_type": "code",
        "outputId": "25e45ba8-fbd5-4985-9ec2-fe5bcec179ff",
        "colab": {
          "base_uri": "https://localhost:8080/",
          "height": 34
        }
      },
      "source": [
        "try:\n",
        "  # %tensorflow_version only exists in Colab.\n",
        "  %tensorflow_version 2.x\n",
        "except Exception:\n",
        "  print(\"TF2 Not working\")\n",
        "  pass\n",
        "\n",
        "# Load the TensorBoard notebook extension\n",
        "%load_ext tensorboard"
      ],
      "execution_count": 0,
      "outputs": [
        {
          "output_type": "stream",
          "text": [
            "TensorFlow 2.x selected.\n"
          ],
          "name": "stdout"
        }
      ]
    },
    {
      "cell_type": "markdown",
      "metadata": {
        "id": "ezHskie4MJxD",
        "colab_type": "text"
      },
      "source": [
        "#import"
      ]
    },
    {
      "cell_type": "code",
      "metadata": {
        "id": "dn-6c02VmqiN",
        "colab_type": "code",
        "colab": {}
      },
      "source": [
        "# In this exercise you will train a CNN on the FULL Cats-v-dogs dataset\n",
        "# This will require you doing a lot of data preprocessing because\n",
        "# the dataset isn't split into training and validation for you\n",
        "# This code block has all the required inputs\n",
        "import os\n",
        "import zipfile\n",
        "import random\n",
        "import tensorflow as tf\n",
        "from tensorflow.keras.optimizers import RMSprop\n",
        "from tensorflow.keras.preprocessing.image import ImageDataGenerator\n",
        "from shutil import copyfile\n",
        "import datetime"
      ],
      "execution_count": 0,
      "outputs": []
    },
    {
      "cell_type": "code",
      "metadata": {
        "id": "aNBWa84Zbi1s",
        "colab_type": "code",
        "colab": {}
      },
      "source": [
        "from tensorflow import keras\n",
        "from tensorflow.keras import layers"
      ],
      "execution_count": 0,
      "outputs": []
    },
    {
      "cell_type": "code",
      "metadata": {
        "id": "JZ57DMLp_Tc_",
        "colab_type": "code",
        "outputId": "80b0965f-7a4c-4183-cdb6-1255c4f61fcc",
        "colab": {
          "base_uri": "https://localhost:8080/",
          "height": 34
        }
      },
      "source": [
        "tf.__version__"
      ],
      "execution_count": 0,
      "outputs": [
        {
          "output_type": "execute_result",
          "data": {
            "text/plain": [
              "'2.1.0-rc1'"
            ]
          },
          "metadata": {
            "tags": []
          },
          "execution_count": 4
        }
      ]
    },
    {
      "cell_type": "code",
      "metadata": {
        "id": "-IZliHhfRixd",
        "colab_type": "code",
        "colab": {}
      },
      "source": [
        "from tensorflow.keras.callbacks import ModelCheckpoint, ReduceLROnPlateau,EarlyStopping\n",
        "from tensorflow.keras.optimizers import Adam\n",
        "import requests"
      ],
      "execution_count": 0,
      "outputs": []
    },
    {
      "cell_type": "markdown",
      "metadata": {
        "id": "_LMyh-Ljn0sp",
        "colab_type": "text"
      },
      "source": [
        "# W and B\n",
        "[Quick Start](https://docs.wandb.com/quickstart)"
      ]
    },
    {
      "cell_type": "code",
      "metadata": {
        "id": "qi84TgqznBR_",
        "colab_type": "code",
        "outputId": "a987a2bf-defb-49e7-a638-cc1eee5e1355",
        "colab": {
          "base_uri": "https://localhost:8080/",
          "height": 1000
        }
      },
      "source": [
        "!pip install wandb\n",
        "\n",
        "import wandb\n",
        "from wandb.keras import WandbCallback"
      ],
      "execution_count": 0,
      "outputs": [
        {
          "output_type": "stream",
          "text": [
            "Collecting wandb\n",
            "\u001b[?25l  Downloading https://files.pythonhosted.org/packages/68/f8/87d46d306cad42e3a421471a6e8fd8728c731491f5e61c8f15bb5b3dcd36/wandb-0.8.20-py2.py3-none-any.whl (1.4MB)\n",
            "\u001b[K     |████████████████████████████████| 1.4MB 4.0MB/s \n",
            "\u001b[?25hCollecting sentry-sdk>=0.4.0\n",
            "\u001b[?25l  Downloading https://files.pythonhosted.org/packages/ba/0b/ba1655f0e9c248538b02322a979b5cd485156f5cc16ea34a3cff563527ee/sentry_sdk-0.14.0-py2.py3-none-any.whl (93kB)\n",
            "\u001b[K     |████████████████████████████████| 102kB 10.7MB/s \n",
            "\u001b[?25hRequirement already satisfied: Click>=7.0 in /usr/local/lib/python3.6/dist-packages (from wandb) (7.0)\n",
            "Collecting subprocess32>=3.5.3\n",
            "\u001b[?25l  Downloading https://files.pythonhosted.org/packages/32/c8/564be4d12629b912ea431f1a50eb8b3b9d00f1a0b1ceff17f266be190007/subprocess32-3.5.4.tar.gz (97kB)\n",
            "\u001b[K     |████████████████████████████████| 102kB 10.1MB/s \n",
            "\u001b[?25hRequirement already satisfied: nvidia-ml-py3>=7.352.0 in /usr/local/lib/python3.6/dist-packages (from wandb) (7.352.0)\n",
            "Requirement already satisfied: python-dateutil>=2.6.1 in /usr/local/lib/python3.6/dist-packages (from wandb) (2.6.1)\n",
            "Collecting shortuuid>=0.5.0\n",
            "  Downloading https://files.pythonhosted.org/packages/80/d7/2bfc9332e68d3e15ea97b9b1588b3899ad565120253d3fd71c8f7f13b4fe/shortuuid-0.5.0.tar.gz\n",
            "Collecting gql==0.2.0\n",
            "  Downloading https://files.pythonhosted.org/packages/c4/6f/cf9a3056045518f06184e804bae89390eb706168349daa9dff8ac609962a/gql-0.2.0.tar.gz\n",
            "Collecting watchdog>=0.8.3\n",
            "\u001b[?25l  Downloading https://files.pythonhosted.org/packages/bb/e3/5a55d48a29300160779f0a0d2776d17c1b762a2039b36de528b093b87d5b/watchdog-0.9.0.tar.gz (85kB)\n",
            "\u001b[K     |████████████████████████████████| 92kB 11.4MB/s \n",
            "\u001b[?25hCollecting configparser>=3.8.1\n",
            "  Downloading https://files.pythonhosted.org/packages/7a/2a/95ed0501cf5d8709490b1d3a3f9b5cf340da6c433f896bbe9ce08dbe6785/configparser-4.0.2-py2.py3-none-any.whl\n",
            "Collecting GitPython>=1.0.0\n",
            "\u001b[?25l  Downloading https://files.pythonhosted.org/packages/20/8c/4543981439d23c4ff65b2e62dddd767ebc84a8e664a9b67e840d1e2730d3/GitPython-3.0.5-py3-none-any.whl (455kB)\n",
            "\u001b[K     |████████████████████████████████| 460kB 15.3MB/s \n",
            "\u001b[?25hRequirement already satisfied: psutil>=5.0.0 in /usr/local/lib/python3.6/dist-packages (from wandb) (5.4.8)\n",
            "Requirement already satisfied: requests>=2.0.0 in /tensorflow-2.1.0/python3.6 (from wandb) (2.22.0)\n",
            "Collecting docker-pycreds>=0.4.0\n",
            "  Downloading https://files.pythonhosted.org/packages/f5/e8/f6bd1eee09314e7e6dee49cbe2c5e22314ccdb38db16c9fc72d2fa80d054/docker_pycreds-0.4.0-py2.py3-none-any.whl\n",
            "Requirement already satisfied: six>=1.10.0 in /tensorflow-2.1.0/python3.6 (from wandb) (1.13.0)\n",
            "Requirement already satisfied: urllib3>=1.10.0 in /tensorflow-2.1.0/python3.6 (from sentry-sdk>=0.4.0->wandb) (1.25.7)\n",
            "Requirement already satisfied: certifi in /tensorflow-2.1.0/python3.6 (from sentry-sdk>=0.4.0->wandb) (2019.11.28)\n",
            "Collecting graphql-core<2,>=0.5.0\n",
            "\u001b[?25l  Downloading https://files.pythonhosted.org/packages/b0/89/00ad5e07524d8c523b14d70c685e0299a8b0de6d0727e368c41b89b7ed0b/graphql-core-1.1.tar.gz (70kB)\n",
            "\u001b[K     |████████████████████████████████| 71kB 9.8MB/s \n",
            "\u001b[?25hRequirement already satisfied: promise<3,>=2.0 in /usr/local/lib/python3.6/dist-packages (from gql==0.2.0->wandb) (2.3)\n",
            "Requirement already satisfied: PyYAML>=3.10 in /usr/local/lib/python3.6/dist-packages (from watchdog>=0.8.3->wandb) (3.13)\n",
            "Collecting argh>=0.24.1\n",
            "  Downloading https://files.pythonhosted.org/packages/06/1c/e667a7126f0b84aaa1c56844337bf0ac12445d1beb9c8a6199a7314944bf/argh-0.26.2-py2.py3-none-any.whl\n",
            "Collecting pathtools>=0.1.1\n",
            "  Downloading https://files.pythonhosted.org/packages/e7/7f/470d6fcdf23f9f3518f6b0b76be9df16dcc8630ad409947f8be2eb0ed13a/pathtools-0.1.2.tar.gz\n",
            "Collecting gitdb2>=2.0.0\n",
            "\u001b[?25l  Downloading https://files.pythonhosted.org/packages/03/6c/99296f89bad2ef85626e1df9f677acbee8885bb043ad82ad3ed4746d2325/gitdb2-2.0.6-py2.py3-none-any.whl (63kB)\n",
            "\u001b[K     |████████████████████████████████| 71kB 10.7MB/s \n",
            "\u001b[?25hRequirement already satisfied: chardet<3.1.0,>=3.0.2 in /tensorflow-2.1.0/python3.6 (from requests>=2.0.0->wandb) (3.0.4)\n",
            "Requirement already satisfied: idna<2.9,>=2.5 in /tensorflow-2.1.0/python3.6 (from requests>=2.0.0->wandb) (2.8)\n",
            "Collecting smmap2>=2.0.0\n",
            "  Downloading https://files.pythonhosted.org/packages/55/d2/866d45e3a121ee15a1dc013824d58072fd5c7799c9c34d01378eb262ca8f/smmap2-2.0.5-py2.py3-none-any.whl\n",
            "Building wheels for collected packages: subprocess32, shortuuid, gql, watchdog, graphql-core, pathtools\n",
            "  Building wheel for subprocess32 (setup.py) ... \u001b[?25l\u001b[?25hdone\n",
            "  Created wheel for subprocess32: filename=subprocess32-3.5.4-cp36-none-any.whl size=6489 sha256=17a96cfd335cee66190db9d7d6824602dba7df58bf9cb197e93fcb5060aaf18f\n",
            "  Stored in directory: /root/.cache/pip/wheels/68/39/1a/5e402bdfdf004af1786c8b853fd92f8c4a04f22aad179654d1\n",
            "  Building wheel for shortuuid (setup.py) ... \u001b[?25l\u001b[?25hdone\n",
            "  Created wheel for shortuuid: filename=shortuuid-0.5.0-cp36-none-any.whl size=5499 sha256=c7c7575df552b746212d3c1856fb9e882b69f9100f5b961d202c6d8bf6f3ee72\n",
            "  Stored in directory: /root/.cache/pip/wheels/3f/eb/fd/69e5177f67b505e44acbd1aedfbe44b91768ee0c4cd5636576\n",
            "  Building wheel for gql (setup.py) ... \u001b[?25l\u001b[?25hdone\n",
            "  Created wheel for gql: filename=gql-0.2.0-cp36-none-any.whl size=7630 sha256=367433b20f63fa7fcc1a69235e4970f77a8bc00ba7396272e67b4d89d2945104\n",
            "  Stored in directory: /root/.cache/pip/wheels/ce/0e/7b/58a8a5268655b3ad74feef5aa97946f0addafb3cbb6bd2da23\n",
            "  Building wheel for watchdog (setup.py) ... \u001b[?25l\u001b[?25hdone\n",
            "  Created wheel for watchdog: filename=watchdog-0.9.0-cp36-none-any.whl size=73652 sha256=6b857fbc319d30fdcc3b1064807214e5f3814487c3ff883c362e7712038bdde2\n",
            "  Stored in directory: /root/.cache/pip/wheels/61/1d/d0/04cfe495619be2095eb8d89a31c42adb4e42b76495bc8f784c\n",
            "  Building wheel for graphql-core (setup.py) ... \u001b[?25l\u001b[?25hdone\n",
            "  Created wheel for graphql-core: filename=graphql_core-1.1-cp36-none-any.whl size=104651 sha256=dd95940b95b20ebfa96e7e7080e968ae86f8f9bb2eef87340b54a5beedb0be0d\n",
            "  Stored in directory: /root/.cache/pip/wheels/45/99/d7/c424029bb0fe910c63b68dbf2aa20d3283d023042521bcd7d5\n",
            "  Building wheel for pathtools (setup.py) ... \u001b[?25l\u001b[?25hdone\n",
            "  Created wheel for pathtools: filename=pathtools-0.1.2-cp36-none-any.whl size=8786 sha256=ca2e2b30db5095755c8b512036924ee40575191c85e5555d931a568c1efb75ab\n",
            "  Stored in directory: /root/.cache/pip/wheels/0b/04/79/c3b0c3a0266a3cb4376da31e5bfe8bba0c489246968a68e843\n",
            "Successfully built subprocess32 shortuuid gql watchdog graphql-core pathtools\n",
            "Installing collected packages: sentry-sdk, subprocess32, shortuuid, graphql-core, gql, argh, pathtools, watchdog, configparser, smmap2, gitdb2, GitPython, docker-pycreds, wandb\n",
            "Successfully installed GitPython-3.0.5 argh-0.26.2 configparser-4.0.2 docker-pycreds-0.4.0 gitdb2-2.0.6 gql-0.2.0 graphql-core-1.1 pathtools-0.1.2 sentry-sdk-0.14.0 shortuuid-0.5.0 smmap2-2.0.5 subprocess32-3.5.4 wandb-0.8.20 watchdog-0.9.0\n"
          ],
          "name": "stdout"
        }
      ]
    },
    {
      "cell_type": "code",
      "metadata": {
        "id": "iiAU9hGEnQqL",
        "colab_type": "code",
        "outputId": "be33fc8a-12f3-433a-be84-949e85854922",
        "colab": {
          "base_uri": "https://localhost:8080/",
          "height": 85
        }
      },
      "source": [
        "!wandb login"
      ],
      "execution_count": 0,
      "outputs": [
        {
          "output_type": "stream",
          "text": [
            "\u001b[34m\u001b[1mwandb\u001b[0m: You can find your API key in your browser here: https://app.wandb.ai/authorize\n",
            "\u001b[34m\u001b[1mwandb\u001b[0m: Paste an API key from your profile and hit enter: cb037f6879017d7006c0f2f9c6f78b6333e2be90\n",
            "\u001b[34m\u001b[1mwandb\u001b[0m: Appending key for api.wandb.ai to your netrc file: /root/.netrc\n",
            "\u001b[32mSuccessfully logged in to Weights & Biases!\u001b[0m\n"
          ],
          "name": "stdout"
        }
      ]
    },
    {
      "cell_type": "code",
      "metadata": {
        "id": "MLWTUh8UnshT",
        "colab_type": "code",
        "outputId": "201d1d79-063b-4427-c178-6309e192532f",
        "colab": {
          "base_uri": "https://localhost:8080/",
          "height": 68
        }
      },
      "source": [
        "# name — A display name for this run\n",
        "# notes — A multiline string description associated with the run\n",
        "# config — a dictionary-like object to set as initial config\n",
        "# project — the name of the project to which this run will belong\n",
        "# tags — a list of strings to associate with this run as tags\n",
        "# dir — the path to a directory where artifacts will be written (default: ./wandb)\n",
        "# entity — the team posting this run (default: your username or your default team)\n",
        "# job_type — the type of job you are logging, e.g. eval, worker, ps (default: training)\n",
        "# group — a string by which to group other runs; see Grouping\n",
        "# reinit — whether to allow multiple calls to wandb.init in the same process (default: False)\n",
        "# id — A unique id for this run primarily used for resuming; see Resuming, must be globally unique within a project\n",
        "# resume — if set to True, the run auto resumes; can also be a unique string for manual resuming; see Resuming (default: False)\n",
        "# anonymous — can be \"allow\", \"never\", or \"must\". This enables or explicitly disables anonymous logging. (default: None)\n",
        "# force — whether to force a user to be logged into wandb when running a script (default: False)\n",
        "# magic — (bool, dict, or str, optional): magic configuration as bool, dict, json string, yaml filename. If set to True will attempt to auto-instrument your script. (default: None)\n",
        "# sync_tensorboard — A boolean indicating whether or not copy all tensorboard logs wandb; see Tensorboard (default: False)\n",
        "# monitor_gym — A boolean indicating whether or not to log videos generated by OpenAI Gym; see Ray Tune (default: False)\n",
        "# allow_val_change — whether to allow wandb.config values to change, by default we throw an exception if config values are overwritten. (default: False)\n",
        "\n",
        "wandb.init()\n",
        "config = wandb.config\n",
        "\n",
        "config.batch_size = 32\n",
        "config.epochs=5"
      ],
      "execution_count": 0,
      "outputs": [
        {
          "output_type": "display_data",
          "data": {
            "text/html": [
              "\n",
              "                Logging results to <a href=\"https://wandb.com\" target=\"_blank\">Weights & Biases</a> <a href=\"https://docs.wandb.com/integrations/jupyter.html\" target=\"_blank\">(Documentation)</a>.<br/>\n",
              "                Project page: <a href=\"https://app.wandb.ai/kent/uncategorized\" target=\"_blank\">https://app.wandb.ai/kent/uncategorized</a><br/>\n",
              "                Run page: <a href=\"https://app.wandb.ai/kent/uncategorized/runs/50go5tjc\" target=\"_blank\">https://app.wandb.ai/kent/uncategorized/runs/50go5tjc</a><br/>\n",
              "            "
            ],
            "text/plain": [
              "<IPython.core.display.HTML object>"
            ]
          },
          "metadata": {
            "tags": []
          }
        }
      ]
    },
    {
      "cell_type": "markdown",
      "metadata": {
        "id": "h1kvQp-ZMMrw",
        "colab_type": "text"
      },
      "source": [
        "# Download/Split Data"
      ]
    },
    {
      "cell_type": "code",
      "metadata": {
        "id": "rZb1G0L8SghS",
        "colab_type": "code",
        "outputId": "0ff1669f-cf3c-45d9-a397-11fac6a2f7fd",
        "colab": {
          "base_uri": "https://localhost:8080/",
          "height": 122
        }
      },
      "source": [
        "from google.colab import drive\n",
        "drive.mount('/content/drive')"
      ],
      "execution_count": 0,
      "outputs": [
        {
          "output_type": "stream",
          "text": [
            "Go to this URL in a browser: https://accounts.google.com/o/oauth2/auth?client_id=947318989803-6bn6qk8qdgf4n4g3pfee6491hc0brc4i.apps.googleusercontent.com&redirect_uri=urn%3aietf%3awg%3aoauth%3a2.0%3aoob&response_type=code&scope=email%20https%3a%2f%2fwww.googleapis.com%2fauth%2fdocs.test%20https%3a%2f%2fwww.googleapis.com%2fauth%2fdrive%20https%3a%2f%2fwww.googleapis.com%2fauth%2fdrive.photos.readonly%20https%3a%2f%2fwww.googleapis.com%2fauth%2fpeopleapi.readonly\n",
            "\n",
            "Enter your authorization code:\n",
            "··········\n",
            "Mounted at /content/drive\n"
          ],
          "name": "stdout"
        }
      ]
    },
    {
      "cell_type": "code",
      "metadata": {
        "id": "4SpMfKCBSVV5",
        "colab_type": "code",
        "colab": {}
      },
      "source": [
        "# don't have to exec each time...\n",
        "\n",
        "\n",
        "\n",
        "def Download_file_2_Drive(url,path):\n",
        "  file_url = url #\"https://download.microsoft.com/download/3/E/1/3E1C3F21-ECDB-4869-8368-6DEBA77B919F/kagglecatsanddogs_3367a.zip\"\n",
        "  file_name = file_url.split(\"/\")[-1]\n",
        "  r = requests.get(file_url, stream = True)  \n",
        "\n",
        "  dest_path = path #\"/content/drive/Shared drives/Share/Data/\"\n",
        "  os.makedirs(dest_path, exist_ok=True)\n",
        "  dest_path = os.path.join(dest_path,file_name)\n",
        "  with open(dest_path, \"wb\") as file:  \n",
        "      for block in r.iter_content(chunk_size = 1024): \n",
        "          if block:  \n",
        "              file.write(block)  \n",
        "\n",
        "Download_file_2_Drive(\"https://download.microsoft.com/download/3/E/1/3E1C3F21-ECDB-4869-8368-6DEBA77B919F/kagglecatsanddogs_3367a.zip\", \"/content/drive/Shared drives/Share/Data/\")\n",
        "\n",
        "# Download_file_2_Drive(\"https://download.microsoft.com/download/3/E/1/3E1C3F21-ECDB-4869-8368-6DEBA77B919F/kagglecatsanddogs_3367a.zip\", \"/content/drive/My Drive/Data/\")\n",
        "\n",
        "\n"
      ],
      "execution_count": 0,
      "outputs": []
    },
    {
      "cell_type": "code",
      "metadata": {
        "id": "h8l-O6ZZBztc",
        "colab_type": "code",
        "outputId": "fa188966-a257-46c5-c839-f68bb2de99f0",
        "colab": {
          "base_uri": "https://localhost:8080/",
          "height": 306
        }
      },
      "source": [
        "!nvidia-smi"
      ],
      "execution_count": 0,
      "outputs": [
        {
          "output_type": "stream",
          "text": [
            "Tue Jan 14 06:00:09 2020       \n",
            "+-----------------------------------------------------------------------------+\n",
            "| NVIDIA-SMI 440.44       Driver Version: 418.67       CUDA Version: 10.1     |\n",
            "|-------------------------------+----------------------+----------------------+\n",
            "| GPU  Name        Persistence-M| Bus-Id        Disp.A | Volatile Uncorr. ECC |\n",
            "| Fan  Temp  Perf  Pwr:Usage/Cap|         Memory-Usage | GPU-Util  Compute M. |\n",
            "|===============================+======================+======================|\n",
            "|   0  Tesla P100-PCIE...  Off  | 00000000:00:04.0 Off |                    0 |\n",
            "| N/A   32C    P0    25W / 250W |      0MiB / 16280MiB |      0%      Default |\n",
            "+-------------------------------+----------------------+----------------------+\n",
            "                                                                               \n",
            "+-----------------------------------------------------------------------------+\n",
            "| Processes:                                                       GPU Memory |\n",
            "|  GPU       PID   Type   Process name                             Usage      |\n",
            "|=============================================================================|\n",
            "|  No running processes found                                                 |\n",
            "+-----------------------------------------------------------------------------+\n"
          ],
          "name": "stdout"
        }
      ]
    },
    {
      "cell_type": "code",
      "metadata": {
        "id": "SfZzwpkKTahh",
        "colab_type": "code",
        "colab": {}
      },
      "source": [
        "# !cp \"/content/drive/Shared drives/Share/Data/kagglecatsanddogs_3367a.zip\" \"/tmp/cats-and-dogs1.zip\"\n",
        "!cp \"/content/drive/My Drive/Data/kagglecatsanddogs_3367a.zip\" \"/tmp/cats-and-dogs1.zip\""
      ],
      "execution_count": 0,
      "outputs": []
    },
    {
      "cell_type": "code",
      "metadata": {
        "id": "3sd9dQWa23aj",
        "colab_type": "code",
        "colab": {}
      },
      "source": [
        "# (Deprecated) Download to colab runtime tmp folder \n",
        "\n",
        "# If the URL doesn't work,   visit https://www.microsoft.com/en-us/download/confirmation.aspx?id=54765\n",
        "# !wget --no-check-certificate \\\n",
        "#     \"https://download.microsoft.com/download/3/E/1/3E1C3F21-ECDB-4869-8368-6DEBA77B919F/kagglecatsanddogs_3367a.zip\" \\\n",
        "#     -O \"/tmp/cats-and-dogs.zip\"\n",
        "\n"
      ],
      "execution_count": 0,
      "outputs": []
    },
    {
      "cell_type": "code",
      "metadata": {
        "id": "XRUpA9TjcLMf",
        "colab_type": "code",
        "colab": {}
      },
      "source": [
        "local_zip = '/tmp/cats-and-dogs1.zip'\n",
        "zip_ref = zipfile.ZipFile(local_zip, 'r')\n",
        "zip_ref.extractall('/tmp')\n",
        "zip_ref.close()\n"
      ],
      "execution_count": 0,
      "outputs": []
    },
    {
      "cell_type": "code",
      "metadata": {
        "id": "rzLOAHfH-UD4",
        "colab_type": "code",
        "colab": {}
      },
      "source": [
        "# Unzip to My Drive (Gdrive)\n",
        "\n",
        "# local_zip = '/content/drive/My Drive/Data/kagglecatsanddogs_3367a.zip'\n",
        "# zip_ref = zipfile.ZipFile(local_zip, 'r')\n",
        "# zip_ref.extractall('/content/drive/My Drive/Data/')\n",
        "# zip_ref.close()\n"
      ],
      "execution_count": 0,
      "outputs": []
    },
    {
      "cell_type": "code",
      "metadata": {
        "id": "gi3yD62a6X3S",
        "colab_type": "code",
        "outputId": "2c349d8e-4189-480b-af05-40940a0e814d",
        "colab": {
          "base_uri": "https://localhost:8080/",
          "height": 51
        }
      },
      "source": [
        "print(len(os.listdir('/tmp/PetImages/Cat/')))\n",
        "print(len(os.listdir('/tmp/PetImages/Dog/')))\n",
        "\n",
        "# Expected Output:\n",
        "# 12501\n",
        "# 12501"
      ],
      "execution_count": 0,
      "outputs": [
        {
          "output_type": "stream",
          "text": [
            "12501\n",
            "12501\n"
          ],
          "name": "stdout"
        }
      ]
    },
    {
      "cell_type": "code",
      "metadata": {
        "id": "F-QkLjxpmyK2",
        "colab_type": "code",
        "colab": {}
      },
      "source": [
        "# Use os.mkdir to create your directories\n",
        "# You will need a directory for cats-v-dogs, and subdirectories for training\n",
        "# and testing. These in turn will need subdirectories for 'cats' and 'dogs'\n",
        "try:\n",
        "    #YOUR CODE GOES HERE\n",
        "    os.mkdir(\"/tmp/cats-v-dogs\")\n",
        "    os.mkdir(\"/tmp/cats-v-dogs/training\")\n",
        "    os.mkdir(\"/tmp/cats-v-dogs/training/cats\")\n",
        "    os.mkdir(\"/tmp/cats-v-dogs/training/dogs\")\n",
        "    os.mkdir(\"/tmp/cats-v-dogs/testing\")\n",
        "    os.mkdir(\"/tmp/cats-v-dogs/testing/cats\")\n",
        "    os.mkdir(\"/tmp/cats-v-dogs/testing/dogs\")\n",
        "except OSError:\n",
        "    pass"
      ],
      "execution_count": 0,
      "outputs": []
    },
    {
      "cell_type": "code",
      "metadata": {
        "id": "Om7ta6BNnLLE",
        "colab_type": "code",
        "colab": {}
      },
      "source": [
        ""
      ],
      "execution_count": 0,
      "outputs": []
    },
    {
      "cell_type": "code",
      "metadata": {
        "id": "zvSODo0f9LaU",
        "colab_type": "code",
        "colab": {}
      },
      "source": [
        "# Write a python function called split_data which takes\n",
        "# a SOURCE directory containing the files\n",
        "# a TRAINING directory that a portion of the files will be copied to\n",
        "# a TESTING directory that a portion of the files will be copie to\n",
        "# a SPLIT SIZE to determine the portion\n",
        "# The files should also be randomized, so that the training set is a random\n",
        "# X% of the files, and the test set is the remaining files\n",
        "# SO, for example, if SOURCE is PetImages/Cat, and SPLIT SIZE is .9\n",
        "# Then 90% of the images in PetImages/Cat will be copied to the TRAINING dir\n",
        "# and 10% of the images will be copied to the TESTING dir\n",
        "# Also -- All images should be checked, and if they have a zero file length,\n",
        "# they will not be copied over\n",
        "#\n",
        "# os.listdir(DIRECTORY) gives you a listing of the contents of that directory\n",
        "# os.path.getsize(PATH) gives you the size of the file\n",
        "# copyfile(source, destination) copies a file from source to destination\n",
        "# random.sample(list, len(list)) shuffles a list\n",
        "def split_data(SOURCE, TRAINING, TESTING, SPLIT_SIZE):\n",
        "# YOUR CODE STARTS HERE\n",
        "  files=os.listdir(SOURCE)\n",
        "  flen= len(files)\n",
        "  trainLen= int(flen * SPLIT_SIZE)\n",
        "  rFiles=random.sample(files,len(files))\n",
        "  trains=rFiles[:trainLen]\n",
        "  tests= rFiles[trainLen:]\n",
        "  for trF in trains:\n",
        "    if(os.path.getsize(os.path.join(SOURCE,trF))>0):\n",
        "      copyfile(os.path.join( SOURCE,trF),os.path.join( TRAINING,trF) )\n",
        "  for teF in tests:\n",
        "    if(os.path.getsize(os.path.join( SOURCE,teF))>0):\n",
        "      copyfile(os.path.join( SOURCE,teF), os.path.join( TESTING,teF) )\n",
        "\n",
        "# YOUR CODE ENDS HERE\n",
        "\n",
        "\n",
        "CAT_SOURCE_DIR = \"/tmp/PetImages/Cat/\"\n",
        "TRAINING_CATS_DIR = \"/tmp/cats-v-dogs/training/cats/\"\n",
        "TESTING_CATS_DIR = \"/tmp/cats-v-dogs/testing/cats/\"\n",
        "DOG_SOURCE_DIR = \"/tmp/PetImages/Dog/\"\n",
        "TRAINING_DOGS_DIR = \"/tmp/cats-v-dogs/training/dogs/\"\n",
        "TESTING_DOGS_DIR = \"/tmp/cats-v-dogs/testing/dogs/\"\n",
        "\n",
        "split_size = .9\n",
        "split_data(CAT_SOURCE_DIR, TRAINING_CATS_DIR, TESTING_CATS_DIR, split_size)\n",
        "split_data(DOG_SOURCE_DIR, TRAINING_DOGS_DIR, TESTING_DOGS_DIR, split_size)\n",
        "\n",
        "# Expected output\n",
        "# 666.jpg is zero length, so ignoring\n",
        "# 11702.jpg is zero length, so ignoring"
      ],
      "execution_count": 0,
      "outputs": []
    },
    {
      "cell_type": "code",
      "metadata": {
        "id": "luthalB76ufC",
        "colab_type": "code",
        "outputId": "7c65c95b-8e88-445c-c696-52870c16bf10",
        "colab": {
          "base_uri": "https://localhost:8080/",
          "height": 85
        }
      },
      "source": [
        "print(len(os.listdir('/tmp/cats-v-dogs/training/cats/')))\n",
        "print(len(os.listdir('/tmp/cats-v-dogs/training/dogs/')))\n",
        "print(len(os.listdir('/tmp/cats-v-dogs/testing/cats/')))\n",
        "print(len(os.listdir('/tmp/cats-v-dogs/testing/dogs/')))\n",
        "\n",
        "# Expected output:\n",
        "# 11250\n",
        "# 11250\n",
        "# 1250\n",
        "# 1250"
      ],
      "execution_count": 0,
      "outputs": [
        {
          "output_type": "stream",
          "text": [
            "11249\n",
            "11249\n",
            "1251\n",
            "1251\n"
          ],
          "name": "stdout"
        }
      ]
    },
    {
      "cell_type": "markdown",
      "metadata": {
        "id": "sXmD-Y9NMZ27",
        "colab_type": "text"
      },
      "source": [
        "# Keras Model"
      ]
    },
    {
      "cell_type": "code",
      "metadata": {
        "id": "DRG7n-EYMDoP",
        "colab_type": "code",
        "colab": {}
      },
      "source": [
        "LR = 3e-3\n",
        "DECAY = 0.4\n",
        "targetSize = (150,150)\n",
        "Epochs = 50\n",
        "input_data_shape = (150, 150, 3)"
      ],
      "execution_count": 0,
      "outputs": []
    },
    {
      "cell_type": "code",
      "metadata": {
        "id": "S-0NWSoyc7CX",
        "colab_type": "code",
        "outputId": "cd010de4-ec50-479d-d579-aa6107721dda",
        "colab": {
          "base_uri": "https://localhost:8080/",
          "height": 34
        }
      },
      "source": [
        "LR"
      ],
      "execution_count": 0,
      "outputs": [
        {
          "output_type": "execute_result",
          "data": {
            "text/plain": [
              "0.003"
            ]
          },
          "metadata": {
            "tags": []
          },
          "execution_count": 10
        }
      ]
    },
    {
      "cell_type": "markdown",
      "metadata": {
        "id": "VNLycMSGfnhb",
        "colab_type": "text"
      },
      "source": [
        "#ResNet"
      ]
    },
    {
      "cell_type": "code",
      "metadata": {
        "id": "-BQrav4anTmj",
        "colab_type": "code",
        "colab": {}
      },
      "source": [
        "def resnet_block(input_data,filters,conv_size):\n",
        "  x = layers.Conv2D(filters,conv_size,activation='relu',padding='same')(input_data)\n",
        "  x = layers.BatchNormalization(momentum=0.9)(x)\n",
        "  x = layers.Conv2D(filters,conv_size,activation=None,padding='same')(x)\n",
        "  x = layers.BatchNormalization(momentum=0.9)(x)\n",
        "  x = layers.Add()([x,input_data])\n",
        "  x = layers.Activation('relu')(x)\n",
        "  return x\n",
        "\n",
        "def ResNet(num_res_net_blocks ,input_size, filters, conv_size):\n",
        "  inputs = layers.Input(shape=input_size)\n",
        "  x = layers.Conv2D(32, (3,3),activation=None )(inputs)\n",
        "  x = layers.Conv2D(64, (3,3), activation='relu')(x)\n",
        "  x = layers.Conv2D(128, (3,3), activation='relu')(x)\n",
        "\n",
        "  #for i in range(num_res_net_blocks):\n",
        "  x = resnet_block(x,filters,conv_size)\n",
        "\n",
        "    \n",
        "  x = layers.Conv2D(64, (3,3), activation='relu')(x)\n",
        "  x = layers.MaxPooling2D()(x)\n",
        "\n",
        "  x = layers.Flatten()(x)\n",
        "  x = layers.Dense(256, activation='relu')(x)\n",
        "  # x = layers.Dense(128, activation='relu')(x)\n",
        "  # x = layers.Dropout(0.5)(x)\n",
        "  outputs = layers.Dense(1, activation='sigmoid')(x)\n",
        "  model = keras.Model(inputs,outputs)\n",
        "  return model"
      ],
      "execution_count": 0,
      "outputs": []
    },
    {
      "cell_type": "code",
      "metadata": {
        "id": "rF9V-owPhS3F",
        "colab_type": "code",
        "colab": {}
      },
      "source": [
        "model = ResNet(1,input_size=(150,150,3),filters=128,conv_size=(3,3))"
      ],
      "execution_count": 0,
      "outputs": []
    },
    {
      "cell_type": "markdown",
      "metadata": {
        "id": "EVBnV--PfgFR",
        "colab_type": "text"
      },
      "source": [
        "#Functional Model (Plain Path)"
      ]
    },
    {
      "cell_type": "code",
      "metadata": {
        "id": "JjIPWYWPrrD0",
        "colab_type": "code",
        "colab": {}
      },
      "source": [
        "def reglar_CNN_block(input_data,filters,conv_size):\n",
        "  x = layers.Conv2D(filters, conv_size,activation=None )(input_data)\n",
        "  x = layers.BatchNormalization(momentum=0.9)(x)\n",
        "  x = layers.Activation('relu')(x)\n",
        "  x = layers.MaxPool2D()(x)\n",
        "  x = layers.Dropout(0.2)(x)\n",
        "  return x"
      ],
      "execution_count": 0,
      "outputs": []
    },
    {
      "cell_type": "code",
      "metadata": {
        "id": "OySMxuRStBTi",
        "colab_type": "code",
        "outputId": "a6b62ee6-6c3e-47e8-d49f-0c1e0b9e9c3b",
        "colab": {
          "base_uri": "https://localhost:8080/",
          "height": 289
        }
      },
      "source": [
        "!nvidia-smi"
      ],
      "execution_count": 0,
      "outputs": [
        {
          "output_type": "stream",
          "text": [
            "Fri Jan 10 13:45:50 2020       \n",
            "+-----------------------------------------------------------------------------+\n",
            "| NVIDIA-SMI 440.44       Driver Version: 418.67       CUDA Version: 10.1     |\n",
            "|-------------------------------+----------------------+----------------------+\n",
            "| GPU  Name        Persistence-M| Bus-Id        Disp.A | Volatile Uncorr. ECC |\n",
            "| Fan  Temp  Perf  Pwr:Usage/Cap|         Memory-Usage | GPU-Util  Compute M. |\n",
            "|===============================+======================+======================|\n",
            "|   0  Tesla K80           Off  | 00000000:00:04.0 Off |                    0 |\n",
            "| N/A   73C    P0    74W / 149W |   1259MiB / 11441MiB |      0%      Default |\n",
            "+-------------------------------+----------------------+----------------------+\n",
            "                                                                               \n",
            "+-----------------------------------------------------------------------------+\n",
            "| Processes:                                                       GPU Memory |\n",
            "|  GPU       PID   Type   Process name                             Usage      |\n",
            "|=============================================================================|\n",
            "+-----------------------------------------------------------------------------+\n"
          ],
          "name": "stdout"
        }
      ]
    },
    {
      "cell_type": "code",
      "metadata": {
        "id": "CAPuTd_2aH6S",
        "colab_type": "code",
        "colab": {}
      },
      "source": [
        "# Plain NN (Functional Model)\n",
        "def SimpleRes(input_size):\n",
        "  inputs = layers.Input(shape=input_size)\n",
        "  x = reglar_CNN_block(inputs,32,(3,3))\n",
        "  # x = reglar_CNN_block(x,32,(3,3))\n",
        "  x = reglar_CNN_block(x,64,(3,3))\n",
        "  x = reglar_CNN_block(x,128,(3,3))\n",
        "\n",
        "  # x = layers.Conv2D(16, (3,3),activation=None )(inputs)\n",
        "  # x = layers.BatchNormalization(momentum=0.9)(x)\n",
        "  # x = layers.Activation('relu')(x)\n",
        "  # x = layers.MaxPool2D()(x)\n",
        "  # x = layers.Dropout(0.2)(x)\n",
        "\n",
        "  # x = layers.Conv2D(32, (3,3),activation=None )(x)\n",
        "  # x = layers.BatchNormalization(momentum=0.9)(x)\n",
        "  # x = layers.Activation('relu')(x)\n",
        "  # x = layers.MaxPool2D()(x)\n",
        "  # x = layers.Dropout(0.2)(x)\n",
        "\n",
        "  # x = layers.Conv2D(64, (3,3),activation=None )(x)\n",
        "  # x = layers.BatchNormalization(momentum=0.9)(x)\n",
        "  # x = layers.Activation('relu')(x)\n",
        "  # x = layers.MaxPool2D()(x)\n",
        "  # x = layers.Dropout(0.2)(x)\n",
        "\n",
        "  # x = layers.Conv2D(128, (3,3),activation=None )(x)\n",
        "  # x = layers.BatchNormalization(momentum=0.9)(x)\n",
        "  # x = layers.Activation('relu')(x)\n",
        "  # x = layers.MaxPool2D()(x)\n",
        "  # x = layers.Dropout(0.2)(x)\n",
        "\n",
        "  x = resnet_block(x,128,(3,3))\n",
        "  x = resnet_block(x,128,(3,3))\n",
        "  x = resnet_block(x,128,(3,3))\n",
        "  x = resnet_block(x,128,(3,3))\n",
        "\n",
        "\n",
        "  x = resnet_block(x,128,(3,3))\n",
        "  x = resnet_block(x,128,(3,3))\n",
        "  x = resnet_block(x,128,(3,3))\n",
        "  x = resnet_block(x,128,(3,3))\n",
        "  x = resnet_block(x,128,(3,3))\n",
        "  x = resnet_block(x,128,(3,3))\n",
        "  # x = layers.Conv2D(256, (3,3),activation=None )(x)\n",
        "  # x = layers.BatchNormalization(momentum=0.9)(x)\n",
        "  # x = layers.Activation('relu')(x)\n",
        "  x = layers.MaxPool2D()(x)\n",
        "  x = layers.Dropout(0.2)(x)\n",
        "\n",
        "\n",
        "  x = layers.Flatten()(x)\n",
        "  x = layers.Dense(512, activation=None)(x)\n",
        "  x = layers.BatchNormalization(momentum=0.9)(x)\n",
        "  x = layers.Activation('relu')(x)\n",
        "  x = layers.Dropout(0.4)(x)\n",
        "  outputs = layers.Dense(1, activation='sigmoid')(x)\n",
        "  mod = keras.Model(inputs,outputs)\n",
        "  return mod"
      ],
      "execution_count": 0,
      "outputs": []
    },
    {
      "cell_type": "code",
      "metadata": {
        "id": "b6LRlmMdbkb2",
        "colab_type": "code",
        "colab": {}
      },
      "source": [
        "model = PlainNet((150,150,3))"
      ],
      "execution_count": 0,
      "outputs": []
    },
    {
      "cell_type": "code",
      "metadata": {
        "id": "HK3Z1dZItQbb",
        "colab_type": "code",
        "colab": {}
      },
      "source": [
        "model = SimpleRes((150,150,3))  "
      ],
      "execution_count": 0,
      "outputs": []
    },
    {
      "cell_type": "markdown",
      "metadata": {
        "id": "KPsChc1HfR1g",
        "colab_type": "text"
      },
      "source": [
        "# Sequential Model"
      ]
    },
    {
      "cell_type": "code",
      "metadata": {
        "id": "WUfzE6zXwO2H",
        "colab_type": "code",
        "colab": {}
      },
      "source": [
        "# WITH BatchNormalization (Sequential Model)\n",
        "model = tf.keras.models.Sequential([\n",
        "  tf.keras.layers.Conv2D( 16,(3,3),activation=None,input_shape=(150,150,3)),\n",
        "  tf.keras.layers.BatchNormalization(momentum=0.9),\n",
        "  tf.keras.layers.Activation('relu'),\n",
        "  tf.keras.layers.MaxPool2D(),\n",
        "  tf.keras.layers.Dropout(0.2),\n",
        "  tf.keras.layers.Conv2D( 32,(3,3),activation=None),\n",
        "  tf.keras.layers.BatchNormalization(momentum=0.9),\n",
        "  tf.keras.layers.Activation('relu'),\n",
        "  tf.keras.layers.MaxPool2D(),\n",
        "  tf.keras.layers.Dropout(0.2),\n",
        "  tf.keras.layers.Conv2D( 64,(3,3),activation=None),\n",
        "  tf.keras.layers.BatchNormalization(momentum=0.9),\n",
        "  tf.keras.layers.Activation('relu'),\n",
        "  tf.keras.layers.MaxPool2D(),\n",
        "  tf.keras.layers.Dropout(0.2),\n",
        "  tf.keras.layers.Conv2D(128,(3,3),activation=None),\n",
        "  tf.keras.layers.BatchNormalization(momentum=0.9),\n",
        "  tf.keras.layers.Activation('relu'),\n",
        "  tf.keras.layers.MaxPool2D(),\n",
        "\n",
        "  tf.keras.layers.Conv2D(256,(3,3),activation=None),\n",
        "  tf.keras.layers.BatchNormalization(momentum=0.9),\n",
        "  tf.keras.layers.Activation('relu'),\n",
        "  tf.keras.layers.MaxPool2D(),\n",
        "\n",
        "  tf.keras.layers.Dropout(0.2),\n",
        "  tf.keras.layers.Flatten(),\n",
        "  tf.keras.layers.Dense(512,activation=None),\n",
        "  tf.keras.layers.BatchNormalization(momentum=0.9),\n",
        "  tf.keras.layers.Activation('relu'),\n",
        "  tf.keras.layers.Dropout(0.4),\n",
        "  tf.keras.layers.Dense(1,activation=\"sigmoid\")\n",
        "# YOUR CODE HERE\n",
        "])\n"
      ],
      "execution_count": 0,
      "outputs": []
    },
    {
      "cell_type": "code",
      "metadata": {
        "id": "ZvD8_W-vSFzM",
        "colab_type": "code",
        "colab": {}
      },
      "source": [
        "\n",
        "# model.compile(optimizer=RMSprop(lr=0.001), loss='binary_crossentropy', metrics=['acc'])\n",
        "model.compile(optimizer=Adam(lr=LR), loss='binary_crossentropy', metrics=['acc'])"
      ],
      "execution_count": 0,
      "outputs": []
    },
    {
      "cell_type": "markdown",
      "metadata": {
        "id": "lL8bcxAzfXPB",
        "colab_type": "text"
      },
      "source": [
        "# Generator"
      ]
    },
    {
      "cell_type": "code",
      "metadata": {
        "id": "mlNjoJ5D61N6",
        "colab_type": "code",
        "outputId": "00776b3d-4470-4c93-8534-2ee0e96f9128",
        "colab": {
          "base_uri": "https://localhost:8080/",
          "height": 51
        }
      },
      "source": [
        "TRAINING_DIR = \"/tmp/cats-v-dogs/training/\"\n",
        "train_datagen = ImageDataGenerator(\n",
        "    rescale=1./255,\n",
        "    # rotation_range=40,\n",
        "    # width_shift_range=0.2,\n",
        "    # height_shift_range=0.2,\n",
        "    # shear_range=0.2,zoom_range=0.2,\n",
        "    # horizontal_flip=True,\n",
        "    # fill_mode=\"nearest\"\n",
        "    )\n",
        "train_generator = train_datagen.flow_from_directory(TRAINING_DIR,batch_size=32,target_size=targetSize,class_mode=\"binary\")\n",
        "\n",
        "VALIDATION_DIR = \"/tmp/cats-v-dogs/testing/\"\n",
        "validation_datagen = ImageDataGenerator(rescale=1/255)\n",
        "validation_generator = train_datagen.flow_from_directory(VALIDATION_DIR,batch_size=32,target_size=targetSize,class_mode=\"binary\")\n",
        "\n",
        "\n",
        "\n",
        "# Expected Output:\n",
        "# Found 22498 images belonging to 2 classes.\n",
        "# Found 2500 images belonging to 2 classes."
      ],
      "execution_count": 0,
      "outputs": [
        {
          "output_type": "stream",
          "text": [
            "Found 22496 images belonging to 2 classes.\n",
            "Found 2502 images belonging to 2 classes.\n"
          ],
          "name": "stdout"
        }
      ]
    },
    {
      "cell_type": "code",
      "metadata": {
        "id": "suwr7BpaYE9B",
        "colab_type": "code",
        "colab": {}
      },
      "source": [
        "import warnings\n",
        "warnings.filterwarnings('ignore')"
      ],
      "execution_count": 0,
      "outputs": []
    },
    {
      "cell_type": "code",
      "metadata": {
        "id": "Eh2XxnFDSZOA",
        "colab_type": "code",
        "colab": {}
      },
      "source": [
        ""
      ],
      "execution_count": 0,
      "outputs": []
    },
    {
      "cell_type": "code",
      "metadata": {
        "id": "HH7Ne8NhSZR0",
        "colab_type": "code",
        "colab": {}
      },
      "source": [
        ""
      ],
      "execution_count": 0,
      "outputs": []
    },
    {
      "cell_type": "markdown",
      "metadata": {
        "id": "V4SidOu22W9T",
        "colab_type": "text"
      },
      "source": [
        "# TensorBoard Launch\n",
        "\n",
        "[link](https://www.dlology.com/blog/how-to-run-tensorboard-in-jupyter-notebook/)"
      ]
    },
    {
      "cell_type": "code",
      "metadata": {
        "id": "tV7SarrvSZVS",
        "colab_type": "code",
        "outputId": "aa9ac9b7-f4c9-44a8-952d-40ae913e4538",
        "colab": {
          "base_uri": "https://localhost:8080/",
          "height": 122
        }
      },
      "source": [
        "from google.colab import drive\n",
        "drive.mount('/content/drive')"
      ],
      "execution_count": 0,
      "outputs": [
        {
          "output_type": "stream",
          "text": [
            "Go to this URL in a browser: https://accounts.google.com/o/oauth2/auth?client_id=947318989803-6bn6qk8qdgf4n4g3pfee6491hc0brc4i.apps.googleusercontent.com&redirect_uri=urn%3aietf%3awg%3aoauth%3a2.0%3aoob&response_type=code&scope=email%20https%3a%2f%2fwww.googleapis.com%2fauth%2fdocs.test%20https%3a%2f%2fwww.googleapis.com%2fauth%2fdrive%20https%3a%2f%2fwww.googleapis.com%2fauth%2fdrive.photos.readonly%20https%3a%2f%2fwww.googleapis.com%2fauth%2fpeopleapi.readonly\n",
            "\n",
            "Enter your authorization code:\n",
            "··········\n",
            "Mounted at /content/drive\n"
          ],
          "name": "stdout"
        }
      ]
    },
    {
      "cell_type": "code",
      "metadata": {
        "id": "cDfiIR8qSZFF",
        "colab_type": "code",
        "colab": {}
      },
      "source": [
        "LOG_DIR = '/content/drive/My Drive/logs/cat_dog/'\n",
        "try:\n",
        "    # os.mkdir(LOG_DIR)\n",
        "    os.makedirs(LOG_DIR, exist_ok=True)\n",
        "except OSError:\n",
        "    print(\"Path Error\")\n",
        "    pass\n"
      ],
      "execution_count": 0,
      "outputs": []
    },
    {
      "cell_type": "code",
      "metadata": {
        "id": "4fWMkvAdLyxZ",
        "colab_type": "code",
        "colab": {}
      },
      "source": [
        "#TEST\n",
        "!cd /content/drive/\"My Drive\"/logs/cat_dog/"
      ],
      "execution_count": 0,
      "outputs": []
    },
    {
      "cell_type": "code",
      "metadata": {
        "id": "Q07PxKyBjZGV",
        "colab_type": "code",
        "outputId": "50424117-db02-4b30-e28d-f185ea933890",
        "colab": {
          "base_uri": "https://localhost:8080/",
          "height": 34
        }
      },
      "source": [
        "!ls"
      ],
      "execution_count": 0,
      "outputs": [
        {
          "output_type": "stream",
          "text": [
            "drive  sample_data\n"
          ],
          "name": "stdout"
        }
      ]
    },
    {
      "cell_type": "code",
      "metadata": {
        "id": "72ioOa0JTUBE",
        "colab_type": "code",
        "outputId": "bc3531d8-0c38-4127-e111-7e36432f724c",
        "colab": {
          "base_uri": "https://localhost:8080/",
          "height": 51
        }
      },
      "source": [
        "# start hera\n",
        "%load_ext tensorboard"
      ],
      "execution_count": 0,
      "outputs": [
        {
          "output_type": "stream",
          "text": [
            "The tensorboard extension is already loaded. To reload it, use:\n",
            "  %reload_ext tensorboard\n"
          ],
          "name": "stdout"
        }
      ]
    },
    {
      "cell_type": "code",
      "metadata": {
        "id": "vH2DziudMuBT",
        "colab_type": "code",
        "outputId": "e60b5252-d19c-4937-ffe0-05088bef4ba5",
        "colab": {
          "base_uri": "https://localhost:8080/",
          "height": 181
        }
      },
      "source": [
        "# path with '' ---> (for rm & tb cmd)\n",
        "regDir = LOG_DIR.replace(\"My Drive\",\"'My Drive'\")\n",
        "regDir"
      ],
      "execution_count": 0,
      "outputs": [
        {
          "output_type": "error",
          "ename": "NameError",
          "evalue": "ignored",
          "traceback": [
            "\u001b[0;31m---------------------------------------------------------------------------\u001b[0m",
            "\u001b[0;31mNameError\u001b[0m                                 Traceback (most recent call last)",
            "\u001b[0;32m<ipython-input-1-40e147b5463e>\u001b[0m in \u001b[0;36m<module>\u001b[0;34m()\u001b[0m\n\u001b[0;32m----> 1\u001b[0;31m \u001b[0mregDir\u001b[0m \u001b[0;34m=\u001b[0m \u001b[0mLOG_DIR\u001b[0m\u001b[0;34m.\u001b[0m\u001b[0mreplace\u001b[0m\u001b[0;34m(\u001b[0m\u001b[0;34m\"My Drive\"\u001b[0m\u001b[0;34m,\u001b[0m\u001b[0;34m\"'My Drive'\"\u001b[0m\u001b[0;34m)\u001b[0m\u001b[0;34m\u001b[0m\u001b[0;34m\u001b[0m\u001b[0m\n\u001b[0m\u001b[1;32m      2\u001b[0m \u001b[0mregDir\u001b[0m\u001b[0;34m\u001b[0m\u001b[0;34m\u001b[0m\u001b[0m\n",
            "\u001b[0;31mNameError\u001b[0m: name 'LOG_DIR' is not defined"
          ]
        }
      ]
    },
    {
      "cell_type": "code",
      "metadata": {
        "id": "ZFnprMA_SDEG",
        "colab_type": "code",
        "colab": {}
      },
      "source": [
        "# DELETE ALL LOGS EXISTED!!!\n",
        "# !rm -rf {regDir}  "
      ],
      "execution_count": 0,
      "outputs": []
    },
    {
      "cell_type": "code",
      "metadata": {
        "colab_type": "code",
        "id": "hf5v8CZK2JoQ",
        "colab": {}
      },
      "source": [
        "# logs_base_dir = \"/content/drive/Shared drives/Share/logs/cat_dog/\"\n",
        "# # os.makedirs(logs_base_dir, exist_ok=True)\n",
        "\n",
        "# # %tensorboard --logdir {logs_base_dir}\n",
        "%tensorboard --logdir  {regDir}\n",
        "# %tensorboard --logdir ./logs"
      ],
      "execution_count": 0,
      "outputs": []
    },
    {
      "cell_type": "code",
      "metadata": {
        "id": "tuiVQ_blTT4v",
        "colab_type": "code",
        "colab": {}
      },
      "source": [
        "\n",
        "# _logdir = os.path.join(LOG_DIR, datetime.datetime.now().strftime(\"%Y%m%d-%H%M%S\"))\n",
        "# tensorboard_callback = tf.keras.callbacks.TensorBoard(_logdir, histogram_freq=1)    \n",
        "# print(_logdir)"
      ],
      "execution_count": 0,
      "outputs": []
    },
    {
      "cell_type": "markdown",
      "metadata": {
        "id": "ltRQHMClNRT9",
        "colab_type": "text"
      },
      "source": [
        "# Tensorboard display alternative way"
      ]
    },
    {
      "cell_type": "code",
      "metadata": {
        "id": "MUtN1cAIeu1O",
        "colab_type": "code",
        "outputId": "fe84ae72-67b5-4c19-8522-f213e01d4aee",
        "colab": {
          "base_uri": "https://localhost:8080/",
          "height": 51
        }
      },
      "source": [
        "from tensorboard import notebook\n",
        "notebook.list() # View open TensorBoard instances"
      ],
      "execution_count": 0,
      "outputs": [
        {
          "output_type": "stream",
          "text": [
            "Known TensorBoard instances:\n",
            "  - port 6006: logdir /content/drive/My Drive/logs/cat_dog/ (started 0:00:35 ago; pid 420)\n"
          ],
          "name": "stdout"
        }
      ]
    },
    {
      "cell_type": "code",
      "metadata": {
        "id": "JE_GekJA4BWd",
        "colab_type": "code",
        "colab": {}
      },
      "source": [
        "# Control TensorBoard display. If no port is provided, \n",
        "# the most recently launched TensorBoard is used\n",
        "notebook.display(port=6006, height=1000) "
      ],
      "execution_count": 0,
      "outputs": []
    },
    {
      "cell_type": "markdown",
      "metadata": {
        "id": "fj8fFBvC2dw4",
        "colab_type": "text"
      },
      "source": [
        "# Callbacks & Train\n",
        "\n",
        "[callbacks](https://keras.io/zh/callbacks/)"
      ]
    },
    {
      "cell_type": "code",
      "metadata": {
        "id": "iBQ6zE29rCaZ",
        "colab_type": "code",
        "colab": {}
      },
      "source": [
        "Model_DIR = '/content/drive/My Drive/models/cat_dog/'\n",
        "os.makedirs(Model_DIR,exist_ok=True)"
      ],
      "execution_count": 0,
      "outputs": []
    },
    {
      "cell_type": "code",
      "metadata": {
        "id": "QSm8EiauekH5",
        "colab_type": "code",
        "outputId": "47cc03e5-4e5d-4a47-b5fd-5d56d326d070",
        "colab": {
          "base_uri": "https://localhost:8080/",
          "height": 34
        }
      },
      "source": [
        "\n",
        "\n",
        "# tensorboard_callback\n",
        "# log_dir=LOG_DIR + datetime.datetime.now().strftime(\"%Y%m%d%H%M%S\") + \"-DOGCAT-\" + \"_lr-%.4f_decay-%.2f/\"%(LR,DECAY)\n",
        "# tensorboard_callback = tf.keras.callbacks.TensorBoard(log_dir=log_dir, histogram_freq=1)\n",
        "# print(log_dir)\n",
        " \n",
        "#filepath 可以包括命名格式选项，可以由 epoch 的值和 logs 的键（由 on_epoch_end 参数传递）来填充。\n",
        "#例如：如果 filepath 是 weights.{epoch:02d}-{val_loss:.2f}.hdf5， 那么模型被保存的的文件名就会有训练轮数和验证损失。\n",
        "\n",
        "#monitor: 被监测的数据。\n",
        "#verbose: 详细信息模式，0 或者 1 。\n",
        "#save_best_only: 如果 save_best_only=True， 被监测数据的最佳模型就不会被覆盖。\n",
        "#mode: {auto, min, max} 的其中之一。 如果 save_best_only=True，那么是否覆盖保存文件的决定就取决于被监测数据的最大或者最小值。 对于 val_acc，模式就会是 max，而对于 val_loss，模式就需要是 min，等等。 在 auto 模式中，方向会自动从被监测的数据的名字中判断出来。\n",
        "#save_weights_only: 如果 True，那么只有模型的权重会被保存 (model.save_weights(filepath))， 否则的话，整个模型会被保存 (model.save(filepath))。\n",
        "# keras.callbacks.ModelCheckpoint(filepath, monitor='val_loss', verbose=0, save_best_only=False, save_weights_only=False, mode='auto', period=1)\n",
        "checkpoint = ModelCheckpoint(Model_DIR + 'ep{epoch:03d}-loss{loss:.3f}-val_loss{val_loss:.3f}.h5',\n",
        "                             monitor='val_loss', save_weights_only=True, save_best_only=True, period=3)\n",
        "\n",
        "\n",
        "reduce_lr = ReduceLROnPlateau(monitor='val_loss', factor=DECAY, patience=4, verbose=1)\n",
        "early_stopping = EarlyStopping(monitor='val_loss', min_delta=0, patience=15, verbose=1)"
      ],
      "execution_count": 0,
      "outputs": [
        {
          "output_type": "stream",
          "text": [
            "WARNING:tensorflow:`period` argument is deprecated. Please use `save_freq` to specify the frequency in number of samples seen.\n"
          ],
          "name": "stdout"
        }
      ]
    },
    {
      "cell_type": "code",
      "metadata": {
        "id": "KyS4n53w7DxC",
        "colab_type": "code",
        "outputId": "49aef4ed-b6ab-43dd-cf68-e499eee2c94a",
        "colab": {
          "base_uri": "https://localhost:8080/",
          "height": 1000
        }
      },
      "source": [
        "# Remember to add callbacks here...\n",
        "\n",
        "history = model.fit_generator(train_generator,\n",
        "                              epochs=Epochs,\n",
        "                              verbose=1,\n",
        "                              validation_data=validation_generator, \n",
        "                              # callbacks=[tensorboard_callback,checkpoint,reduce_lr,early_stopping])\n",
        "                              callbacks=[WandbCallback(),checkpoint,reduce_lr,early_stopping])\n",
        "\n",
        "# The expectation here is that the model will train, and that accuracy will be > 95% on both training and validation\n",
        "# i.e. acc:A1 and val_acc:A2 will be visible, and both A1 and A2 will be > .9"
      ],
      "execution_count": 0,
      "outputs": [
        {
          "output_type": "stream",
          "text": [
            "WARNING:tensorflow:From <ipython-input-28-2dbe0ac4abf8>:7: Model.fit_generator (from tensorflow.python.keras.engine.training) is deprecated and will be removed in a future version.\n",
            "Instructions for updating:\n",
            "Please use Model.fit, which supports generators.\n",
            "WARNING:tensorflow:sample_weight modes were coerced from\n",
            "  ...\n",
            "    to  \n",
            "  ['...']\n",
            "WARNING:tensorflow:sample_weight modes were coerced from\n",
            "  ...\n",
            "    to  \n",
            "  ['...']\n",
            "Train for 703 steps, validate for 79 steps\n",
            "Epoch 1/50\n",
            "703/703 [==============================] - 91s 129ms/step - loss: 0.6399 - acc: 0.6546 - val_loss: 0.5259 - val_acc: 0.7458\n",
            "Epoch 2/50\n",
            "703/703 [==============================] - 79s 113ms/step - loss: 0.5087 - acc: 0.7545 - val_loss: 0.4486 - val_acc: 0.7842\n",
            "Epoch 3/50\n",
            "703/703 [==============================] - 78s 112ms/step - loss: 0.4037 - acc: 0.8178 - val_loss: 0.3418 - val_acc: 0.8537\n",
            "Epoch 4/50\n",
            "703/703 [==============================] - 78s 112ms/step - loss: 0.3124 - acc: 0.8662 - val_loss: 0.3265 - val_acc: 0.8577\n",
            "Epoch 5/50\n",
            "703/703 [==============================] - 78s 111ms/step - loss: 0.2534 - acc: 0.8932 - val_loss: 0.2457 - val_acc: 0.8889\n",
            "Epoch 6/50\n",
            "703/703 [==============================] - 78s 111ms/step - loss: 0.2182 - acc: 0.9095 - val_loss: 0.2314 - val_acc: 0.8981\n",
            "Epoch 7/50\n",
            "703/703 [==============================] - 78s 111ms/step - loss: 0.1854 - acc: 0.9235 - val_loss: 0.1856 - val_acc: 0.9273\n",
            "Epoch 8/50\n",
            "703/703 [==============================] - 78s 111ms/step - loss: 0.1606 - acc: 0.9347 - val_loss: 0.2492 - val_acc: 0.8945\n",
            "Epoch 9/50\n",
            "703/703 [==============================] - 78s 111ms/step - loss: 0.1373 - acc: 0.9458 - val_loss: 0.1634 - val_acc: 0.9305\n",
            "Epoch 10/50\n",
            "703/703 [==============================] - 78s 111ms/step - loss: 0.1145 - acc: 0.9544 - val_loss: 0.1573 - val_acc: 0.9376\n",
            "Epoch 11/50\n",
            "703/703 [==============================] - 78s 111ms/step - loss: 0.0961 - acc: 0.9611 - val_loss: 0.1538 - val_acc: 0.9388\n",
            "Epoch 12/50\n",
            "703/703 [==============================] - 78s 110ms/step - loss: 0.0825 - acc: 0.9702 - val_loss: 0.1988 - val_acc: 0.9269\n",
            "Epoch 13/50\n",
            "703/703 [==============================] - 77s 110ms/step - loss: 0.0679 - acc: 0.9752 - val_loss: 0.1984 - val_acc: 0.9241\n",
            "Epoch 14/50\n",
            "703/703 [==============================] - 78s 111ms/step - loss: 0.0625 - acc: 0.9758 - val_loss: 0.1594 - val_acc: 0.9373\n",
            "Epoch 15/50\n",
            "702/703 [============================>.] - ETA: 0s - loss: 0.0495 - acc: 0.9819\n",
            "Epoch 00015: ReduceLROnPlateau reducing learning rate to 0.001200000010430813.\n",
            "703/703 [==============================] - 78s 111ms/step - loss: 0.0495 - acc: 0.9819 - val_loss: 0.1663 - val_acc: 0.9349\n",
            "Epoch 16/50\n",
            "703/703 [==============================] - 79s 113ms/step - loss: 0.0231 - acc: 0.9927 - val_loss: 0.1528 - val_acc: 0.9500\n",
            "Epoch 17/50\n",
            "703/703 [==============================] - 79s 113ms/step - loss: 0.0142 - acc: 0.9955 - val_loss: 0.1684 - val_acc: 0.9488\n",
            "Epoch 18/50\n",
            "703/703 [==============================] - 80s 113ms/step - loss: 0.0136 - acc: 0.9951 - val_loss: 0.1515 - val_acc: 0.9496\n",
            "Epoch 19/50\n",
            "703/703 [==============================] - 80s 114ms/step - loss: 0.0114 - acc: 0.9967 - val_loss: 0.1737 - val_acc: 0.9468\n",
            "Epoch 20/50\n",
            "703/703 [==============================] - 82s 117ms/step - loss: 0.0125 - acc: 0.9957 - val_loss: 0.1636 - val_acc: 0.9496\n",
            "Epoch 21/50\n",
            "703/703 [==============================] - 81s 115ms/step - loss: 0.0145 - acc: 0.9950 - val_loss: 0.2096 - val_acc: 0.9436\n",
            "Epoch 22/50\n",
            "702/703 [============================>.] - ETA: 0s - loss: 0.0132 - acc: 0.9956\n",
            "Epoch 00022: ReduceLROnPlateau reducing learning rate to 0.00048000002279877666.\n",
            "703/703 [==============================] - 79s 113ms/step - loss: 0.0133 - acc: 0.9956 - val_loss: 0.1683 - val_acc: 0.9516\n",
            "Epoch 23/50\n",
            "703/703 [==============================] - 79s 113ms/step - loss: 0.0055 - acc: 0.9987 - val_loss: 0.1650 - val_acc: 0.9512\n",
            "Epoch 24/50\n",
            "703/703 [==============================] - 80s 114ms/step - loss: 0.0050 - acc: 0.9984 - val_loss: 0.1809 - val_acc: 0.9504\n",
            "Epoch 25/50\n",
            "703/703 [==============================] - 79s 113ms/step - loss: 0.0052 - acc: 0.9984 - val_loss: 0.1789 - val_acc: 0.9480\n",
            "Epoch 26/50\n",
            "702/703 [============================>.] - ETA: 0s - loss: 0.0040 - acc: 0.9988\n",
            "Epoch 00026: ReduceLROnPlateau reducing learning rate to 0.00019200000679120421.\n",
            "703/703 [==============================] - 80s 113ms/step - loss: 0.0040 - acc: 0.9988 - val_loss: 0.1908 - val_acc: 0.9552\n",
            "Epoch 27/50\n",
            "703/703 [==============================] - 80s 113ms/step - loss: 0.0036 - acc: 0.9991 - val_loss: 0.1797 - val_acc: 0.9524\n",
            "Epoch 28/50\n",
            "703/703 [==============================] - 81s 115ms/step - loss: 0.0028 - acc: 0.9992 - val_loss: 0.1800 - val_acc: 0.9524\n",
            "Epoch 29/50\n",
            "703/703 [==============================] - 80s 114ms/step - loss: 0.0028 - acc: 0.9992 - val_loss: 0.2066 - val_acc: 0.9520\n",
            "Epoch 30/50\n",
            "702/703 [============================>.] - ETA: 0s - loss: 0.0031 - acc: 0.9992\n",
            "Epoch 00030: ReduceLROnPlateau reducing learning rate to 7.680000271648169e-05.\n",
            "703/703 [==============================] - 80s 114ms/step - loss: 0.0031 - acc: 0.9992 - val_loss: 0.2139 - val_acc: 0.9520\n",
            "Epoch 31/50\n",
            "703/703 [==============================] - 81s 115ms/step - loss: 0.0018 - acc: 0.9995 - val_loss: 0.1873 - val_acc: 0.9540\n",
            "Epoch 32/50\n",
            "703/703 [==============================] - 81s 116ms/step - loss: 0.0019 - acc: 0.9995 - val_loss: 0.1849 - val_acc: 0.9548\n",
            "Epoch 33/50\n",
            "703/703 [==============================] - 81s 115ms/step - loss: 0.0018 - acc: 0.9996 - val_loss: 0.1788 - val_acc: 0.9556\n",
            "Epoch 00033: early stopping\n"
          ],
          "name": "stdout"
        }
      ]
    },
    {
      "cell_type": "markdown",
      "metadata": {
        "id": "b2FosshNNmY0",
        "colab_type": "text"
      },
      "source": [
        "# Plot acc,loss"
      ]
    },
    {
      "cell_type": "code",
      "metadata": {
        "id": "MWZrJN4-65RC",
        "colab_type": "code",
        "outputId": "15c9ff2c-0ac0-4622-bc82-6c75b870468e",
        "colab": {
          "base_uri": "https://localhost:8080/",
          "height": 562
        }
      },
      "source": [
        "# PLOT LOSS AND ACCURACY \n",
        "%matplotlib inline\n",
        "\n",
        "import matplotlib.image  as mpimg\n",
        "import matplotlib.pyplot as plt\n",
        "\n",
        "#-----------------------------------------------------------\n",
        "# Retrieve a list of list results on training and test data\n",
        "# sets for each training epoch\n",
        "#-----------------------------------------------------------\n",
        "acc=history.history['acc']\n",
        "val_acc=history.history['val_acc']\n",
        "loss=history.history['loss']\n",
        "val_loss=history.history['val_loss']\n",
        "\n",
        "epochs=range(len(acc)) # Get number of epochs\n",
        "\n",
        "#------------------------------------------------\n",
        "# Plot training and validation accuracy per epoch\n",
        "#------------------------------------------------\n",
        "plt.plot(epochs, acc, 'r', \"Training Accuracy\")\n",
        "plt.plot(epochs, val_acc, 'b', \"Validation Accuracy\")\n",
        "plt.title('Training and validation accuracy')\n",
        "plt.figure()\n",
        "\n",
        "#------------------------------------------------\n",
        "# Plot training and validation loss per epoch\n",
        "#------------------------------------------------\n",
        "plt.plot(epochs, loss, 'r', \"Training Loss\")\n",
        "plt.plot(epochs, val_loss, 'b', \"Validation Loss\")\n",
        "\n",
        "\n",
        "plt.title('Training and validation loss')\n",
        "\n",
        "# Desired output. Charts with training and validation metrics. No crash :)"
      ],
      "execution_count": 0,
      "outputs": [
        {
          "output_type": "execute_result",
          "data": {
            "text/plain": [
              "Text(0.5, 1.0, 'Training and validation loss')"
            ]
          },
          "metadata": {
            "tags": []
          },
          "execution_count": 29
        },
        {
          "output_type": "display_data",
          "data": {
            "image/png": "[encoded data removed]",
            "text/plain": [
              "<Figure size 432x288 with 1 Axes>"
            ]
          },
          "metadata": {
            "tags": []
          }
        },
        {
          "output_type": "display_data",
          "data": {
            "image/png": "[encoded data removed]",
            "text/plain": [
              "<Figure size 432x288 with 1 Axes>"
            ]
          },
          "metadata": {
            "tags": []
          }
        }
      ]
    },
    {
      "cell_type": "markdown",
      "metadata": {
        "id": "LbECsN7xyGR3",
        "colab_type": "text"
      },
      "source": [
        "#load Model"
      ]
    },
    {
      "cell_type": "code",
      "metadata": {
        "id": "x4BbGY3NyE3X",
        "colab_type": "code",
        "outputId": "9e743ab1-a6d4-49e5-968a-28951eb7ea96",
        "colab": {
          "base_uri": "https://localhost:8080/",
          "height": 1000
        }
      },
      "source": [
        "model.summary()"
      ],
      "execution_count": 0,
      "outputs": [
        {
          "output_type": "stream",
          "text": [
            "Model: \"sequential\"\n",
            "_________________________________________________________________\n",
            "Layer (type)                 Output Shape              Param #   \n",
            "=================================================================\n",
            "conv2d (Conv2D)              (None, 298, 298, 16)      448       \n",
            "_________________________________________________________________\n",
            "batch_normalization (BatchNo (None, 298, 298, 16)      64        \n",
            "_________________________________________________________________\n",
            "activation (Activation)      (None, 298, 298, 16)      0         \n",
            "_________________________________________________________________\n",
            "max_pooling2d (MaxPooling2D) (None, 149, 149, 16)      0         \n",
            "_________________________________________________________________\n",
            "dropout (Dropout)            (None, 149, 149, 16)      0         \n",
            "_________________________________________________________________\n",
            "conv2d_1 (Conv2D)            (None, 147, 147, 32)      4640      \n",
            "_________________________________________________________________\n",
            "batch_normalization_1 (Batch (None, 147, 147, 32)      128       \n",
            "_________________________________________________________________\n",
            "activation_1 (Activation)    (None, 147, 147, 32)      0         \n",
            "_________________________________________________________________\n",
            "max_pooling2d_1 (MaxPooling2 (None, 73, 73, 32)        0         \n",
            "_________________________________________________________________\n",
            "dropout_1 (Dropout)          (None, 73, 73, 32)        0         \n",
            "_________________________________________________________________\n",
            "conv2d_2 (Conv2D)            (None, 71, 71, 64)        18496     \n",
            "_________________________________________________________________\n",
            "batch_normalization_2 (Batch (None, 71, 71, 64)        256       \n",
            "_________________________________________________________________\n",
            "activation_2 (Activation)    (None, 71, 71, 64)        0         \n",
            "_________________________________________________________________\n",
            "max_pooling2d_2 (MaxPooling2 (None, 35, 35, 64)        0         \n",
            "_________________________________________________________________\n",
            "dropout_2 (Dropout)          (None, 35, 35, 64)        0         \n",
            "_________________________________________________________________\n",
            "conv2d_3 (Conv2D)            (None, 33, 33, 128)       73856     \n",
            "_________________________________________________________________\n",
            "batch_normalization_3 (Batch (None, 33, 33, 128)       512       \n",
            "_________________________________________________________________\n",
            "activation_3 (Activation)    (None, 33, 33, 128)       0         \n",
            "_________________________________________________________________\n",
            "max_pooling2d_3 (MaxPooling2 (None, 16, 16, 128)       0         \n",
            "_________________________________________________________________\n",
            "conv2d_4 (Conv2D)            (None, 14, 14, 256)       295168    \n",
            "_________________________________________________________________\n",
            "batch_normalization_4 (Batch (None, 14, 14, 256)       1024      \n",
            "_________________________________________________________________\n",
            "activation_4 (Activation)    (None, 14, 14, 256)       0         \n",
            "_________________________________________________________________\n",
            "max_pooling2d_4 (MaxPooling2 (None, 7, 7, 256)         0         \n",
            "_________________________________________________________________\n",
            "dropout_3 (Dropout)          (None, 7, 7, 256)         0         \n",
            "_________________________________________________________________\n",
            "flatten (Flatten)            (None, 12544)             0         \n",
            "_________________________________________________________________\n",
            "dense (Dense)                (None, 512)               6423040   \n",
            "_________________________________________________________________\n",
            "batch_normalization_5 (Batch (None, 512)               2048      \n",
            "_________________________________________________________________\n",
            "activation_5 (Activation)    (None, 512)               0         \n",
            "_________________________________________________________________\n",
            "dropout_4 (Dropout)          (None, 512)               0         \n",
            "_________________________________________________________________\n",
            "dense_1 (Dense)              (None, 1)                 513       \n",
            "=================================================================\n",
            "Total params: 6,820,193\n",
            "Trainable params: 6,818,177\n",
            "Non-trainable params: 2,016\n",
            "_________________________________________________________________\n"
          ],
          "name": "stdout"
        }
      ]
    },
    {
      "cell_type": "code",
      "metadata": {
        "id": "Ed3ddXXJyOc1",
        "colab_type": "code",
        "outputId": "6ffc6dea-4a0c-44d5-f58c-7424f7d7134a",
        "colab": {
          "base_uri": "https://localhost:8080/",
          "height": 34
        }
      },
      "source": [
        "LOG_DIR"
      ],
      "execution_count": 0,
      "outputs": [
        {
          "output_type": "execute_result",
          "data": {
            "text/plain": [
              "'/content/drive/My Drive/logs/cat_dog/'"
            ]
          },
          "metadata": {
            "tags": []
          },
          "execution_count": 24
        }
      ]
    },
    {
      "cell_type": "code",
      "metadata": {
        "id": "gkHd-i8JyKSL",
        "colab_type": "code",
        "colab": {}
      },
      "source": [
        "model.load_weights(LOG_DIR + 'ep036-loss0.119-val_loss0.129.h5')"
      ],
      "execution_count": 0,
      "outputs": []
    },
    {
      "cell_type": "markdown",
      "metadata": {
        "id": "qS2UU1QtN2mP",
        "colab_type": "text"
      },
      "source": [
        "# Predict"
      ]
    },
    {
      "cell_type": "markdown",
      "metadata": {
        "id": "FH4ljfPlGJl3",
        "colab_type": "text"
      },
      "source": [
        "## REMEMBER TO ADD (1/255) !!!"
      ]
    },
    {
      "cell_type": "code",
      "metadata": {
        "id": "_GUKKcMMGH5L",
        "colab_type": "code",
        "colab": {}
      },
      "source": [
        ""
      ],
      "execution_count": 0,
      "outputs": []
    },
    {
      "cell_type": "code",
      "metadata": {
        "id": "LqL6FYUrtXpf",
        "colab_type": "code",
        "outputId": "8ebb1158-4db2-4104-c797-33f17f372212",
        "colab": {
          "resources": {
            "http://localhost:8080/nbextensions/google.colab/files.js": {
              "data": "Ly8gQ29weXJpZ2h0IDIwMTcgR29vZ2xlIExMQwovLwovLyBMaWNlbnNlZCB1bmRlciB0aGUgQXBhY2hlIExpY2Vuc2UsIFZlcnNpb24gMi4wICh0aGUgIkxpY2Vuc2UiKTsKLy8geW91IG1heSBub3QgdXNlIHRoaXMgZmlsZSBleGNlcHQgaW4gY29tcGxpYW5jZSB3aXRoIHRoZSBMaWNlbnNlLgovLyBZb3UgbWF5IG9idGFpbiBhIGNvcHkgb2YgdGhlIExpY2Vuc2UgYXQKLy8KLy8gICAgICBodHRwOi8vd3d3LmFwYWNoZS5vcmcvbGljZW5zZXMvTElDRU5TRS0yLjAKLy8KLy8gVW5sZXNzIHJlcXVpcmVkIGJ5IGFwcGxpY2FibGUgbGF3IG9yIGFncmVlZCB0byBpbiB3cml0aW5nLCBzb2Z0d2FyZQovLyBkaXN0cmlidXRlZCB1bmRlciB0aGUgTGljZW5zZSBpcyBkaXN0cmlidXRlZCBvbiBhbiAiQVMgSVMiIEJBU0lTLAovLyBXSVRIT1VUIFdBUlJBTlRJRVMgT1IgQ09ORElUSU9OUyBPRiBBTlkgS0lORCwgZWl0aGVyIGV4cHJlc3Mgb3IgaW1wbGllZC4KLy8gU2VlIHRoZSBMaWNlbnNlIGZvciB0aGUgc3BlY2lmaWMgbGFuZ3VhZ2UgZ292ZXJuaW5nIHBlcm1pc3Npb25zIGFuZAovLyBsaW1pdGF0aW9ucyB1bmRlciB0aGUgTGljZW5zZS4KCi8qKgogKiBAZmlsZW92ZXJ2aWV3IEhlbHBlcnMgZm9yIGdvb2dsZS5jb2xhYiBQeXRob24gbW9kdWxlLgogKi8KKGZ1bmN0aW9uKHNjb3BlKSB7CmZ1bmN0aW9uIHNwYW4odGV4dCwgc3R5bGVBdHRyaWJ1dGVzID0ge30pIHsKICBjb25zdCBlbGVtZW50ID0gZG9jdW1lbnQuY3JlYXRlRWxlbWVudCgnc3BhbicpOwogIGVsZW1lbnQudGV4dENvbnRlbnQgPSB0ZXh0OwogIGZvciAoY29uc3Qga2V5IG9mIE9iamVjdC5rZXlzKHN0eWxlQXR0cmlidXRlcykpIHsKICAgIGVsZW1lbnQuc3R5bGVba2V5XSA9IHN0eWxlQXR0cmlidXRlc1trZXldOwogIH0KICByZXR1cm4gZWxlbWVudDsKfQoKLy8gTWF4IG51bWJlciBvZiBieXRlcyB3aGljaCB3aWxsIGJlIHVwbG9hZGVkIGF0IGEgdGltZS4KY29uc3QgTUFYX1BBWUxPQURfU0laRSA9IDEwMCAqIDEwMjQ7Ci8vIE1heCBhbW91bnQgb2YgdGltZSB0byBibG9jayB3YWl0aW5nIGZvciB0aGUgdXNlci4KY29uc3QgRklMRV9DSEFOR0VfVElNRU9VVF9NUyA9IDMwICogMTAwMDsKCmZ1bmN0aW9uIF91cGxvYWRGaWxlcyhpbnB1dElkLCBvdXRwdXRJZCkgewogIGNvbnN0IHN0ZXBzID0gdXBsb2FkRmlsZXNTdGVwKGlucHV0SWQsIG91dHB1dElkKTsKICBjb25zdCBvdXRwdXRFbGVtZW50ID0gZG9jdW1lbnQuZ2V0RWxlbWVudEJ5SWQob3V0cHV0SWQpOwogIC8vIENhY2hlIHN0ZXBzIG9uIHRoZSBvdXRwdXRFbGVtZW50IHRvIG1ha2UgaXQgYXZhaWxhYmxlIGZvciB0aGUgbmV4dCBjYWxsCiAgLy8gdG8gdXBsb2FkRmlsZXNDb250aW51ZSBmcm9tIFB5dGhvbi4KICBvdXRwdXRFbGVtZW50LnN0ZXBzID0gc3RlcHM7CgogIHJldHVybiBfdXBsb2FkRmlsZXNDb250aW51ZShvdXRwdXRJZCk7Cn0KCi8vIFRoaXMgaXMgcm91Z2hseSBhbiBhc3luYyBnZW5lcmF0b3IgKG5vdCBzdXBwb3J0ZWQgaW4gdGhlIGJyb3dzZXIgeWV0KSwKLy8gd2hlcmUgdGhlcmUgYXJlIG11bHRpcGxlIGFzeW5jaHJvbm91cyBzdGVwcyBhbmQgdGhlIFB5dGhvbiBzaWRlIGlzIGdvaW5nCi8vIHRvIHBvbGwgZm9yIGNvbXBsZXRpb24gb2YgZWFjaCBzdGVwLgovLyBUaGlzIHVzZXMgYSBQcm9taXNlIHRvIGJsb2NrIHRoZSBweXRob24gc2lkZSBvbiBjb21wbGV0aW9uIG9mIGVhY2ggc3RlcCwKLy8gdGhlbiBwYXNzZXMgdGhlIHJlc3VsdCBvZiB0aGUgcHJldmlvdXMgc3RlcCBhcyB0aGUgaW5wdXQgdG8gdGhlIG5leHQgc3RlcC4KZnVuY3Rpb24gX3VwbG9hZEZpbGVzQ29udGludWUob3V0cHV0SWQpIHsKICBjb25zdCBvdXRwdXRFbGVtZW50ID0gZG9jdW1lbnQuZ2V0RWxlbWVudEJ5SWQob3V0cHV0SWQpOwogIGNvbnN0IHN0ZXBzID0gb3V0cHV0RWxlbWVudC5zdGVwczsKCiAgY29uc3QgbmV4dCA9IHN0ZXBzLm5leHQob3V0cHV0RWxlbWVudC5sYXN0UHJvbWlzZVZhbHVlKTsKICByZXR1cm4gUHJvbWlzZS5yZXNvbHZlKG5leHQudmFsdWUucHJvbWlzZSkudGhlbigodmFsdWUpID0+IHsKICAgIC8vIENhY2hlIHRoZSBsYXN0IHByb21pc2UgdmFsdWUgdG8gbWFrZSBpdCBhdmFpbGFibGUgdG8gdGhlIG5leHQKICAgIC8vIHN0ZXAgb2YgdGhlIGdlbmVyYXRvci4KICAgIG91dHB1dEVsZW1lbnQubGFzdFByb21pc2VWYWx1ZSA9IHZhbHVlOwogICAgcmV0dXJuIG5leHQudmFsdWUucmVzcG9uc2U7CiAgfSk7Cn0KCi8qKgogKiBHZW5lcmF0b3IgZnVuY3Rpb24gd2hpY2ggaXMgY2FsbGVkIGJldHdlZW4gZWFjaCBhc3luYyBzdGVwIG9mIHRoZSB1cGxvYWQKICogcHJvY2Vzcy4KICogQHBhcmFtIHtzdHJpbmd9IGlucHV0SWQgRWxlbWVudCBJRCBvZiB0aGUgaW5wdXQgZmlsZSBwaWNrZXIgZWxlbWVudC4KICogQHBhcmFtIHtzdHJpbmd9IG91dHB1dElkIEVsZW1lbnQgSUQgb2YgdGhlIG91dHB1dCBkaXNwbGF5LgogKiBAcmV0dXJuIHshSXRlcmFibGU8IU9iamVjdD59IEl0ZXJhYmxlIG9mIG5leHQgc3RlcHMuCiAqLwpmdW5jdGlvbiogdXBsb2FkRmlsZXNTdGVwKGlucHV0SWQsIG91dHB1dElkKSB7CiAgY29uc3QgaW5wdXRFbGVtZW50ID0gZG9jdW1lbnQuZ2V0RWxlbWVudEJ5SWQoaW5wdXRJZCk7CiAgaW5wdXRFbGVtZW50LmRpc2FibGVkID0gZmFsc2U7CgogIGNvbnN0IG91dHB1dEVsZW1lbnQgPSBkb2N1bWVudC5nZXRFbGVtZW50QnlJZChvdXRwdXRJZCk7CiAgb3V0cHV0RWxlbWVudC5pbm5lckhUTUwgPSAnJzsKCiAgY29uc3QgcGlja2VkUHJvbWlzZSA9IG5ldyBQcm9taXNlKChyZXNvbHZlKSA9PiB7CiAgICBpbnB1dEVsZW1lbnQuYWRkRXZlbnRMaXN0ZW5lcignY2hhbmdlJywgKGUpID0+IHsKICAgICAgcmVzb2x2ZShlLnRhcmdldC5maWxlcyk7CiAgICB9KTsKICB9KTsKCiAgY29uc3QgY2FuY2VsID0gZG9jdW1lbnQuY3JlYXRlRWxlbWVudCgnYnV0dG9uJyk7CiAgaW5wdXRFbGVtZW50LnBhcmVudEVsZW1lbnQuYXBwZW5kQ2hpbGQoY2FuY2VsKTsKICBjYW5jZWwudGV4dENvbnRlbnQgPSAnQ2FuY2VsIHVwbG9hZCc7CiAgY29uc3QgY2FuY2VsUHJvbWlzZSA9IG5ldyBQcm9taXNlKChyZXNvbHZlKSA9PiB7CiAgICBjYW5jZWwub25jbGljayA9ICgpID0+IHsKICAgICAgcmVzb2x2ZShudWxsKTsKICAgIH07CiAgfSk7CgogIC8vIENhbmNlbCB1cGxvYWQgaWYgdXNlciBoYXNuJ3QgcGlja2VkIGFueXRoaW5nIGluIHRpbWVvdXQuCiAgY29uc3QgdGltZW91dFByb21pc2UgPSBuZXcgUHJvbWlzZSgocmVzb2x2ZSkgPT4gewogICAgc2V0VGltZW91dCgoKSA9PiB7CiAgICAgIHJlc29sdmUobnVsbCk7CiAgICB9LCBGSUxFX0NIQU5HRV9USU1FT1VUX01TKTsKICB9KTsKCiAgLy8gV2FpdCBmb3IgdGhlIHVzZXIgdG8gcGljayB0aGUgZmlsZXMuCiAgY29uc3QgZmlsZXMgPSB5aWVsZCB7CiAgICBwcm9taXNlOiBQcm9taXNlLnJhY2UoW3BpY2tlZFByb21pc2UsIHRpbWVvdXRQcm9taXNlLCBjYW5jZWxQcm9taXNlXSksCiAgICByZXNwb25zZTogewogICAgICBhY3Rpb246ICdzdGFydGluZycsCiAgICB9CiAgfTsKCiAgaWYgKCFmaWxlcykgewogICAgcmV0dXJuIHsKICAgICAgcmVzcG9uc2U6IHsKICAgICAgICBhY3Rpb246ICdjb21wbGV0ZScsCiAgICAgIH0KICAgIH07CiAgfQoKICBjYW5jZWwucmVtb3ZlKCk7CgogIC8vIERpc2FibGUgdGhlIGlucHV0IGVsZW1lbnQgc2luY2UgZnVydGhlciBwaWNrcyBhcmUgbm90IGFsbG93ZWQuCiAgaW5wdXRFbGVtZW50LmRpc2FibGVkID0gdHJ1ZTsKCiAgZm9yIChjb25zdCBmaWxlIG9mIGZpbGVzKSB7CiAgICBjb25zdCBsaSA9IGRvY3VtZW50LmNyZWF0ZUVsZW1lbnQoJ2xpJyk7CiAgICBsaS5hcHBlbmQoc3BhbihmaWxlLm5hbWUsIHtmb250V2VpZ2h0OiAnYm9sZCd9KSk7CiAgICBsaS5hcHBlbmQoc3BhbigKICAgICAgICBgKCR7ZmlsZS50eXBlIHx8ICduL2EnfSkgLSAke2ZpbGUuc2l6ZX0gYnl0ZXMsIGAgKwogICAgICAgIGBsYXN0IG1vZGlmaWVkOiAkewogICAgICAgICAgICBmaWxlLmxhc3RNb2RpZmllZERhdGUgPyBmaWxlLmxhc3RNb2RpZmllZERhdGUudG9Mb2NhbGVEYXRlU3RyaW5nKCkgOgogICAgICAgICAgICAgICAgICAgICAgICAgICAgICAgICAgICAnbi9hJ30gLSBgKSk7CiAgICBjb25zdCBwZXJjZW50ID0gc3BhbignMCUgZG9uZScpOwogICAgbGkuYXBwZW5kQ2hpbGQocGVyY2VudCk7CgogICAgb3V0cHV0RWxlbWVudC5hcHBlbmRDaGlsZChsaSk7CgogICAgY29uc3QgZmlsZURhdGFQcm9taXNlID0gbmV3IFByb21pc2UoKHJlc29sdmUpID0+IHsKICAgICAgY29uc3QgcmVhZGVyID0gbmV3IEZpbGVSZWFkZXIoKTsKICAgICAgcmVhZGVyLm9ubG9hZCA9IChlKSA9PiB7CiAgICAgICAgcmVzb2x2ZShlLnRhcmdldC5yZXN1bHQpOwogICAgICB9OwogICAgICByZWFkZXIucmVhZEFzQXJyYXlCdWZmZXIoZmlsZSk7CiAgICB9KTsKICAgIC8vIFdhaXQgZm9yIHRoZSBkYXRhIHRvIGJlIHJlYWR5LgogICAgbGV0IGZpbGVEYXRhID0geWllbGQgewogICAgICBwcm9taXNlOiBmaWxlRGF0YVByb21pc2UsCiAgICAgIHJlc3BvbnNlOiB7CiAgICAgICAgYWN0aW9uOiAnY29udGludWUnLAogICAgICB9CiAgICB9OwoKICAgIC8vIFVzZSBhIGNodW5rZWQgc2VuZGluZyB0byBhdm9pZCBtZXNzYWdlIHNpemUgbGltaXRzLiBTZWUgYi82MjExNTY2MC4KICAgIGxldCBwb3NpdGlvbiA9IDA7CiAgICB3aGlsZSAocG9zaXRpb24gPCBmaWxlRGF0YS5ieXRlTGVuZ3RoKSB7CiAgICAgIGNvbnN0IGxlbmd0aCA9IE1hdGgubWluKGZpbGVEYXRhLmJ5dGVMZW5ndGggLSBwb3NpdGlvbiwgTUFYX1BBWUxPQURfU0laRSk7CiAgICAgIGNvbnN0IGNodW5rID0gbmV3IFVpbnQ4QXJyYXkoZmlsZURhdGEsIHBvc2l0aW9uLCBsZW5ndGgpOwogICAgICBwb3NpdGlvbiArPSBsZW5ndGg7CgogICAgICBjb25zdCBiYXNlNjQgPSBidG9hKFN0cmluZy5mcm9tQ2hhckNvZGUuYXBwbHkobnVsbCwgY2h1bmspKTsKICAgICAgeWllbGQgewogICAgICAgIHJlc3BvbnNlOiB7CiAgICAgICAgICBhY3Rpb246ICdhcHBlbmQnLAogICAgICAgICAgZmlsZTogZmlsZS5uYW1lLAogICAgICAgICAgZGF0YTogYmFzZTY0LAogICAgICAgIH0sCiAgICAgIH07CiAgICAgIHBlcmNlbnQudGV4dENvbnRlbnQgPQogICAgICAgICAgYCR7TWF0aC5yb3VuZCgocG9zaXRpb24gLyBmaWxlRGF0YS5ieXRlTGVuZ3RoKSAqIDEwMCl9JSBkb25lYDsKICAgIH0KICB9CgogIC8vIEFsbCBkb25lLgogIHlpZWxkIHsKICAgIHJlc3BvbnNlOiB7CiAgICAgIGFjdGlvbjogJ2NvbXBsZXRlJywKICAgIH0KICB9Owp9CgpzY29wZS5nb29nbGUgPSBzY29wZS5nb29nbGUgfHwge307CnNjb3BlLmdvb2dsZS5jb2xhYiA9IHNjb3BlLmdvb2dsZS5jb2xhYiB8fCB7fTsKc2NvcGUuZ29vZ2xlLmNvbGFiLl9maWxlcyA9IHsKICBfdXBsb2FkRmlsZXMsCiAgX3VwbG9hZEZpbGVzQ29udGludWUsCn07Cn0pKHNlbGYpOwo=",
              "ok": true,
              "headers": [
                [
                  "content-type",
                  "application/javascript"
                ]
              ],
              "status": 200,
              "status_text": ""
            }
          },
          "base_uri": "https://localhost:8080/",
          "height": 1000
        }
      },
      "source": [
        "# Here's a codeblock just for fun. You should be able to upload an image here \n",
        "# and have it classified without crashing\n",
        "\n",
        "import numpy as np\n",
        "from google.colab import files\n",
        "from keras.preprocessing import image\n",
        "\n",
        "uploaded = files.upload()\n",
        "\n",
        "for fn in uploaded.keys():\n",
        " \n",
        "  # predicting images\n",
        "  path = '/content/' + fn\n",
        "  img = image.load_img(path, target_size=(150,150))\n",
        "  x = image.img_to_array(img) * (1/255)\n",
        "  x = np.expand_dims(x, axis=0)\n",
        "\n",
        "  images = np.vstack([x])\n",
        "  classes = model.predict(images, batch_size=10)\n",
        "  print(classes)\n",
        "  print(classes[0])\n",
        "  if classes[0]>0.5:\n",
        "    print(fn + \" is a dog\")\n",
        "  else:\n",
        "    print(fn + \" is a cat\")"
      ],
      "execution_count": 0,
      "outputs": [
        {
          "output_type": "display_data",
          "data": {
            "text/html": [
              "\n",
              "     <input type=\"file\" id=\"files-813222d1-f1c7-4dbb-95e7-7fc1e85889a4\" name=\"files[]\" multiple disabled />\n",
              "     <output id=\"result-813222d1-f1c7-4dbb-95e7-7fc1e85889a4\">\n",
              "      Upload widget is only available when the cell has been executed in the\n",
              "      current browser session. Please rerun this cell to enable.\n",
              "      </output>\n",
              "      <script src=\"/nbextensions/google.colab/files.js\"></script> "
            ],
            "text/plain": [
              "<IPython.core.display.HTML object>"
            ]
          },
          "metadata": {
            "tags": []
          }
        },
        {
          "output_type": "stream",
          "text": [
            "Saving cat1.jpg to cat1 (2).jpg\n",
            "Saving cat2.jpg to cat2 (1).jpg\n",
            "Saving cat3.jpg to cat3 (2).jpg\n",
            "Saving cat4.jpg to cat4 (4).jpg\n",
            "Saving cat5.jpg to cat5 (1).jpg\n",
            "Saving cat6.jpg to cat6 (3).jpg\n",
            "Saving cat7.jpg to cat7 (1).jpg\n",
            "Saving cat8.jpg to cat8 (1).jpg\n",
            "Saving dog1.jpg to dog1 (1).jpg\n",
            "Saving dog2.jpg to dog2 (1).jpg\n",
            "Saving dog3.jpg to dog3 (2).jpg\n",
            "Saving dog4.jpg to dog4 (2).jpg\n",
            "Saving dog5.jpg to dog5 (1).jpg\n",
            "Saving dog6.jpg to dog6 (1).jpg\n",
            "Saving dog7.jpg to dog7 (1).jpg\n",
            "Saving dog8.jpg to dog8 (1).jpg\n",
            "[[0.76533794]]\n",
            "[0.76533794]\n",
            "cat1.jpg is a dog\n",
            "[[0.19487248]]\n",
            "[0.19487248]\n",
            "cat2.jpg is a cat\n",
            "[[0.0174355]]\n",
            "[0.0174355]\n",
            "cat3.jpg is a cat\n",
            "[[0.00066156]]\n",
            "[0.00066156]\n",
            "cat4.jpg is a cat\n",
            "[[0.00593456]]\n",
            "[0.00593456]\n",
            "cat5.jpg is a cat\n",
            "[[0.02451831]]\n",
            "[0.02451831]\n",
            "cat6.jpg is a cat\n",
            "[[0.2138831]]\n",
            "[0.2138831]\n",
            "cat7.jpg is a cat\n",
            "[[0.4728716]]\n",
            "[0.4728716]\n",
            "cat8.jpg is a cat\n",
            "[[1.]]\n",
            "[1.]\n",
            "dog1.jpg is a dog\n",
            "[[0.9999894]]\n",
            "[0.9999894]\n",
            "dog2.jpg is a dog\n",
            "[[0.3093538]]\n",
            "[0.3093538]\n",
            "dog3.jpg is a cat\n",
            "[[0.99971265]]\n",
            "[0.99971265]\n",
            "dog4.jpg is a dog\n",
            "[[0.98296654]]\n",
            "[0.98296654]\n",
            "dog5.jpg is a dog\n",
            "[[0.9959864]]\n",
            "[0.9959864]\n",
            "dog6.jpg is a dog\n",
            "[[0.9803848]]\n",
            "[0.9803848]\n",
            "dog7.jpg is a dog\n",
            "[[0.9999565]]\n",
            "[0.9999565]\n",
            "dog8.jpg is a dog\n"
          ],
          "name": "stdout"
        }
      ]
    },
    {
      "cell_type": "code",
      "metadata": {
        "id": "H7iJAgiq7hwI",
        "colab_type": "code",
        "colab": {}
      },
      "source": [
        "del model"
      ],
      "execution_count": 0,
      "outputs": []
    },
    {
      "cell_type": "code",
      "metadata": {
        "id": "1UBZ81EC2GSh",
        "colab_type": "code",
        "colab": {}
      },
      "source": [
        "# WITH BatchNormalization\n",
        "model = tf.keras.models.Sequential([\n",
        "  tf.keras.layers.Conv2D( 16,(3,3),activation=None,input_shape=(300,300,3)),\n",
        "  tf.keras.layers.BatchNormalization(momentum=0.9),\n",
        "  tf.keras.layers.Activation('relu'),\n",
        "  tf.keras.layers.MaxPool2D(),\n",
        "  # tf.keras.layers.Dropout(0.2),\n",
        "  tf.keras.layers.Conv2D( 32,(3,3),activation=None),\n",
        "  tf.keras.layers.BatchNormalization(momentum=0.9),\n",
        "  tf.keras.layers.Activation('relu'),\n",
        "  tf.keras.layers.MaxPool2D(),\n",
        "  # tf.keras.layers.Dropout(0.2),\n",
        "  tf.keras.layers.Conv2D( 64,(3,3),activation=None),\n",
        "  tf.keras.layers.BatchNormalization(momentum=0.9),\n",
        "  tf.keras.layers.Activation('relu'),\n",
        "  tf.keras.layers.MaxPool2D(),\n",
        "  # tf.keras.layers.Dropout(0.2),\n",
        "  tf.keras.layers.Conv2D(128,(3,3),activation=None),\n",
        "  tf.keras.layers.BatchNormalization(momentum=0.9),\n",
        "  tf.keras.layers.Activation('relu'),\n",
        "  tf.keras.layers.MaxPool2D(),\n",
        "\n",
        "  tf.keras.layers.Conv2D(256,(3,3),activation=None),\n",
        "  tf.keras.layers.BatchNormalization(momentum=0.9),\n",
        "  tf.keras.layers.Activation('relu'),\n",
        "  tf.keras.layers.MaxPool2D(),\n",
        "\n",
        "  # tf.keras.layers.Dropout(0.2),\n",
        "  tf.keras.layers.Flatten(),\n",
        "  tf.keras.layers.Dense(512,activation=None),\n",
        "  tf.keras.layers.BatchNormalization(momentum=0.9),\n",
        "  tf.keras.layers.Activation('relu'),\n",
        "  # tf.keras.layers.Dropout(0.4),\n",
        "  tf.keras.layers.Dense(1,activation=\"sigmoid\")\n",
        "# YOUR CODE HERE\n",
        "])\n"
      ],
      "execution_count": 0,
      "outputs": []
    },
    {
      "cell_type": "code",
      "metadata": {
        "id": "vVaJ67xf2H3f",
        "colab_type": "code",
        "colab": {}
      },
      "source": [
        "model.load_weights(LOG_DIR + 'ep036-loss0.119-val_loss0.129.h5')"
      ],
      "execution_count": 0,
      "outputs": []
    },
    {
      "cell_type": "code",
      "metadata": {
        "id": "vggFyBwP9aEy",
        "colab_type": "code",
        "colab": {}
      },
      "source": [
        "model.compile(optimizer=Adam(lr=LR), loss='binary_crossentropy', metrics=['acc'])"
      ],
      "execution_count": 0,
      "outputs": []
    },
    {
      "cell_type": "code",
      "metadata": {
        "id": "5Fbg92M4Exs1",
        "colab_type": "code",
        "colab": {}
      },
      "source": [
        ""
      ],
      "execution_count": 0,
      "outputs": []
    }
  ]
}